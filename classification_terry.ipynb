{
 "cells": [
  {
   "metadata": {},
   "cell_type": "markdown",
   "source": [
    "# FACE DETECTION MODEL: 2\n",
    "Loading of face detection model"
   ],
   "id": "c8497de26c35f21d"
  },
  {
   "cell_type": "code",
   "id": "173c5154",
   "metadata": {
    "ExecuteTime": {
     "end_time": "2025-07-16T22:22:49.823163Z",
     "start_time": "2025-07-16T22:22:49.247731Z"
    }
   },
   "source": [
    "import numpy as np\n",
    "from ultralytics import YOLO\n",
    "import os\n",
    "from pathlib import Path\n",
    "import cv2\n",
    "\n",
    "os.chdir(\"/home/terra/Documents/AI_engineering/SIDS-project/python_project/SIDS_revelation_project\")\n",
    "model = YOLO(\"2.weights/best.pt\")\n",
    "\n",
    "classes_fd = model.names\n",
    "print(f\"Face detection model is able to detect following classes:\\n{classes_fd}\")"
   ],
   "outputs": [
    {
     "name": "stdout",
     "output_type": "stream",
     "text": [
      "Face detection model is able to detect following classes:\n",
      "{0: 'BABY', 1: 'EYE', 2: 'HEAD', 3: 'MOUTH', 4: 'NOSE'}\n"
     ]
    }
   ],
   "execution_count": 55
  },
  {
   "cell_type": "markdown",
   "id": "394bf165",
   "metadata": {},
   "source": [
    "# DATASET ON BACK/ON STOMACH: 2\n",
    "Extract dictionary {img_name : label} from annotations.json file"
   ]
  },
  {
   "cell_type": "code",
   "id": "a6f408ea",
   "metadata": {
    "ExecuteTime": {
     "end_time": "2025-07-16T22:22:49.879329Z",
     "start_time": "2025-07-16T22:22:49.829212Z"
    }
   },
   "source": [
    "import json\n",
    "os.chdir(\"/home/terra/Documents/AI_engineering/SIDS-project/python_project/SIDS_revelation_project\")\n",
    "\n",
    "file_imgid = {}\n",
    "imgid_label = {}\n",
    "file_label = {}\n",
    "\n",
    "classes_mlp = {}\n",
    "\n",
    "with open(\"onback_onstomach_v2/_annotations.coco.json\", \"r\") as f:\n",
    "    dataset = json.load(f)\n",
    "    \n",
    "    for img in dataset[\"images\"]:\n",
    "        file_imgid[img[\"file_name\"]] =img[\"id\"]\n",
    "    \n",
    "    for label in dataset[\"annotations\"]:\n",
    "        imgid_label[label[\"image_id\"]] = label[\"category_id\"]\n",
    "    \n",
    "    for cls in dataset[\"categories\"]:\n",
    "        classes_mlp[cls[\"name\"]]=cls[\"id\"]\n",
    "    del classes_mlp[\"baby\"]\n",
    "\n",
    "for file, img_id in file_imgid.items():\n",
    "    if img_id in imgid_label.keys():\n",
    "        file_label[file] = imgid_label[img_id]      "
   ],
   "outputs": [],
   "execution_count": 56
  },
  {
   "metadata": {},
   "cell_type": "markdown",
   "source": "# EMBEDDING: element position",
   "id": "2451bb2b0467d731"
  },
  {
   "metadata": {
    "ExecuteTime": {
     "end_time": "2025-07-16T22:22:49.899778Z",
     "start_time": "2025-07-16T22:22:49.884488Z"
    }
   },
   "cell_type": "code",
   "source": [
    "from ultralytics.engine.results import Boxes  \n",
    "\n",
    "def embedding_builder_positions(prediction: Boxes):\n",
    "    embedding_position= {\n",
    "        \"BABY\" : 0,\n",
    "        \"HEAD\": 1,\n",
    "        \"EYE\": (3, 5),\n",
    "        \"MOUTH\": 7,\n",
    "        \"NOSE\": 9\n",
    "    }\n",
    "    \n",
    "    vec = np.full(11, -1.0, dtype=float)\n",
    "    for bbox, cls in zip(prediction.xywhn, prediction.cls):\n",
    "        class_label = classes_fd[cls.item()]\n",
    "        if class_label == \"BABY\":\n",
    "            pos = embedding_position[class_label]\n",
    "            \n",
    "            vec[pos] = 1\n",
    "        elif class_label == \"EYE\":\n",
    "            pos = embedding_position[class_label][0] if vec[embedding_position[class_label][0]] == -1 else embedding_position[class_label][1]\n",
    "            \n",
    "            vec[pos] = bbox[0]\n",
    "            vec[pos+1] = bbox[1]\n",
    "        else:\n",
    "            pos = embedding_position[class_label]\n",
    "            \n",
    "            vec[pos] = bbox[0]\n",
    "            vec[pos+1] = bbox[1]    \n",
    "    \n",
    "    return vec"
   ],
   "id": "c808e85c",
   "outputs": [],
   "execution_count": 57
  },
  {
   "metadata": {},
   "cell_type": "markdown",
   "source": "# Save new dataset (embedding - label) in .csv format",
   "id": "b16db10d778ff9ff"
  },
  {
   "metadata": {
    "ExecuteTime": {
     "end_time": "2025-07-16T22:57:18.478004Z",
     "start_time": "2025-07-16T22:57:18.474672Z"
    }
   },
   "cell_type": "code",
   "source": [
    "import csv\n",
    "\n",
    "def save_embedding_label_dataset(dataset: str, embedding_type: str, X, y):    \n",
    "    with open(dataset+\"/\"+embedding_type+\".csv\", \"w\", newline='') as f:\n",
    "        writer = csv.writer(f)\n",
    "        for xi, yi in zip(X, y):\n",
    "            writer.writerow(list(xi) + [yi])"
   ],
   "id": "15cd1c09",
   "outputs": [],
   "execution_count": 69
  },
  {
   "metadata": {},
   "cell_type": "markdown",
   "source": "# Load dataset from .csv file",
   "id": "418d581e24031298"
  },
  {
   "cell_type": "code",
   "id": "c1603cad",
   "metadata": {
    "ExecuteTime": {
     "end_time": "2025-07-16T22:57:19.700884Z",
     "start_time": "2025-07-16T22:57:19.696912Z"
    }
   },
   "source": [
    "def load_embedding_label_dataset(dataset: str, embedding_type: str):\n",
    "    data = np.loadtxt(dataset+\"/\"+embedding_type+\".csv\", delimiter=\",\")\n",
    "    X = data[:, :-1]\n",
    "    y = data[:, -1]\n",
    "    \n",
    "    return X,y"
   ],
   "outputs": [],
   "execution_count": 70
  },
  {
   "metadata": {},
   "cell_type": "markdown",
   "source": "# EMBEDDING: 1 if feature is present, -1 otherwise",
   "id": "83c9d6fb4e8eda2"
  },
  {
   "metadata": {
    "ExecuteTime": {
     "end_time": "2025-07-16T22:22:49.937619Z",
     "start_time": "2025-07-16T22:22:49.925675Z"
    }
   },
   "cell_type": "code",
   "source": [
    "from ultralytics.engine.results import Boxes  \n",
    "\n",
    "def embedding_builder_flag(prediction: Boxes):    \n",
    "    embedding_position= {\n",
    "        \"BABY\" : 0,\n",
    "        \"HEAD\": 1,\n",
    "        \"EYE\": (2,3),\n",
    "        \"MOUTH\": 4,\n",
    "        \"NOSE\": 5\n",
    "    }\n",
    "    \n",
    "    vec = np.full(6, -1.0, dtype=float)\n",
    "    for cls in (prediction.cls):\n",
    "        class_label = classes_fd[cls.item()]\n",
    "        if class_label == \"EYE\":\n",
    "            pos = embedding_position[class_label][0] if vec[embedding_position[class_label][0]] == -1 else embedding_position[class_label][1]\n",
    "            vec[pos] = 1\n",
    "        else:\n",
    "            pos = embedding_position[class_label]\n",
    "            vec[pos] = 1 \n",
    "    return vec"
   ],
   "id": "95301492",
   "outputs": [],
   "execution_count": 60
  },
  {
   "metadata": {},
   "cell_type": "markdown",
   "source": "# COMBINATION 1 (dataset 2, model 2, embedding with positions)",
   "id": "a14da40a0eea0990"
  },
  {
   "metadata": {},
   "cell_type": "markdown",
   "source": "**Feature extraction with face detection and embedding creation**",
   "id": "36b14b88b1c46d7e"
  },
  {
   "metadata": {
    "ExecuteTime": {
     "end_time": "2025-07-16T22:22:49.946962Z",
     "start_time": "2025-07-16T22:22:49.941269Z"
    }
   },
   "cell_type": "code",
   "source": [
    "dataset_folder = \"onback_onstomach_v2\"\n",
    "embedding_type = \"positions\""
   ],
   "id": "bef794c5d90612bc",
   "outputs": [],
   "execution_count": 61
  },
  {
   "metadata": {
    "ExecuteTime": {
     "end_time": "2025-07-16T22:42:31.979588Z",
     "start_time": "2025-07-16T22:22:49.949493Z"
    }
   },
   "cell_type": "code",
   "source": [
    "onback_onstomach_dataset = Path(dataset_folder)\n",
    "X = []\n",
    "y = []\n",
    "\n",
    "for img in onback_onstomach_dataset.glob(\"*.jpg\"):\n",
    "    if img.name in file_label.keys():\n",
    "        #DEBUG\n",
    "        if len(y)%100 == 0:\n",
    "            print(f\"{int(len(y)*100/len(file_label))}%-->    {len(y)} / {len(file_label)} embeddings created\")\n",
    "        #DEBUG    \n",
    "        result = model(img, conf=0.3, verbose=False)[0]\n",
    "        prediction = result.boxes\n",
    "        \n",
    "        vec = embedding_builder_positions(prediction)\n",
    "        X.append(vec)\n",
    "        y.append(file_label[img.name])\n",
    "        \n",
    "print(f\"FINISHED EMBEDDING CREATION, {len(y)} embeddings created\")\n",
    "\n",
    "save_embedding_label_dataset(dataset_folder, embedding_type, X, y)\n",
    "print(f\"New dataset (embedding - label) saved in '{dataset_folder}/{embedding_type}.csv'\")"
   ],
   "id": "7179c145",
   "outputs": [
    {
     "name": "stdout",
     "output_type": "stream",
     "text": [
      "0%-->    0 / 1509 embeddings created\n",
      "6%-->    100 / 1509 embeddings created\n",
      "13%-->    200 / 1509 embeddings created\n",
      "19%-->    300 / 1509 embeddings created\n",
      "26%-->    400 / 1509 embeddings created\n",
      "33%-->    500 / 1509 embeddings created\n",
      "39%-->    600 / 1509 embeddings created\n",
      "46%-->    700 / 1509 embeddings created\n",
      "53%-->    800 / 1509 embeddings created\n",
      "59%-->    900 / 1509 embeddings created\n",
      "66%-->    1000 / 1509 embeddings created\n",
      "72%-->    1100 / 1509 embeddings created\n",
      "79%-->    1200 / 1509 embeddings created\n",
      "86%-->    1300 / 1509 embeddings created\n",
      "92%-->    1400 / 1509 embeddings created\n",
      "99%-->    1500 / 1509 embeddings created\n",
      "FINISHED EMBEDDING CREATION, 1509 embeddings created\n",
      "New dataset (embedding - label) saved in 'onback_onstomach_v2/positions.csv'\n"
     ]
    }
   ],
   "execution_count": 62
  },
  {
   "metadata": {},
   "cell_type": "markdown",
   "source": "**Loading of (embedding - label) dataset from '{dataset_folder}/{embedding_type}.csv'**",
   "id": "b632dfc383e85ca1"
  },
  {
   "metadata": {
    "ExecuteTime": {
     "end_time": "2025-07-16T22:56:47.291304Z",
     "start_time": "2025-07-16T22:56:47.284598Z"
    }
   },
   "cell_type": "code",
   "source": "X, y = load_embedding_label_dataset(dataset_folder, embedding_type)",
   "id": "ebed49b61e2922ea",
   "outputs": [],
   "execution_count": 66
  },
  {
   "metadata": {},
   "cell_type": "markdown",
   "source": "**Process dataset with RANDOM FOREST**",
   "id": "a6776f9b3e0d8a15"
  },
  {
   "cell_type": "code",
   "id": "60364abe",
   "metadata": {
    "ExecuteTime": {
     "end_time": "2025-07-16T22:56:51.032091Z",
     "start_time": "2025-07-16T22:56:50.817777Z"
    }
   },
   "source": [
    "from sklearn.ensemble import RandomForestClassifier\n",
    "from sklearn.model_selection import train_test_split\n",
    "from sklearn.metrics import accuracy_score, classification_report\n",
    "import numpy as np\n",
    "\n",
    "X_train, X_test, y_train, y_test = train_test_split(X_array, y_array, test_size=0.2, random_state=42)\n",
    "\n",
    "clf = RandomForestClassifier(n_estimators=100, random_state=42)\n",
    "clf.fit(X_train, y_train)\n",
    "\n",
    "# Predict on the test set\n",
    "y_pred = clf.predict(X_test)\n",
    "\n",
    "# Evaluate\n",
    "print(f\"\\nDataset labels:----------------------------------------\\n{classes_mlp}\\n\")\n",
    "\n",
    "print(f\"Report-------------------------------------------------\")\n",
    "labels_in_dataset = list(classes_mlp.keys())[:2]\n",
    "print(classification_report(y_test, y_pred, target_names=labels_in_dataset))"
   ],
   "outputs": [
    {
     "name": "stdout",
     "output_type": "stream",
     "text": [
      "\n",
      "Dataset labels:----------------------------------------\n",
      "{'baby_on_back': 1, 'baby_on_stomach': 2, 'crib': 3}\n",
      "\n",
      "Report-------------------------------------------------\n",
      "                 precision    recall  f1-score   support\n",
      "\n",
      "   baby_on_back       0.71      0.47      0.56       128\n",
      "baby_on_stomach       0.69      0.86      0.76       174\n",
      "\n",
      "       accuracy                           0.69       302\n",
      "      macro avg       0.70      0.66      0.66       302\n",
      "   weighted avg       0.69      0.69      0.68       302\n",
      "\n"
     ]
    }
   ],
   "execution_count": 67
  },
  {
   "metadata": {
    "ExecuteTime": {
     "end_time": "2025-07-16T22:56:56.706257Z",
     "start_time": "2025-07-16T22:56:56.546741Z"
    }
   },
   "cell_type": "code",
   "source": [
    "from sklearn.metrics import confusion_matrix, ConfusionMatrixDisplay\n",
    "import matplotlib.pyplot as plt\n",
    "\n",
    "cm = confusion_matrix(y_test, y_pred)\n",
    "\n",
    "disp = ConfusionMatrixDisplay(confusion_matrix=cm, display_labels=labels_in_dataset)\n",
    "disp.plot(cmap=plt.cm.Blues)\n",
    "plt.title(\"Confusion Matrix\")\n",
    "plt.show()"
   ],
   "id": "5543c3e843780f9f",
   "outputs": [
    {
     "data": {
      "text/plain": [
       "<Figure size 640x480 with 2 Axes>"
      ],
      "image/png": "[encoded data removed]"
     },
     "metadata": {},
     "output_type": "display_data"
    }
   ],
   "execution_count": 68
  },
  {
   "metadata": {},
   "cell_type": "markdown",
   "source": "** Try other classifiers **",
   "id": "6ac24782b0546860"
  },
  {
   "metadata": {},
   "cell_type": "markdown",
   "source": "# COMBINATION 2 (dataset 2, model 2, embedding with flag)",
   "id": "279b13f1d774f820"
  },
  {
   "metadata": {
    "ExecuteTime": {
     "end_time": "2025-07-16T22:57:26.058620Z",
     "start_time": "2025-07-16T22:57:26.055665Z"
    }
   },
   "cell_type": "code",
   "source": [
    "dataset_folder = \"onback_onstomach_v2\"\n",
    "embedding_type = \"flag\""
   ],
   "id": "6932070e91394045",
   "outputs": [],
   "execution_count": 71
  },
  {
   "metadata": {
    "ExecuteTime": {
     "end_time": "2025-07-16T23:15:37.104462Z",
     "start_time": "2025-07-16T22:57:26.637779Z"
    }
   },
   "cell_type": "code",
   "source": [
    "onback_onstomach_dataset = Path(dataset_folder)\n",
    "X = []\n",
    "y = []\n",
    "\n",
    "for img in onback_onstomach_dataset.glob(\"*.jpg\"):\n",
    "    if img.name in file_label.keys():\n",
    "        #DEBUG\n",
    "        if len(y)%100 == 0:\n",
    "            print(f\"{int(len(y)*100/len(file_label))}%-->    {len(y)} / {len(file_label)} embeddings created\")\n",
    "        #DEBUG    \n",
    "        result = model(img, conf=0.3, verbose=False)[0]\n",
    "        prediction = result.boxes\n",
    "        \n",
    "        vec = embedding_builder_flag(prediction)\n",
    "        X.append(vec)\n",
    "        y.append(file_label[img.name])\n",
    "        \n",
    "print(f\"FINISHED EMBEDDING CREATION, {len(y)} embeddings created\")\n",
    "\n",
    "save_embedding_label_dataset(dataset_folder, embedding_type, X, y)\n",
    "print(f\"New dataset (embedding - label) saved in '{dataset_folder}/{embedding_type}.csv'\")"
   ],
   "id": "1716cfa6cd19bd03",
   "outputs": [
    {
     "name": "stdout",
     "output_type": "stream",
     "text": [
      "0%-->    0 / 1509 embeddings created\n",
      "6%-->    100 / 1509 embeddings created\n",
      "13%-->    200 / 1509 embeddings created\n",
      "19%-->    300 / 1509 embeddings created\n",
      "26%-->    400 / 1509 embeddings created\n",
      "33%-->    500 / 1509 embeddings created\n",
      "39%-->    600 / 1509 embeddings created\n",
      "46%-->    700 / 1509 embeddings created\n",
      "53%-->    800 / 1509 embeddings created\n",
      "59%-->    900 / 1509 embeddings created\n",
      "66%-->    1000 / 1509 embeddings created\n",
      "72%-->    1100 / 1509 embeddings created\n",
      "79%-->    1200 / 1509 embeddings created\n",
      "86%-->    1300 / 1509 embeddings created\n",
      "92%-->    1400 / 1509 embeddings created\n",
      "99%-->    1500 / 1509 embeddings created\n",
      "FINISHED EMBEDDING CREATION, 1509 embeddings created\n",
      "New dataset (embedding - label) saved in 'onback_onstomach_v2/flag.csv'\n"
     ]
    }
   ],
   "execution_count": 72
  },
  {
   "metadata": {
    "ExecuteTime": {
     "end_time": "2025-07-17T06:21:25.964083Z",
     "start_time": "2025-07-17T06:21:25.959495Z"
    }
   },
   "cell_type": "code",
   "source": "X, y = load_embedding_label_dataset(dataset_folder, embedding_type)",
   "id": "1eb9628960c4f018",
   "outputs": [],
   "execution_count": 78
  },
  {
   "metadata": {},
   "cell_type": "markdown",
   "source": "**Process dataset with RANDOM FOREST**",
   "id": "ee8e36c8b4f934cd"
  },
  {
   "metadata": {
    "ExecuteTime": {
     "end_time": "2025-07-17T06:20:46.682950Z",
     "start_time": "2025-07-17T06:20:46.498946Z"
    }
   },
   "cell_type": "code",
   "source": [
    "from sklearn.ensemble import RandomForestClassifier\n",
    "from sklearn.model_selection import train_test_split\n",
    "from sklearn.metrics import accuracy_score, classification_report\n",
    "import numpy as np\n",
    "\n",
    "X_train, X_test, y_train, y_test = train_test_split(X_array, y_array, test_size=0.2, random_state=42)\n",
    "\n",
    "clf = RandomForestClassifier(n_estimators=100, random_state=42)\n",
    "clf.fit(X_train, y_train)\n",
    "\n",
    "# Predict on the test set\n",
    "y_pred = clf.predict(X_test)\n",
    "\n",
    "# Evaluate\n",
    "print(f\"\\nDataset labels:----------------------------------------\\n{classes_mlp}\\n\")\n",
    "\n",
    "print(f\"Report-------------------------------------------------\")\n",
    "labels_in_dataset = list(classes_mlp.keys())[:2]\n",
    "print(classification_report(y_test, y_pred, target_names=labels_in_dataset))"
   ],
   "id": "3ab6aac03e318958",
   "outputs": [
    {
     "name": "stdout",
     "output_type": "stream",
     "text": [
      "\n",
      "Dataset labels:----------------------------------------\n",
      "{'baby_on_back': 1, 'baby_on_stomach': 2, 'crib': 3}\n",
      "\n",
      "Report-------------------------------------------------\n",
      "                 precision    recall  f1-score   support\n",
      "\n",
      "   baby_on_back       0.71      0.47      0.56       128\n",
      "baby_on_stomach       0.69      0.86      0.76       174\n",
      "\n",
      "       accuracy                           0.69       302\n",
      "      macro avg       0.70      0.66      0.66       302\n",
      "   weighted avg       0.69      0.69      0.68       302\n",
      "\n"
     ]
    }
   ],
   "execution_count": 75
  },
  {
   "metadata": {
    "ExecuteTime": {
     "end_time": "2025-07-17T06:20:48.612453Z",
     "start_time": "2025-07-17T06:20:48.456417Z"
    }
   },
   "cell_type": "code",
   "source": [
    "from sklearn.metrics import confusion_matrix, ConfusionMatrixDisplay\n",
    "import matplotlib.pyplot as plt\n",
    "\n",
    "cm = confusion_matrix(y_test, y_pred)\n",
    "\n",
    "disp = ConfusionMatrixDisplay(confusion_matrix=cm, display_labels=labels_in_dataset)\n",
    "disp.plot(cmap=plt.cm.Blues)\n",
    "plt.title(\"Confusion Matrix\")\n",
    "plt.show()"
   ],
   "id": "e391f4171a0b3299",
   "outputs": [
    {
     "data": {
      "text/plain": [
       "<Figure size 640x480 with 2 Axes>"
      ],
      "image/png": "[encoded data removed]"
     },
     "metadata": {},
     "output_type": "display_data"
    }
   ],
   "execution_count": 76
  },
  {
   "metadata": {},
   "cell_type": "code",
   "outputs": [],
   "execution_count": null,
   "source": "",
   "id": "fe8a7375cb18ce95"
  }
 ],
 "metadata": {
  "kernelspec": {
   "display_name": "LabML",
   "language": "python",
   "name": "python3"
  },
  "language_info": {
   "codemirror_mode": {
    "name": "ipython",
    "version": 3
   },
   "file_extension": ".py",
   "mimetype": "text/x-python",
   "name": "python",
   "nbconvert_exporter": "python",
   "pygments_lexer": "ipython3",
   "version": "3.9.21"
  }
 },
 "nbformat": 4,
 "nbformat_minor": 5
}
