{
 "cells": [
  {
   "metadata": {},
   "cell_type": "markdown",
   "source": "# Selects the best available device for PyTorch computations",
   "id": "14209a2ecb588ef6"
  },
  {
   "metadata": {},
   "cell_type": "code",
   "source": [
    "import torch\n",
    "\n",
    "if torch.cuda.is_available():\n",
    "    device = torch.device(\"cuda\")\n",
    "elif torch.backends.mps.is_available():\n",
    "    device = torch.device(\"mps\")\n",
    "else:\n",
    "    device = torch.device(\"cpu\")\n",
    "\n",
    "print(f\"Using device: {device}\")"
   ],
   "id": "358de8fa44adca8f",
   "outputs": [],
   "execution_count": null
  },
  {
   "metadata": {},
   "cell_type": "markdown",
   "source": "# Data Augmentation",
   "id": "cee40cdfa8b83f52"
  },
  {
   "cell_type": "code",
   "id": "initial_id",
   "metadata": {
    "collapsed": true
   },
   "source": [
    "from libraries.data_augmentation_utils import *\n",
    "from libraries.keypoints_visualization_utils import *"
   ],
   "outputs": [],
   "execution_count": null
  },
  {
   "metadata": {},
   "cell_type": "code",
   "source": [
    "bbox_params = A.BboxParams(format='yolo', label_fields=['class_labels'], min_visibility=0.0, check_each_transform=True)\n",
    "keypoint_params = A.KeypointParams(format='xy', label_fields=['keypoint_labels'], remove_invisible=False)\n",
    "\n",
    "night_filter_low = A.Compose([\n",
    "    A.ToGray(p=0.7),\n",
    "    A.RandomBrightnessContrast(brightness_limit=(-0.4, -0.2), contrast_limit=(-0.2, 0.1), p=0.9),\n",
    "    A.GaussNoise(std_range=(0.039, 0.196), p=0.5),\n",
    "    A.MotionBlur(blur_limit=(3, 7), p=0.3),\n",
    "    A.ImageCompression(quality_range=(20,40),p=0.4),\n",
    "    A.Affine(rotate=(-5, 5), p=0.4),\n",
    "],keypoint_params=keypoint_params,bbox_params=bbox_params)\n",
    "\n",
    "night_filter_high = A.Compose([\n",
    "    A.ToGray(p=1.0),\n",
    "    A.RandomBrightnessContrast(brightness_limit=(-0.5, -0.3), contrast_limit=(-0.3, -0.1), p=1.0),\n",
    "    A.GaussianBlur(blur_limit=(5, 9), p=0.5),\n",
    "    A.ISONoise(intensity=(0.2, 0.4), p=0.7),\n",
    "    A.ImageCompression(quality_range=(5,25), p=0.4),\n",
    "    A.Affine(rotate=(-10, 10), p=0.4)\n",
    "],keypoint_params=keypoint_params,bbox_params=bbox_params)\n",
    "\n",
    "night_filter_gamma = A.Compose([\n",
    "    A.ToGray(p=0.9),\n",
    "    A.RandomGamma(gamma_limit=(80, 120), p=0.7),\n",
    "    A.ISONoise(intensity=(0.15, 0.35), p=0.4),\n",
    "    A.MotionBlur(blur_limit=(3, 7), p=0.3),\n",
    "    A.RandomBrightnessContrast(brightness_limit=(-0.3, -0.1), contrast_limit=(-0.2, 0.1), p=0.7),\n",
    "    A.ImageCompression(quality_range=(20,40),p=0.5),\n",
    "    A.Affine(rotate=(-10, 10), p=0.4)\n",
    "],keypoint_params=keypoint_params,bbox_params=bbox_params)\n",
    "\n",
    "night_filter_blur = A.Compose([\n",
    "    A.RandomBrightnessContrast(brightness_limit=(-0.2, 0.0), contrast_limit=(-0.2, 0.05), p=1.0),\n",
    "    A.GaussianBlur(blur_limit=(3, 7), p=0.4),\n",
    "    A.ImageCompression(quality_range=(30,50),p=0.4),\n",
    "    A.Defocus(radius=(3, 5), alias_blur=True, p=0.3),\n",
    "    A.Affine(rotate=(-5, 5), p=0.3)\n",
    "],keypoint_params=keypoint_params,bbox_params=bbox_params)\n",
    "\n",
    "night_filter_rotation = A.Compose([\n",
    "    A.ToGray(p=1.0),\n",
    "    A.ISONoise(intensity=(0.2, 0.4), p=0.5),\n",
    "    A.MotionBlur(blur_limit=(5, 11), p=0.5),\n",
    "    A.RandomBrightnessContrast(brightness_limit=(-0.4, -0.1), contrast_limit=(-0.2, 0.1), p=0.8),\n",
    "    A.Affine(rotate=(-90, 90), p=1.0)  # YOLO rotation obbligatoria\n",
    "],keypoint_params=keypoint_params,bbox_params=bbox_params)\n",
    "\n",
    "night_filter_complex = A.Compose([\n",
    "    A.ToGray(p=1.0),\n",
    "    A.Downscale(scale_range=(0.3, 0.6), p=0.6),\n",
    "    A.GaussNoise(std_range=(0.05, 0.2), p=0.5),\n",
    "    A.ImageCompression(quality_range=(1, 30), p=0.5),\n",
    "    A.RandomBrightnessContrast(brightness_limit=(-0.3, 0), contrast_limit=(-0.2, 0.1), p=0.7),\n",
    "    A.Defocus(radius=(3, 5), alias_blur=True, p=0.3),\n",
    "    A.Affine(\n",
    "        translate_percent={\"x\": (-0.05, 0.05), \"y\": (-0.05, 0.05)},\n",
    "        rotate=(-5, 5),\n",
    "        scale=(0.9, 1.1),\n",
    "        p=0.3\n",
    "    ),\n",
    "],keypoint_params=keypoint_params,bbox_params=bbox_params)\n",
    "\n",
    "night_filter_dropout = A.Compose([\n",
    "    A.ToGray(p=0.8),\n",
    "    A.RandomBrightnessContrast(brightness_limit=(-0.4, -0.2), contrast_limit=(-0.3, -0.1), p=1.0),\n",
    "    A.CoarseDropout(num_holes_range=(1,3),hole_height_range=(30,60),hole_width_range=(30,60),fill=0,p=0.5),\n",
    "    A.MotionBlur(blur_limit=(3, 7), p=0.3),\n",
    "    A.HueSaturationValue(hue_shift_limit=10, sat_shift_limit=15, val_shift_limit=10, p=0.2),\n",
    "    A.Affine(rotate=(-10, 10), p=0.3)\n",
    "],keypoint_params=keypoint_params,bbox_params=bbox_params)\n",
    "\n",
    "zoom_out_1 = A.Compose([\n",
    "    A.RandomScale(scale_limit=(-0.55, -0.55), p=1.0),  # scala fissa: riduzione dell'80%\n",
    "    A.PadIfNeeded(min_height=512, min_width=512, border_mode=0)\n",
    "],keypoint_params=keypoint_params,bbox_params=bbox_params)\n",
    "\n",
    "zoom_out_2 = A.Compose([\n",
    "    A.RandomScale(scale_limit=(-0.69, -0.68), p=1.0),  # scala fissa: riduzione dell'80%\n",
    "    A.PadIfNeeded(min_height=512, min_width=512, border_mode=0),\n",
    "    A.Affine(rotate=(-90, 90), p=1.0)\n",
    "], keypoint_params=keypoint_params,bbox_params=bbox_params)\n",
    "\n",
    "night_aug_list = [night_filter_low, night_filter_high, night_filter_gamma, night_filter_blur, night_filter_rotation, night_filter_complex, night_filter_dropout,zoom_out_1, zoom_out_2]"
   ],
   "id": "16a674855f163987",
   "outputs": [],
   "execution_count": null
  },
  {
   "metadata": {},
   "cell_type": "code",
   "source": [
    "dt = DataAugmentation(night_aug_list,\"/Users/lorenzodimaio/Download/SIDS_revelation_project/data_augmentation/pose700.yolov8\",kpt=True,bbox=True)\n",
    "dt.apply_data_augmentation()"
   ],
   "id": "9073e2c846092069",
   "outputs": [],
   "execution_count": null
  },
  {
   "metadata": {},
   "cell_type": "code",
   "source": [
    "dt2 = DataAugmentation(night_aug_list,\"/Users/lorenzodimaio/Download/SIDS_revelation_project/data_augmentation/face_detection_v3\",kpt=False,bbox=True)\n",
    "dt2.apply_data_augmentation()"
   ],
   "id": "d8b1e8775bdd4955",
   "outputs": [],
   "execution_count": null
  },
  {
   "metadata": {
    "ExecuteTime": {
     "end_time": "2025-09-03T21:39:07.895633Z",
     "start_time": "2025-09-03T21:39:07.891721Z"
    }
   },
   "cell_type": "code",
   "source": [
    "draw_keypoints(img_path=\"/Users/lorenzodimaio/Download/SIDS_revelation_project/data_augmentation/pose700_augm.yolov8/test/images/13_JPG_jpg.rf.24d3294173b86689dc1decf3cb0f10fd.jpg\",\n",
    "               label_kpt_path=\"/Users/lorenzodimaio/Download/SIDS_revelation_project/data_augmentation/pose700_augm.yolov8/test/labels/13_JPG_jpg.rf.24d3294173b86689dc1decf3cb0f10fd.txt\",\n",
    "               output_path=\"/Users/lorenzodimaio/Download/SIDS_revelation_project/data_augmentation/immagine_con_keypoints_numerati.jpg\",thickness_line=1,thickness_point=3)\n",
    "\n"
   ],
   "id": "b0ec6a349da51acb",
   "outputs": [],
   "execution_count": 28
  }
 ],
 "metadata": {
  "kernelspec": {
   "display_name": "Python 3",
   "language": "python",
   "name": "python3"
  },
  "language_info": {
   "codemirror_mode": {
    "name": "ipython",
    "version": 2
   },
   "file_extension": ".py",
   "mimetype": "text/x-python",
   "name": "python",
   "nbconvert_exporter": "python",
   "pygments_lexer": "ipython2",
   "version": "2.7.6"
  }
 },
 "nbformat": 4,
 "nbformat_minor": 5
}
