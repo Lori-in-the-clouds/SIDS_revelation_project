{
 "cells": [
  {
   "cell_type": "code",
   "id": "initial_id",
   "metadata": {
    "collapsed": true,
    "ExecuteTime": {
     "end_time": "2025-09-06T14:17:39.526255Z",
     "start_time": "2025-09-06T14:17:39.124469Z"
    }
   },
   "source": [
    "import joblib\n",
    "from libraries.image_prediction_utils import *\n",
    "import os\n",
    "from libraries.embeddings_utils import *\n",
    "\n",
    "project_dir = f\"{os.getcwd().split('SIDS_revelation_project')[0]}SIDS_revelation_project/\"\n",
    "image_dataset_path = f\"{project_dir}datasets/onback_onstomach_v3\"\n",
    "model_path_fd = f\"{project_dir}/models/4.fd_weights/best.pt\"\n",
    "model_path_pe = f\"{project_dir}/models/2.pe_weights/best.pt\"\n",
    "clf_path = f\"{project_dir}/classifiers/XGBClassifier_84_features.pkl\"\n",
    "clf = joblib.load(clf_path)\n",
    "\n",
    "builder = EmbeddingBuilder(weights_path_fd=model_path_fd,\n",
    "                           dataset_path=image_dataset_path,\n",
    "                           mode= \"load\",\n",
    "                           weights_path_pe=model_path_pe)"
   ],
   "outputs": [
    {
     "name": "stdout",
     "output_type": "stream",
     "text": [
      "\n",
      "Extracting dataset info from .coco.json file:---------------------------------------------\n",
      "Dataset contains 4158 valid samples, and labels are {'baby_on_back': 1, 'baby_on_stomach': 2}\n",
      "------------------------------------------------------------------------------------------\n",
      "\n",
      "Loading features from .csv----------------------------------------------------------------\n",
      "Features loaded succesfully, in particular there are 4158 files in the dataset\n",
      "------------------------------------------------------------------------------------------\n",
      "\n",
      "Embedding builder initialized successfully------------------------------------------------\n",
      "Face detection model: 4 (YOLOv8)\n",
      "Dataset: /Users/lorenzodimaio/Download/SIDS_revelation_project/datasets/onback_onstomach_v3\n",
      "Dataset dimension: 4158\n",
      "Dataset labels: {'baby_safe': 0, 'baby_unsafe': 1}\n",
      "------------------------------------------------------------------------------------------\n"
     ]
    }
   ],
   "execution_count": 41
  },
  {
   "metadata": {
    "ExecuteTime": {
     "end_time": "2025-09-06T14:20:00.548063Z",
     "start_time": "2025-09-06T14:20:00.419678Z"
    }
   },
   "cell_type": "code",
   "source": [
    "image_prediction(\n",
    "                image_path=\"/Users/lorenzodimaio/Download/SIDS_revelation_project/image_prediction/images/best_classifiers_metrics.png\",\n",
    "                builder=builder,\n",
    "                clf=clf,\n",
    "                show_all_boxes=True,\n",
    "                show_confidences=True,\n",
    "                thickness_line=2,\n",
    "                thickness_point=3,\n",
    "                show_bounding_box=True,\n",
    "                show_keypoints=True,\n",
    "                show_prediction=True\n",
    "                )"
   ],
   "id": "a226897aa5bf6f06",
   "outputs": [],
   "execution_count": 44
  }
 ],
 "metadata": {
  "kernelspec": {
   "display_name": "Python 3",
   "language": "python",
   "name": "python3"
  },
  "language_info": {
   "codemirror_mode": {
    "name": "ipython",
    "version": 2
   },
   "file_extension": ".py",
   "mimetype": "text/x-python",
   "name": "python",
   "nbconvert_exporter": "python",
   "pygments_lexer": "ipython2",
   "version": "2.7.6"
  }
 },
 "nbformat": 4,
 "nbformat_minor": 5
}
