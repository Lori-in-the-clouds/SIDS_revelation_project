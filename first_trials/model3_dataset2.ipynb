{
 "cells": [
  {
   "cell_type": "markdown",
   "id": "c8497de26c35f21d",
   "metadata": {},
   "source": [
    "# FACE DETECTION MODEL: 2\n",
    "Loading of face detection model"
   ]
  },
  {
   "cell_type": "code",
   "execution_count": 2,
   "id": "cb5ad121",
   "metadata": {},
   "outputs": [
    {
     "name": "stdout",
     "output_type": "stream",
     "text": [
      "Face detection model is able to detect following classes:\n",
      "{0: 'BABY', 1: 'EYE', 2: 'HEAD', 3: 'MOUTH', 4: 'NOSE'}\n"
     ]
    }
   ],
   "source": [
    "#versione mery\n",
    "\n",
    "import numpy as np\n",
    "from ultralytics import YOLO\n",
    "import os\n",
    "from pathlib import Path\n",
    "import cv2\n",
    "\n",
    "base_dir = Path().resolve()\n",
    "os.chdir(base_dir)\n",
    "\n",
    "model = YOLO(\"3.fd_weights/best.pt\")\n",
    "\n",
    "classes_fd = model.names\n",
    "print(f\"Face detection model is able to detect following classes:\\n{classes_fd}\")\n",
    "\n",
    "base_dir = Path().resolve()\n",
    "os.chdir(base_dir)"
   ]
  },
  {
   "cell_type": "code",
   "execution_count": null,
   "id": "173c5154",
   "metadata": {
    "ExecuteTime": {
     "end_time": "2025-07-18T13:30:33.567055Z",
     "start_time": "2025-07-18T13:30:31.768563Z"
    }
   },
   "outputs": [
    {
     "name": "stdout",
     "output_type": "stream",
     "text": [
      "Face detection model is able to detect following classes:\n",
      "{0: 'BABY', 1: 'EYE', 2: 'HEAD', 3: 'MOUTH', 4: 'NOSE'}\n"
     ]
    }
   ],
   "source": [
    "import numpy as np\n",
    "from ultralytics import YOLO\n",
    "import os\n",
    "from pathlib import Path\n",
    "import cv2\n",
    "\n",
    "os.chdir(\"/home/terra/Documents/AI_engineering/SIDS-project/python_project/SIDS_revelation_project\")\n",
    "model = YOLO(\"3.fd_weights/best.pt\")\n",
    "\n",
    "classes_fd = model.names\n",
    "print(f\"Face detection model is able to detect following classes:\\n{classes_fd}\")"
   ]
  },
  {
   "cell_type": "markdown",
   "id": "394bf165",
   "metadata": {},
   "source": [
    "# DATASET ON BACK/ON STOMACH: 2\n",
    "Extract dictionary {img_name : label} from annotations.json file"
   ]
  },
  {
   "cell_type": "code",
   "execution_count": 2,
   "id": "a6f408ea",
   "metadata": {
    "ExecuteTime": {
     "end_time": "2025-07-18T13:30:35.618893Z",
     "start_time": "2025-07-18T13:30:35.602400Z"
    }
   },
   "outputs": [],
   "source": [
    "import json\n",
    "os.chdir(\"/home/terra/Documents/AI_engineering/SIDS-project/python_project/SIDS_revelation_project\")\n",
    "\n",
    "file_imgid = {}\n",
    "imgid_label = {}\n",
    "file_label = {}\n",
    "\n",
    "classes_mlp = {}\n",
    "\n",
    "with open(\"onback_onstomach_v2/_annotations.coco.json\", \"r\") as f:\n",
    "    dataset = json.load(f)\n",
    "    \n",
    "    for img in dataset[\"images\"]:\n",
    "        file_imgid[img[\"file_name\"]] =img[\"id\"]\n",
    "    \n",
    "    for label in dataset[\"annotations\"]:\n",
    "        imgid_label[label[\"image_id\"]] = label[\"category_id\"]\n",
    "    \n",
    "    for cls in dataset[\"categories\"]:\n",
    "        classes_mlp[cls[\"name\"]]=cls[\"id\"]\n",
    "    del classes_mlp[\"baby\"]\n",
    "\n",
    "for file, img_id in file_imgid.items():\n",
    "    if img_id in imgid_label.keys():\n",
    "        file_label[file] = imgid_label[img_id]      "
   ]
  },
  {
   "cell_type": "markdown",
   "id": "b16db10d778ff9ff",
   "metadata": {},
   "source": [
    "# Save new dataset (embedding - label) in .csv format"
   ]
  },
  {
   "cell_type": "code",
   "execution_count": 13,
   "id": "15cd1c09",
   "metadata": {},
   "outputs": [],
   "source": [
    "import csv\n",
    "\n",
    "def save_embedding_label_dataset(dataset: str, embedding_type: str, model_version:str, X, y):    \n",
    "    with open(f\"{dataset}/{model_version}-{embedding_type}.csv\", \"w\", newline='') as f:\n",
    "        writer = csv.writer(f)\n",
    "        for xi, yi in zip(X, y):\n",
    "            writer.writerow(list(xi) + [yi])"
   ]
  },
  {
   "cell_type": "markdown",
   "id": "418d581e24031298",
   "metadata": {},
   "source": [
    "# Load dataset from .csv file"
   ]
  },
  {
   "cell_type": "code",
   "execution_count": 14,
   "id": "c1603cad",
   "metadata": {
    "ExecuteTime": {
     "end_time": "2025-07-18T13:56:53.976262Z",
     "start_time": "2025-07-18T13:56:53.972110Z"
    }
   },
   "outputs": [],
   "source": [
    "def load_embedding_label_dataset(dataset: str, embedding_type: str, model_version: str):\n",
    "    data = np.loadtxt(f\"{dataset}/{model_version}-{embedding_type}.csv\", delimiter=\",\")\n",
    "    X = data[:, :-1]\n",
    "    y = data[:, -1]\n",
    "    \n",
    "    return X,y"
   ]
  },
  {
   "cell_type": "markdown",
   "id": "2451bb2b0467d731",
   "metadata": {},
   "source": [
    "# EMBEDDING: element position"
   ]
  },
  {
   "cell_type": "code",
   "execution_count": 3,
   "id": "c808e85c",
   "metadata": {},
   "outputs": [],
   "source": [
    "from ultralytics.engine.results import Boxes  \n",
    "\n",
    "def embedding_builder_positions(prediction: Boxes):\n",
    "    embedding_position= {\n",
    "        \"BABY\" : 0,\n",
    "        \"HEAD\": 1,\n",
    "        \"EYE\": (3, 5),\n",
    "        \"MOUTH\": 7,\n",
    "        \"NOSE\": 9\n",
    "    }\n",
    "    \n",
    "    vec = np.full(11, -1.0, dtype=float)\n",
    "    for bbox, cls in zip(prediction.xywhn, prediction.cls):\n",
    "        class_label = classes_fd[cls.item()]\n",
    "        if class_label == \"BABY\":\n",
    "            pos = embedding_position[class_label]\n",
    "            \n",
    "            vec[pos] = 1\n",
    "        elif class_label == \"EYE\":\n",
    "            pos = embedding_position[class_label][0] if vec[embedding_position[class_label][0]] == -1 else embedding_position[class_label][1]\n",
    "            \n",
    "            vec[pos] = bbox[0]\n",
    "            vec[pos+1] = bbox[1]\n",
    "        else:\n",
    "            pos = embedding_position[class_label]\n",
    "            \n",
    "            vec[pos] = bbox[0]\n",
    "            vec[pos+1] = bbox[1]    \n",
    "    \n",
    "    return vec"
   ]
  },
  {
   "cell_type": "markdown",
   "id": "83c9d6fb4e8eda2",
   "metadata": {},
   "source": [
    "# EMBEDDING: 1 if feature is present, -1 otherwise"
   ]
  },
  {
   "cell_type": "code",
   "execution_count": 6,
   "id": "95301492",
   "metadata": {
    "ExecuteTime": {
     "end_time": "2025-07-18T13:30:41.503514Z",
     "start_time": "2025-07-18T13:30:41.498964Z"
    }
   },
   "outputs": [],
   "source": [
    "from ultralytics.engine.results import Boxes  \n",
    "\n",
    "def embedding_builder_flag(prediction: Boxes):    \n",
    "    embedding_position= {\n",
    "        \"BABY\" : 0,\n",
    "        \"HEAD\": 1,\n",
    "        \"EYE\": (2,3),\n",
    "        \"MOUTH\": 4,\n",
    "        \"NOSE\": 5\n",
    "    }\n",
    "    \n",
    "    vec = np.full(6, -1.0, dtype=float)\n",
    "    for cls in (prediction.cls):\n",
    "        class_label = classes_fd[cls.item()]\n",
    "        if class_label == \"EYE\":\n",
    "            pos = embedding_position[class_label][0] if vec[embedding_position[class_label][0]] == -1 else embedding_position[class_label][1]\n",
    "            vec[pos] = 1\n",
    "        else:\n",
    "            pos = embedding_position[class_label]\n",
    "            vec[pos] = 1 \n",
    "    return vec"
   ]
  },
  {
   "cell_type": "markdown",
   "id": "3cf6971ca1f81a59",
   "metadata": {},
   "source": [
    "# EMBEDDING: positions with angle"
   ]
  },
  {
   "cell_type": "code",
   "execution_count": 1,
   "id": "eea56d2fb88e98e4",
   "metadata": {
    "ExecuteTime": {
     "end_time": "2025-07-21T08:33:43.536699Z",
     "start_time": "2025-07-21T08:33:43.353463Z"
    }
   },
   "outputs": [],
   "source": [
    "import numpy as np\n",
    "#funzione per calcolare l'angolo tra eye1, nose e eye2 che sono tuple di due float\n",
    "def angle_eval(eye1, nose, eye2):\n",
    "\n",
    "    eye1_nose = np.array(eye1) - np.array(nose)\n",
    "    eye2_nose = np.array(eye2) - np.array(nose)\n",
    "\n",
    "    cos_theta = np.dot(eye1_nose, eye2_nose) / (np.linalg.norm(eye1_nose) * np.linalg.norm(eye2_nose))\n",
    "    cos_theta = np.clip(cos_theta, -1.0, 1.0) \n",
    "    angle_rad = np.arccos(cos_theta)\n",
    "\n",
    "    angle_deg = np.degrees(angle_rad)\n",
    "    return angle_deg"
   ]
  },
  {
   "cell_type": "code",
   "execution_count": null,
   "id": "739c1c6d81e3de76",
   "metadata": {},
   "outputs": [],
   "source": [
    "from ultralytics.engine.results import Boxes  \n",
    "#creiamo un embedding di features du 12 valori: \n",
    "# pos 0: flag -1,1 se rileva il bambino\n",
    "def embedding_builder_positions(prediction: Boxes):\n",
    "    embedding_position= {\n",
    "        \"HEAD\": 1,\n",
    "        \"EYE\": (3, 5),\n",
    "        \"MOUTH\": 7,\n",
    "        \"NOSE\": 9,\n",
    "        \"ANGLE_NOSE_EYES\": 11\n",
    "    }\n",
    "    \n",
    "    vec = np.full(12, -1.0, dtype=float)\n",
    "    for bbox, cls in zip(prediction.xywhn, prediction.cls):\n",
    "        class_label = classes_fd[cls.item()]\n",
    "        if class_label == \"BABY\":\n",
    "            pos = embedding_position[class_label]\n",
    "            \n",
    "            vec[pos] = 1\n",
    "        elif class_label == \"EYE\":\n",
    "            pos = embedding_position[class_label][0] if vec[embedding_position[class_label][0]] == -1 else embedding_position[class_label][1]\n",
    "            \n",
    "            vec[pos] = bbox[0]\n",
    "            vec[pos+1] = bbox[1]\n",
    "        else:\n",
    "            pos = embedding_position[class_label]\n",
    "            \n",
    "            vec[pos] = bbox[0]\n",
    "            vec[pos+1] = bbox[1]    \n",
    "        \n",
    "        pos = embedding_position[\"ANGLE_NOSE_EYES\"]\n",
    "        eye1 = (vec[embedding_position[\"EYE\"]], vec[embedding_position[\"EYE\"]+1])\n",
    "        eye2 = (vec[embedding_position[\"EYE\"]+2], vec[embedding_position[\"EYE\"]+3])\n",
    "        nose = (vec[embedding_position[\"NOSE\"]], vec[embedding_position[\"NOSE\"]+1])\n",
    "        if eye1[0]!=-1 and eye2[0]!=-1 and nose[0]!=-1:\n",
    "            vec[pos] = angle_eval(eye1, nose, eye2)\n",
    "            \n",
    "    return vec"
   ]
  },
  {
   "cell_type": "markdown",
   "id": "b6fed90c5623128a",
   "metadata": {},
   "source": []
  },
  {
   "cell_type": "markdown",
   "id": "a14da40a0eea0990",
   "metadata": {},
   "source": [
    "# COMBINATION 1 (dataset 2, model 2, embedding with positions)"
   ]
  },
  {
   "cell_type": "markdown",
   "id": "36b14b88b1c46d7e",
   "metadata": {},
   "source": [
    "**Feature extraction with face detection and embedding creation**"
   ]
  },
  {
   "cell_type": "code",
   "execution_count": 11,
   "id": "bef794c5d90612bc",
   "metadata": {
    "ExecuteTime": {
     "end_time": "2025-07-18T13:33:42.197416Z",
     "start_time": "2025-07-18T13:33:42.193629Z"
    }
   },
   "outputs": [],
   "source": [
    "model_version = \"v3\"\n",
    "dataset_folder = \"onback_onstomach_v2\"\n",
    "embedding_type = \"positions\""
   ]
  },
  {
   "cell_type": "code",
   "execution_count": 12,
   "id": "7179c145",
   "metadata": {
    "ExecuteTime": {
     "end_time": "2025-07-18T13:51:59.042101Z",
     "start_time": "2025-07-18T13:33:43.514218Z"
    }
   },
   "outputs": [
    {
     "name": "stdout",
     "output_type": "stream",
     "text": [
      "0%-->    0 / 1509 embeddings created\n",
      "6%-->    100 / 1509 embeddings created\n",
      "13%-->    200 / 1509 embeddings created\n",
      "19%-->    300 / 1509 embeddings created\n",
      "26%-->    400 / 1509 embeddings created\n",
      "33%-->    500 / 1509 embeddings created\n",
      "39%-->    600 / 1509 embeddings created\n",
      "46%-->    700 / 1509 embeddings created\n",
      "53%-->    800 / 1509 embeddings created\n",
      "59%-->    900 / 1509 embeddings created\n",
      "66%-->    1000 / 1509 embeddings created\n",
      "72%-->    1100 / 1509 embeddings created\n",
      "79%-->    1200 / 1509 embeddings created\n",
      "86%-->    1300 / 1509 embeddings created\n",
      "92%-->    1400 / 1509 embeddings created\n",
      "99%-->    1500 / 1509 embeddings created\n",
      "FINISHED EMBEDDING CREATION, 1509 embeddings created\n"
     ]
    },
    {
     "ename": "FileNotFoundError",
     "evalue": "[Errno 2] No such file or directory: 'v3/onback_onstomach_v2/positions.csv'",
     "output_type": "error",
     "traceback": [
      "\u001B[0;31m---------------------------------------------------------------------------\u001B[0m",
      "\u001B[0;31mFileNotFoundError\u001B[0m                         Traceback (most recent call last)",
      "Cell \u001B[0;32mIn[12], line 20\u001B[0m\n\u001B[1;32m     16\u001B[0m         y\u001B[38;5;241m.\u001B[39mappend(file_label[img\u001B[38;5;241m.\u001B[39mname])\n\u001B[1;32m     18\u001B[0m \u001B[38;5;28mprint\u001B[39m(\u001B[38;5;124mf\u001B[39m\u001B[38;5;124m\"\u001B[39m\u001B[38;5;124mFINISHED EMBEDDING CREATION, \u001B[39m\u001B[38;5;132;01m{\u001B[39;00m\u001B[38;5;28mlen\u001B[39m(y)\u001B[38;5;132;01m}\u001B[39;00m\u001B[38;5;124m embeddings created\u001B[39m\u001B[38;5;124m\"\u001B[39m)\n\u001B[0;32m---> 20\u001B[0m \u001B[43msave_embedding_label_dataset\u001B[49m\u001B[43m(\u001B[49m\u001B[43mdataset_folder\u001B[49m\u001B[43m,\u001B[49m\u001B[43m \u001B[49m\u001B[43membedding_type\u001B[49m\u001B[43m,\u001B[49m\u001B[43m \u001B[49m\u001B[43mmodel_version\u001B[49m\u001B[43m,\u001B[49m\u001B[43m \u001B[49m\u001B[43mX\u001B[49m\u001B[43m,\u001B[49m\u001B[43m \u001B[49m\u001B[43my\u001B[49m\u001B[43m)\u001B[49m\n\u001B[1;32m     21\u001B[0m \u001B[38;5;28mprint\u001B[39m(\u001B[38;5;124mf\u001B[39m\u001B[38;5;124m\"\u001B[39m\u001B[38;5;124mNew dataset (embedding - label) saved in \u001B[39m\u001B[38;5;124m'\u001B[39m\u001B[38;5;132;01m{\u001B[39;00mdataset_folder\u001B[38;5;132;01m}\u001B[39;00m\u001B[38;5;124m/\u001B[39m\u001B[38;5;132;01m{\u001B[39;00membedding_type\u001B[38;5;132;01m}\u001B[39;00m\u001B[38;5;124m.csv\u001B[39m\u001B[38;5;124m'\u001B[39m\u001B[38;5;124m\"\u001B[39m)\n",
      "Cell \u001B[0;32mIn[9], line 4\u001B[0m, in \u001B[0;36msave_embedding_label_dataset\u001B[0;34m(dataset, embedding_type, model_version, X, y)\u001B[0m\n\u001B[1;32m      3\u001B[0m \u001B[38;5;28;01mdef\u001B[39;00m\u001B[38;5;250m \u001B[39m\u001B[38;5;21msave_embedding_label_dataset\u001B[39m(dataset: \u001B[38;5;28mstr\u001B[39m, embedding_type: \u001B[38;5;28mstr\u001B[39m, model_version:\u001B[38;5;28mstr\u001B[39m, X, y):    \n\u001B[0;32m----> 4\u001B[0m     \u001B[38;5;28;01mwith\u001B[39;00m \u001B[38;5;28;43mopen\u001B[39;49m\u001B[43m(\u001B[49m\u001B[38;5;124;43mf\u001B[39;49m\u001B[38;5;124;43m\"\u001B[39;49m\u001B[38;5;132;43;01m{\u001B[39;49;00m\u001B[43mmodel_version\u001B[49m\u001B[38;5;132;43;01m}\u001B[39;49;00m\u001B[38;5;124;43m/\u001B[39;49m\u001B[38;5;132;43;01m{\u001B[39;49;00m\u001B[43mdataset\u001B[49m\u001B[38;5;132;43;01m}\u001B[39;49;00m\u001B[38;5;124;43m/\u001B[39;49m\u001B[38;5;132;43;01m{\u001B[39;49;00m\u001B[43membedding_type\u001B[49m\u001B[38;5;132;43;01m}\u001B[39;49;00m\u001B[38;5;124;43m.csv\u001B[39;49m\u001B[38;5;124;43m\"\u001B[39;49m\u001B[43m,\u001B[49m\u001B[43m \u001B[49m\u001B[38;5;124;43m\"\u001B[39;49m\u001B[38;5;124;43mw\u001B[39;49m\u001B[38;5;124;43m\"\u001B[39;49m\u001B[43m,\u001B[49m\u001B[43m \u001B[49m\u001B[43mnewline\u001B[49m\u001B[38;5;241;43m=\u001B[39;49m\u001B[38;5;124;43m'\u001B[39;49m\u001B[38;5;124;43m'\u001B[39;49m\u001B[43m)\u001B[49m \u001B[38;5;28;01mas\u001B[39;00m f:\n\u001B[1;32m      5\u001B[0m         writer \u001B[38;5;241m=\u001B[39m csv\u001B[38;5;241m.\u001B[39mwriter(f)\n\u001B[1;32m      6\u001B[0m         \u001B[38;5;28;01mfor\u001B[39;00m xi, yi \u001B[38;5;129;01min\u001B[39;00m \u001B[38;5;28mzip\u001B[39m(X, y):\n",
      "File \u001B[0;32m~/anaconda3/envs/SIDS_revelation_project/lib/python3.10/site-packages/IPython/core/interactiveshell.py:324\u001B[0m, in \u001B[0;36m_modified_open\u001B[0;34m(file, *args, **kwargs)\u001B[0m\n\u001B[1;32m    317\u001B[0m \u001B[38;5;28;01mif\u001B[39;00m file \u001B[38;5;129;01min\u001B[39;00m {\u001B[38;5;241m0\u001B[39m, \u001B[38;5;241m1\u001B[39m, \u001B[38;5;241m2\u001B[39m}:\n\u001B[1;32m    318\u001B[0m     \u001B[38;5;28;01mraise\u001B[39;00m \u001B[38;5;167;01mValueError\u001B[39;00m(\n\u001B[1;32m    319\u001B[0m         \u001B[38;5;124mf\u001B[39m\u001B[38;5;124m\"\u001B[39m\u001B[38;5;124mIPython won\u001B[39m\u001B[38;5;124m'\u001B[39m\u001B[38;5;124mt let you open fd=\u001B[39m\u001B[38;5;132;01m{\u001B[39;00mfile\u001B[38;5;132;01m}\u001B[39;00m\u001B[38;5;124m by default \u001B[39m\u001B[38;5;124m\"\u001B[39m\n\u001B[1;32m    320\u001B[0m         \u001B[38;5;124m\"\u001B[39m\u001B[38;5;124mas it is likely to crash IPython. If you know what you are doing, \u001B[39m\u001B[38;5;124m\"\u001B[39m\n\u001B[1;32m    321\u001B[0m         \u001B[38;5;124m\"\u001B[39m\u001B[38;5;124myou can use builtins\u001B[39m\u001B[38;5;124m'\u001B[39m\u001B[38;5;124m open.\u001B[39m\u001B[38;5;124m\"\u001B[39m\n\u001B[1;32m    322\u001B[0m     )\n\u001B[0;32m--> 324\u001B[0m \u001B[38;5;28;01mreturn\u001B[39;00m \u001B[43mio_open\u001B[49m\u001B[43m(\u001B[49m\u001B[43mfile\u001B[49m\u001B[43m,\u001B[49m\u001B[43m \u001B[49m\u001B[38;5;241;43m*\u001B[39;49m\u001B[43margs\u001B[49m\u001B[43m,\u001B[49m\u001B[43m \u001B[49m\u001B[38;5;241;43m*\u001B[39;49m\u001B[38;5;241;43m*\u001B[39;49m\u001B[43mkwargs\u001B[49m\u001B[43m)\u001B[49m\n",
      "\u001B[0;31mFileNotFoundError\u001B[0m: [Errno 2] No such file or directory: 'v3/onback_onstomach_v2/positions.csv'"
     ]
    }
   ],
   "source": [
    "onback_onstomach_dataset = Path(dataset_folder)\n",
    "X = []\n",
    "y = []\n",
    "\n",
    "for img in onback_onstomach_dataset.glob(\"*.jpg\"):\n",
    "    if img.name in file_label.keys():\n",
    "        #DEBUG\n",
    "        if len(y)%100 == 0:\n",
    "            print(f\"{int(len(y)*100/len(file_label))}%-->    {len(y)} / {len(file_label)} embeddings created\")\n",
    "        #DEBUG    \n",
    "        result = model(img, conf=0.3, verbose=False)[0]\n",
    "        prediction = result.boxes\n",
    "        \n",
    "        vec = embedding_builder_positions(prediction)\n",
    "        X.append(vec)\n",
    "        y.append(file_label[img.name])\n",
    "        \n",
    "print(f\"FINISHED EMBEDDING CREATION, {len(y)} embeddings created\")\n",
    "\n",
    "save_embedding_label_dataset(dataset_folder, embedding_type, model_version, X, y)\n",
    "print(f\"New dataset (embedding - label) saved in '{dataset_folder}/{embedding_type}.csv'\")"
   ]
  },
  {
   "cell_type": "markdown",
   "id": "b632dfc383e85ca1",
   "metadata": {},
   "source": [
    "**Loading of (embedding - label) dataset from f\"{model_version}/{dataset}/{embedding_type}.csv\"**"
   ]
  },
  {
   "cell_type": "code",
   "execution_count": 16,
   "id": "18db39995023f109",
   "metadata": {
    "ExecuteTime": {
     "end_time": "2025-07-18T13:57:30.254923Z",
     "start_time": "2025-07-18T13:57:30.234166Z"
    }
   },
   "outputs": [
    {
     "name": "stdout",
     "output_type": "stream",
     "text": [
      "New dataset (embedding - label) saved in 'onback_onstomach_v2/positions.csv'\n"
     ]
    }
   ],
   "source": [
    "save_embedding_label_dataset(dataset_folder, embedding_type, model_version, X, y)\n",
    "print(f\"New dataset (embedding - label) saved in '{dataset_folder}/{embedding_type}.csv'\")"
   ]
  },
  {
   "cell_type": "code",
   "execution_count": 19,
   "id": "ebed49b61e2922ea",
   "metadata": {
    "ExecuteTime": {
     "end_time": "2025-07-18T13:57:40.301244Z",
     "start_time": "2025-07-18T13:57:40.293503Z"
    }
   },
   "outputs": [],
   "source": [
    "X, y = load_embedding_label_dataset(dataset_folder, embedding_type, model_version)"
   ]
  },
  {
   "cell_type": "markdown",
   "id": "a6776f9b3e0d8a15",
   "metadata": {},
   "source": [
    "# RANDOM FOREST"
   ]
  },
  {
   "cell_type": "code",
   "execution_count": 22,
   "id": "60364abe",
   "metadata": {
    "ExecuteTime": {
     "end_time": "2025-07-18T13:57:55.162309Z",
     "start_time": "2025-07-18T13:57:54.960411Z"
    }
   },
   "outputs": [
    {
     "name": "stdout",
     "output_type": "stream",
     "text": [
      "\n",
      "Dataset labels:----------------------------------------\n",
      "{'baby_on_back': 1, 'baby_on_stomach': 2, 'crib': 3}\n",
      "\n",
      "Report-------------------------------------------------\n",
      "                 precision    recall  f1-score   support\n",
      "\n",
      "   baby_on_back       0.88      0.56      0.69       128\n",
      "baby_on_stomach       0.75      0.94      0.83       174\n",
      "\n",
      "       accuracy                           0.78       302\n",
      "      macro avg       0.81      0.75      0.76       302\n",
      "   weighted avg       0.80      0.78      0.77       302\n",
      "\n"
     ]
    }
   ],
   "source": [
    "from sklearn.ensemble import RandomForestClassifier\n",
    "from sklearn.model_selection import train_test_split\n",
    "from sklearn.metrics import accuracy_score, classification_report\n",
    "import numpy as np\n",
    "\n",
    "X_train, X_test, y_train, y_test = train_test_split(X, y, test_size=0.2, random_state=42)\n",
    "\n",
    "clf = RandomForestClassifier(n_estimators=100, random_state=42)\n",
    "clf.fit(X_train, y_train)\n",
    "\n",
    "# Predict on the test set\n",
    "y_pred = clf.predict(X_test)\n",
    "\n",
    "# Evaluate\n",
    "print(f\"\\nDataset labels:----------------------------------------\\n{classes_mlp}\\n\")\n",
    "\n",
    "print(f\"Report-------------------------------------------------\")\n",
    "labels_in_dataset = list(classes_mlp.keys())[:2]\n",
    "print(classification_report(y_test, y_pred, target_names=labels_in_dataset))"
   ]
  },
  {
   "cell_type": "code",
   "execution_count": 23,
   "id": "5543c3e843780f9f",
   "metadata": {
    "ExecuteTime": {
     "end_time": "2025-07-18T13:57:57.408324Z",
     "start_time": "2025-07-18T13:57:57.217031Z"
    }
   },
   "outputs": [
    {
     "data": {
      "image/png": "[encoded data removed]",
      "text/plain": [
       "<Figure size 640x480 with 2 Axes>"
      ]
     },
     "metadata": {},
     "output_type": "display_data"
    }
   ],
   "source": [
    "from sklearn.metrics import confusion_matrix, ConfusionMatrixDisplay\n",
    "import matplotlib.pyplot as plt\n",
    "\n",
    "cm = confusion_matrix(y_test, y_pred)\n",
    "\n",
    "disp = ConfusionMatrixDisplay(confusion_matrix=cm, display_labels=labels_in_dataset)\n",
    "disp.plot(cmap=plt.cm.Blues)\n",
    "plt.title(\"Confusion Matrix\")\n",
    "plt.show()"
   ]
  },
  {
   "cell_type": "markdown",
   "id": "61f1e1783a14d435",
   "metadata": {},
   "source": [
    "# SVM"
   ]
  },
  {
   "cell_type": "code",
   "execution_count": 24,
   "id": "9efef87bf7157b24",
   "metadata": {
    "ExecuteTime": {
     "end_time": "2025-07-18T13:58:40.314663Z",
     "start_time": "2025-07-18T13:58:40.234341Z"
    }
   },
   "outputs": [
    {
     "name": "stdout",
     "output_type": "stream",
     "text": [
      "\n",
      "Dataset labels:----------------------------------------\n",
      "{'baby_on_back': 1, 'baby_on_stomach': 2, 'crib': 3}\n",
      "\n",
      "Report-------------------------------------------------\n",
      "                 precision    recall  f1-score   support\n",
      "\n",
      "   baby_on_back       0.68      0.54      0.60       128\n",
      "baby_on_stomach       0.71      0.82      0.76       174\n",
      "\n",
      "       accuracy                           0.70       302\n",
      "      macro avg       0.69      0.68      0.68       302\n",
      "   weighted avg       0.70      0.70      0.69       302\n",
      "\n"
     ]
    }
   ],
   "source": [
    "from sklearn.svm import SVC\n",
    "from sklearn.model_selection import train_test_split\n",
    "from sklearn.metrics import accuracy_score, classification_report\n",
    "from sklearn.preprocessing import StandardScaler\n",
    "import numpy as np\n",
    "\n",
    "# Suddivisione del dataset\n",
    "X_train, X_test, y_train, y_test = train_test_split(X, y, test_size=0.2, random_state=42)\n",
    "\n",
    "scaler = StandardScaler()\n",
    "X_train_scaled = scaler.fit_transform(X_train)\n",
    "X_test_scaled = scaler.transform(X_test)\n",
    "\n",
    "# puoi provare anche kernel='linear'\n",
    "svm_clf = SVC(kernel='linear', C=1.0, gamma='scale', random_state=42)\n",
    "svm_clf.fit(X_train_scaled, y_train)\n",
    "\n",
    "y_pred = svm_clf.predict(X_test_scaled)\n",
    "print(f\"\\nDataset labels:----------------------------------------\\n{classes_mlp}\\n\")\n",
    "\n",
    "print(f\"Report-------------------------------------------------\")\n",
    "labels_in_dataset = list(classes_mlp.keys())[:2]\n",
    "print(classification_report(y_test, y_pred, target_names=labels_in_dataset))\n"
   ]
  },
  {
   "cell_type": "code",
   "execution_count": 25,
   "id": "bd70798c5f198628",
   "metadata": {
    "ExecuteTime": {
     "end_time": "2025-07-18T13:58:44.094703Z",
     "start_time": "2025-07-18T13:58:43.922149Z"
    }
   },
   "outputs": [
    {
     "data": {
      "image/png": "[encoded data removed]",
      "text/plain": [
       "<Figure size 640x480 with 2 Axes>"
      ]
     },
     "metadata": {},
     "output_type": "display_data"
    }
   ],
   "source": [
    "from sklearn.metrics import confusion_matrix, ConfusionMatrixDisplay\n",
    "import matplotlib.pyplot as plt\n",
    "\n",
    "cm = confusion_matrix(y_test, y_pred)\n",
    "\n",
    "disp = ConfusionMatrixDisplay(confusion_matrix=cm, display_labels=labels_in_dataset)\n",
    "disp.plot(cmap=plt.cm.Blues)\n",
    "plt.title(\"Confusion Matrix\")\n",
    "plt.show()"
   ]
  },
  {
   "cell_type": "markdown",
   "id": "f6a235df9d222387",
   "metadata": {},
   "source": [
    "FIne tuning"
   ]
  },
  {
   "cell_type": "code",
   "execution_count": 26,
   "id": "5c82aab3999be868",
   "metadata": {
    "ExecuteTime": {
     "end_time": "2025-07-18T13:58:49.303477Z",
     "start_time": "2025-07-18T13:58:46.261591Z"
    }
   },
   "outputs": [
    {
     "name": "stdout",
     "output_type": "stream",
     "text": [
      "Fitting 3 folds for each of 20 candidates, totalling 60 fits\n",
      "\n",
      "Best parameters found by GridSearch:\n",
      "{'C': 100, 'gamma': 10, 'kernel': 'rbf'}\n",
      "\n",
      "Classification Report:\n",
      "                 precision    recall  f1-score   support\n",
      "\n",
      "   baby_on_back       0.80      0.59      0.68       128\n",
      "baby_on_stomach       0.75      0.89      0.81       174\n",
      "\n",
      "       accuracy                           0.76       302\n",
      "      macro avg       0.77      0.74      0.74       302\n",
      "   weighted avg       0.77      0.76      0.75       302\n",
      "\n"
     ]
    }
   ],
   "source": [
    "from sklearn.model_selection import GridSearchCV\n",
    "from sklearn.svm import SVC\n",
    "from sklearn.preprocessing import StandardScaler\n",
    "from sklearn.metrics import classification_report\n",
    "from sklearn.model_selection import train_test_split\n",
    "\n",
    "# Step 1: Split\n",
    "X_train, X_test, y_train, y_test = train_test_split(X, y, test_size=0.2, random_state=42)\n",
    "\n",
    "# Step 2: Scale\n",
    "scaler = StandardScaler()\n",
    "X_train_scaled = scaler.fit_transform(X_train)\n",
    "X_test_scaled = scaler.transform(X_test)\n",
    "\n",
    "# Step 3: Define param grid\n",
    "param_grid = {\n",
    "    'C': [0.1, 1, 10, 100],         # regularizzazione\n",
    "    'gamma': ['scale', 0.01, 0.1, 1, 10],  # ampiezza del raggio RBF\n",
    "    'kernel': ['rbf']               # puoi aggiungere anche 'linear' o 'poly' se vuoi\n",
    "}\n",
    "\n",
    "# Step 4: GridSearchCV\n",
    "grid = GridSearchCV(SVC(), param_grid, refit=True, cv=3, scoring='accuracy', verbose=2, n_jobs=-1)\n",
    "grid.fit(X_train_scaled, y_train)\n",
    "\n",
    "# Step 5: Risultati\n",
    "print(\"\\nBest parameters found by GridSearch:\")\n",
    "print(grid.best_params_)\n",
    "\n",
    "# Step 6: Valutazione finale\n",
    "y_pred = grid.predict(X_test_scaled)\n",
    "\n",
    "print(\"\\nClassification Report:\")\n",
    "labels_in_dataset = list(classes_mlp.keys())[:2]\n",
    "print(classification_report(y_test, y_pred, target_names=labels_in_dataset))\n"
   ]
  },
  {
   "cell_type": "markdown",
   "id": "6ac24782b0546860",
   "metadata": {},
   "source": [
    "** Try other classifiers **"
   ]
  },
  {
   "cell_type": "markdown",
   "id": "279b13f1d774f820",
   "metadata": {},
   "source": [
    "# COMBINATION 2 (dataset 2, model 2, embedding with flag)"
   ]
  },
  {
   "cell_type": "code",
   "execution_count": 27,
   "id": "6932070e91394045",
   "metadata": {
    "ExecuteTime": {
     "end_time": "2025-07-18T13:58:59.218866Z",
     "start_time": "2025-07-18T13:58:59.215860Z"
    }
   },
   "outputs": [],
   "source": [
    "dataset_folder = \"onback_onstomach_v2\"\n",
    "embedding_type = \"flag\""
   ]
  },
  {
   "cell_type": "code",
   "execution_count": 29,
   "id": "1716cfa6cd19bd03",
   "metadata": {
    "ExecuteTime": {
     "end_time": "2025-07-18T14:34:31.953592Z",
     "start_time": "2025-07-18T14:16:52.662088Z"
    }
   },
   "outputs": [
    {
     "name": "stdout",
     "output_type": "stream",
     "text": [
      "0%-->    0 / 1509 embeddings created\n",
      "6%-->    100 / 1509 embeddings created\n",
      "13%-->    200 / 1509 embeddings created\n",
      "19%-->    300 / 1509 embeddings created\n",
      "26%-->    400 / 1509 embeddings created\n",
      "33%-->    500 / 1509 embeddings created\n",
      "39%-->    600 / 1509 embeddings created\n",
      "46%-->    700 / 1509 embeddings created\n",
      "53%-->    800 / 1509 embeddings created\n",
      "59%-->    900 / 1509 embeddings created\n",
      "66%-->    1000 / 1509 embeddings created\n",
      "72%-->    1100 / 1509 embeddings created\n",
      "79%-->    1200 / 1509 embeddings created\n",
      "86%-->    1300 / 1509 embeddings created\n",
      "92%-->    1400 / 1509 embeddings created\n",
      "99%-->    1500 / 1509 embeddings created\n",
      "FINISHED EMBEDDING CREATION, 1509 embeddings created\n",
      "New dataset (embedding - label) saved in 'onback_onstomach_v2/flag.csv'\n"
     ]
    }
   ],
   "source": [
    "onback_onstomach_dataset = Path(dataset_folder)\n",
    "X = []\n",
    "y = []\n",
    "\n",
    "for img in onback_onstomach_dataset.glob(\"*.jpg\"):\n",
    "    if img.name in file_label.keys():\n",
    "        #DEBUG\n",
    "        if len(y)%100 == 0:\n",
    "            print(f\"{int(len(y)*100/len(file_label))}%-->    {len(y)} / {len(file_label)} embeddings created\")\n",
    "        #DEBUG    \n",
    "        result = model(img, conf=0.3, verbose=False)[0]\n",
    "        prediction = result.boxes\n",
    "        \n",
    "        vec = embedding_builder_flag(prediction)\n",
    "        X.append(vec)\n",
    "        y.append(file_label[img.name])\n",
    "        \n",
    "print(f\"FINISHED EMBEDDING CREATION, {len(y)} embeddings created\")\n",
    "\n",
    "save_embedding_label_dataset(dataset_folder, embedding_type, model_version, X, y)\n",
    "print(f\"New dataset (embedding - label) saved in '{dataset_folder}/{embedding_type}.csv'\")"
   ]
  },
  {
   "cell_type": "code",
   "execution_count": null,
   "id": "1eb9628960c4f018",
   "metadata": {},
   "outputs": [],
   "source": [
    "X, y = load_embedding_label_dataset(dataset_folder, embedding_type, model_version)"
   ]
  },
  {
   "cell_type": "markdown",
   "id": "ee8e36c8b4f934cd",
   "metadata": {},
   "source": [
    "**Process dataset with RANDOM FOREST**"
   ]
  },
  {
   "cell_type": "code",
   "execution_count": 31,
   "id": "3ab6aac03e318958",
   "metadata": {
    "ExecuteTime": {
     "end_time": "2025-07-18T14:34:47.124830Z",
     "start_time": "2025-07-18T14:34:46.954832Z"
    }
   },
   "outputs": [
    {
     "name": "stdout",
     "output_type": "stream",
     "text": [
      "\n",
      "Dataset labels:----------------------------------------\n",
      "{'baby_on_back': 1, 'baby_on_stomach': 2, 'crib': 3}\n",
      "\n",
      "Report-------------------------------------------------\n",
      "                 precision    recall  f1-score   support\n",
      "\n",
      "   baby_on_back       0.87      0.45      0.59       128\n",
      "baby_on_stomach       0.70      0.95      0.81       174\n",
      "\n",
      "       accuracy                           0.74       302\n",
      "      macro avg       0.78      0.70      0.70       302\n",
      "   weighted avg       0.77      0.74      0.72       302\n",
      "\n"
     ]
    }
   ],
   "source": [
    "from sklearn.ensemble import RandomForestClassifier\n",
    "from sklearn.model_selection import train_test_split\n",
    "from sklearn.metrics import accuracy_score, classification_report\n",
    "import numpy as np\n",
    "\n",
    "X_train, X_test, y_train, y_test = train_test_split(X, y, test_size=0.2, random_state=42)\n",
    "\n",
    "clf = RandomForestClassifier(n_estimators=100, random_state=42)\n",
    "clf.fit(X_train, y_train)\n",
    "\n",
    "# Predict on the test set\n",
    "y_pred = clf.predict(X_test)\n",
    "\n",
    "# Evaluate\n",
    "print(f\"\\nDataset labels:----------------------------------------\\n{classes_mlp}\\n\")\n",
    "\n",
    "print(f\"Report-------------------------------------------------\")\n",
    "labels_in_dataset = list(classes_mlp.keys())[:2]\n",
    "print(classification_report(y_test, y_pred, target_names=labels_in_dataset))"
   ]
  },
  {
   "cell_type": "code",
   "execution_count": 32,
   "id": "e391f4171a0b3299",
   "metadata": {
    "ExecuteTime": {
     "end_time": "2025-07-18T14:34:50.693590Z",
     "start_time": "2025-07-18T14:34:50.437971Z"
    }
   },
   "outputs": [
    {
     "data": {
      "image/png": "[encoded data removed]",
      "text/plain": [
       "<Figure size 640x480 with 2 Axes>"
      ]
     },
     "metadata": {},
     "output_type": "display_data"
    }
   ],
   "source": [
    "from sklearn.metrics import confusion_matrix, ConfusionMatrixDisplay\n",
    "import matplotlib.pyplot as plt\n",
    "\n",
    "cm = confusion_matrix(y_test, y_pred)\n",
    "\n",
    "disp = ConfusionMatrixDisplay(confusion_matrix=cm, display_labels=labels_in_dataset)\n",
    "disp.plot(cmap=plt.cm.Blues)\n",
    "plt.title(\"Confusion Matrix\")\n",
    "plt.show()"
   ]
  },
  {
   "cell_type": "markdown",
   "id": "cbb9f6cbb7713e8f",
   "metadata": {},
   "source": [
    "# SVM"
   ]
  },
  {
   "cell_type": "code",
   "execution_count": 33,
   "id": "b4472710341d67ff",
   "metadata": {
    "ExecuteTime": {
     "end_time": "2025-07-18T14:34:53.224377Z",
     "start_time": "2025-07-18T14:34:52.982081Z"
    }
   },
   "outputs": [
    {
     "name": "stdout",
     "output_type": "stream",
     "text": [
      "\n",
      "Dataset labels:----------------------------------------\n",
      "{'baby_on_back': 1, 'baby_on_stomach': 2, 'crib': 3}\n",
      "\n",
      "Report-------------------------------------------------\n",
      "                 precision    recall  f1-score   support\n",
      "\n",
      "   baby_on_back       0.70      0.58      0.63       128\n",
      "baby_on_stomach       0.72      0.82      0.77       174\n",
      "\n",
      "       accuracy                           0.72       302\n",
      "      macro avg       0.71      0.70      0.70       302\n",
      "   weighted avg       0.71      0.72      0.71       302\n",
      "\n"
     ]
    },
    {
     "data": {
      "image/png": "[encoded data removed]",
      "text/plain": [
       "<Figure size 640x480 with 2 Axes>"
      ]
     },
     "metadata": {},
     "output_type": "display_data"
    }
   ],
   "source": [
    "from sklearn.svm import SVC\n",
    "from sklearn.model_selection import train_test_split\n",
    "from sklearn.metrics import accuracy_score, classification_report\n",
    "from sklearn.preprocessing import StandardScaler\n",
    "import numpy as np\n",
    "\n",
    "# Suddivisione del dataset\n",
    "X_train, X_test, y_train, y_test = train_test_split(X, y, test_size=0.2, random_state=42)\n",
    "\n",
    "scaler = StandardScaler()\n",
    "X_train_scaled = scaler.fit_transform(X_train)\n",
    "X_test_scaled = scaler.transform(X_test)\n",
    "\n",
    "# puoi provare anche kernel='linear'\n",
    "svm_clf = SVC(kernel='linear', C=1.0, gamma='scale', random_state=42)\n",
    "svm_clf.fit(X_train_scaled, y_train)\n",
    "\n",
    "y_pred = svm_clf.predict(X_test_scaled)\n",
    "print(f\"\\nDataset labels:----------------------------------------\\n{classes_mlp}\\n\")\n",
    "\n",
    "print(f\"Report-------------------------------------------------\")\n",
    "labels_in_dataset = list(classes_mlp.keys())[:2]\n",
    "print(classification_report(y_test, y_pred, target_names=labels_in_dataset))\n",
    "\n",
    "from sklearn.metrics import confusion_matrix, ConfusionMatrixDisplay\n",
    "import matplotlib.pyplot as plt\n",
    "\n",
    "cm = confusion_matrix(y_test, y_pred)\n",
    "\n",
    "disp = ConfusionMatrixDisplay(confusion_matrix=cm, display_labels=labels_in_dataset)\n",
    "disp.plot(cmap=plt.cm.Blues)\n",
    "plt.title(\"Confusion Matrix\")\n",
    "plt.show()"
   ]
  },
  {
   "cell_type": "markdown",
   "id": "af2946ce45652e93",
   "metadata": {},
   "source": [
    "Fine tuning"
   ]
  },
  {
   "cell_type": "code",
   "execution_count": 34,
   "id": "c34ac410f1b4f2b9",
   "metadata": {
    "ExecuteTime": {
     "end_time": "2025-07-18T14:34:58.843476Z",
     "start_time": "2025-07-18T14:34:55.331321Z"
    }
   },
   "outputs": [
    {
     "name": "stdout",
     "output_type": "stream",
     "text": [
      "Fitting 3 folds for each of 20 candidates, totalling 60 fits\n",
      "\n",
      "Best parameters found by GridSearch:\n",
      "{'C': 100, 'gamma': 0.01, 'kernel': 'rbf'}\n",
      "\n",
      "Classification Report:\n",
      "                 precision    recall  f1-score   support\n",
      "\n",
      "   baby_on_back       0.87      0.45      0.59       128\n",
      "baby_on_stomach       0.70      0.95      0.81       174\n",
      "\n",
      "       accuracy                           0.74       302\n",
      "      macro avg       0.78      0.70      0.70       302\n",
      "   weighted avg       0.77      0.74      0.72       302\n",
      "\n"
     ]
    }
   ],
   "source": [
    "from sklearn.model_selection import GridSearchCV\n",
    "from sklearn.svm import SVC\n",
    "from sklearn.preprocessing import StandardScaler\n",
    "from sklearn.metrics import classification_report\n",
    "from sklearn.model_selection import train_test_split\n",
    "\n",
    "# Step 1: Split\n",
    "X_train, X_test, y_train, y_test = train_test_split(X, y, test_size=0.2, random_state=42)\n",
    "\n",
    "# Step 2: Scale\n",
    "scaler = StandardScaler()\n",
    "X_train_scaled = scaler.fit_transform(X_train)\n",
    "X_test_scaled = scaler.transform(X_test)\n",
    "\n",
    "# Step 3: Define param grid\n",
    "param_grid = {\n",
    "    'C': [0.1, 1, 10, 100],  # regularizzazione\n",
    "    'gamma': ['scale', 0.01, 0.1, 1, 10],  # ampiezza del raggio RBF\n",
    "    'kernel': ['rbf']  # puoi aggiungere anche 'linear' o 'poly' se vuoi\n",
    "}\n",
    "\n",
    "# Step 4: GridSearchCV\n",
    "grid = GridSearchCV(SVC(), param_grid, refit=True, cv=3, scoring='accuracy', verbose=2, n_jobs=-1)\n",
    "grid.fit(X_train_scaled, y_train)\n",
    "\n",
    "# Step 5: Risultati\n",
    "print(\"\\nBest parameters found by GridSearch:\")\n",
    "print(grid.best_params_)\n",
    "\n",
    "# Step 6: Valutazione finale\n",
    "y_pred = grid.predict(X_test_scaled)\n",
    "\n",
    "print(\"\\nClassification Report:\")\n",
    "labels_in_dataset = list(classes_mlp.keys())[:2]\n",
    "print(classification_report(y_test, y_pred, target_names=labels_in_dataset))"
   ]
  },
  {
   "cell_type": "code",
   "execution_count": null,
   "id": "13e4cff723315ebb",
   "metadata": {},
   "outputs": [],
   "source": []
  }
 ],
 "metadata": {
  "kernelspec": {
   "display_name": "LabML",
   "language": "python",
   "name": "python3"
  },
  "language_info": {
   "codemirror_mode": {
    "name": "ipython",
    "version": 3
   },
   "file_extension": ".py",
   "mimetype": "text/x-python",
   "name": "python",
   "nbconvert_exporter": "python",
   "pygments_lexer": "ipython3",
   "version": "3.9.21"
  }
 },
 "nbformat": 4,
 "nbformat_minor": 5
}
