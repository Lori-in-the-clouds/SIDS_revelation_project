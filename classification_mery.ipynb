{
 "cells": [
  {
   "cell_type": "code",
   "execution_count": 2,
   "id": "173c5154",
   "metadata": {},
   "outputs": [
    {
     "name": "stdout",
     "output_type": "stream",
     "text": [
      "Creating new Ultralytics Settings v0.0.6 file  \n",
      "View Ultralytics Settings with 'yolo settings' or at 'C:\\Users\\memes\\AppData\\Roaming\\Ultralytics\\settings.json'\n",
      "Update Settings with 'yolo settings key=value', i.e. 'yolo settings runs_dir=path/to/dir'. For help see https://docs.ultralytics.com/quickstart/#ultralytics-settings.\n",
      "Face detection model is able to detect following classes:\n",
      "{0: 'BABY', 1: 'EYE', 2: 'HEAD', 3: 'MOUTH', 4: 'NOSE'}\n"
     ]
    }
   ],
   "source": [
    "import numpy as np\n",
    "from ultralytics import YOLO\n",
    "import os\n",
    "from pathlib import Path\n",
    "import cv2\n",
    "\n",
    "os.chdir(\"C:\\\\Users\\\\memes\\\\Documents\\\\SIDS_revelation_project\")\n",
    "model = YOLO(\".\\\\2.weights\\\\best.pt\")\n",
    "\n",
    "classes_fd = model.names\n",
    "print(f\"Face detection model is able to detect following classes:\\n{classes_fd}\")"
   ]
  },
  {
   "cell_type": "markdown",
   "id": "394bf165",
   "metadata": {},
   "source": [
    "Extract form json file\n"
   ]
  },
  {
   "cell_type": "code",
   "execution_count": null,
   "id": "a6f408ea",
   "metadata": {},
   "outputs": [],
   "source": [
    "import json\n",
    "os.chdir(\"C:\\\\Users\\\\memes\\\\Documents\\\\SIDS_revelation_project\")\n",
    "\n",
    "file_imgid = {}\n",
    "imgid_label = {}\n",
    "file_label = {}\n",
    "\n",
    "classes_mlp = {}\n",
    "\n",
    "with open(\"baby_posture.v1i.coco\\\\train\\\\_annotations.coco.json\", \"r\") as f:\n",
    "    dataset = json.load(f)\n",
    "    \n",
    "    for img in dataset[\"images\"]:\n",
    "        file_imgid[img[\"file_name\"]] =img[\"id\"]\n",
    "    \n",
    "    for label in dataset[\"annotations\"]:\n",
    "        imgid_label[label[\"image_id\"]] = label[\"category_id\"]\n",
    "    \n",
    "    for cls in dataset[\"categories\"]:\n",
    "        classes_mlp[cls[\"name\"]]=cls[\"id\"]\n",
    "    del classes_mlp[\"Positions\"]\n",
    "\n",
    "for file, img_id in file_imgid.items():\n",
    "    if img_id in imgid_label.keys():\n",
    "        file_label[file] = imgid_label[img_id]      "
   ]
  }
 ],
 "metadata": {
  "kernelspec": {
   "display_name": "LabML",
   "language": "python",
   "name": "python3"
  },
  "language_info": {
   "codemirror_mode": {
    "name": "ipython",
    "version": 3
   },
   "file_extension": ".py",
   "mimetype": "text/x-python",
   "name": "python",
   "nbconvert_exporter": "python",
   "pygments_lexer": "ipython3",
   "version": "3.9.21"
  }
 },
 "nbformat": 4,
 "nbformat_minor": 5
}
