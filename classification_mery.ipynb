{
 "cells": [
  {
   "cell_type": "code",
   "id": "173c5154",
   "metadata": {
    "ExecuteTime": {
     "end_time": "2025-07-16T20:20:41.504842Z",
     "start_time": "2025-07-16T20:20:39.088989Z"
    }
   },
   "source": [
    "import numpy as np\n",
    "from ultralytics import YOLO\n",
    "import os\n",
    "from pathlib import Path\n",
    "import cv2\n",
    "\n",
    "os.chdir(\"C:\\\\Users\\\\memes\\\\Documents\\\\SIDS_revelation_project\")\n",
    "model = YOLO(\".\\\\2.weights\\\\best.pt\")\n",
    "\n",
    "classes_fd = model.names\n",
    "print(f\"Face detection model is able to detect following classes:\\n{classes_fd}\")"
   ],
   "outputs": [
    {
     "ename": "FileNotFoundError",
     "evalue": "[Errno 2] No such file or directory: 'C:\\\\Users\\\\memes\\\\Documents\\\\SIDS_revelation_project'",
     "output_type": "error",
     "traceback": [
      "\u001B[0;31m---------------------------------------------------------------------------\u001B[0m",
      "\u001B[0;31mFileNotFoundError\u001B[0m                         Traceback (most recent call last)",
      "Cell \u001B[0;32mIn[1], line 7\u001B[0m\n\u001B[1;32m      4\u001B[0m \u001B[38;5;28;01mfrom\u001B[39;00m\u001B[38;5;250m \u001B[39m\u001B[38;5;21;01mpathlib\u001B[39;00m\u001B[38;5;250m \u001B[39m\u001B[38;5;28;01mimport\u001B[39;00m Path\n\u001B[1;32m      5\u001B[0m \u001B[38;5;28;01mimport\u001B[39;00m\u001B[38;5;250m \u001B[39m\u001B[38;5;21;01mcv2\u001B[39;00m\n\u001B[0;32m----> 7\u001B[0m \u001B[43mos\u001B[49m\u001B[38;5;241;43m.\u001B[39;49m\u001B[43mchdir\u001B[49m\u001B[43m(\u001B[49m\u001B[38;5;124;43m\"\u001B[39;49m\u001B[38;5;124;43mC:\u001B[39;49m\u001B[38;5;130;43;01m\\\\\u001B[39;49;00m\u001B[38;5;124;43mUsers\u001B[39;49m\u001B[38;5;130;43;01m\\\\\u001B[39;49;00m\u001B[38;5;124;43mmemes\u001B[39;49m\u001B[38;5;130;43;01m\\\\\u001B[39;49;00m\u001B[38;5;124;43mDocuments\u001B[39;49m\u001B[38;5;130;43;01m\\\\\u001B[39;49;00m\u001B[38;5;124;43mSIDS_revelation_project\u001B[39;49m\u001B[38;5;124;43m\"\u001B[39;49m\u001B[43m)\u001B[49m\n\u001B[1;32m      8\u001B[0m model \u001B[38;5;241m=\u001B[39m YOLO(\u001B[38;5;124m\"\u001B[39m\u001B[38;5;124m.\u001B[39m\u001B[38;5;130;01m\\\\\u001B[39;00m\u001B[38;5;124m2.weights\u001B[39m\u001B[38;5;130;01m\\\\\u001B[39;00m\u001B[38;5;124mbest.pt\u001B[39m\u001B[38;5;124m\"\u001B[39m)\n\u001B[1;32m     10\u001B[0m classes_fd \u001B[38;5;241m=\u001B[39m model\u001B[38;5;241m.\u001B[39mnames\n",
      "\u001B[0;31mFileNotFoundError\u001B[0m: [Errno 2] No such file or directory: 'C:\\\\Users\\\\memes\\\\Documents\\\\SIDS_revelation_project'"
     ]
    }
   ],
   "execution_count": 1
  },
  {
   "cell_type": "markdown",
   "id": "394bf165",
   "metadata": {},
   "source": [
    "Extract form json file\n"
   ]
  },
  {
   "cell_type": "code",
   "id": "a6f408ea",
   "metadata": {},
   "source": [
    "import json\n",
    "os.chdir(\"C:\\\\Users\\\\memes\\\\Documents\\\\SIDS_revelation_project\")\n",
    "\n",
    "file_imgid = {}\n",
    "imgid_label = {}\n",
    "file_label = {}\n",
    "\n",
    "classes_mlp = {}\n",
    "\n",
    "with open(\"train\\\\_annotations.coco.json\", \"r\") as f:\n",
    "    dataset = json.load(f)\n",
    "    \n",
    "    for img in dataset[\"images\"]:\n",
    "        file_imgid[img[\"file_name\"]] =img[\"id\"]\n",
    "    \n",
    "    for label in dataset[\"annotations\"]:\n",
    "        imgid_label[label[\"image_id\"]] = label[\"category_id\"]\n",
    "    \n",
    "    for cls in dataset[\"categories\"]:\n",
    "        classes_mlp[cls[\"name\"]]=cls[\"id\"]\n",
    "    del classes_mlp[\"baby\"]\n",
    "\n",
    "for file, img_id in file_imgid.items():\n",
    "    if img_id in imgid_label.keys():\n",
    "        file_label[file] = imgid_label[img_id]      "
   ],
   "outputs": [],
   "execution_count": null
  },
  {
   "cell_type": "code",
   "id": "95301492",
   "metadata": {},
   "source": [
    "from ultralytics.engine.results import Boxes  \n",
    "\n",
    "def embedding_builder_mery(prediction: Boxes):\n",
    "    '''\n",
    "    DEBUG PURPOSE\n",
    "    if prediction.xywhn.size()[0]>6:\n",
    "        print(f\"Warning, more than 6 features detected in the sample\\n{prediction.cls}\")\n",
    "    '''\n",
    "    \n",
    "    embedding_position= {\n",
    "        \"BABY\" : 0,\n",
    "        \"HEAD\": 1,\n",
    "        \"EYE\": (2,3),\n",
    "        \"MOUTH\": 4,\n",
    "        \"NOSE\": 5\n",
    "    }\n",
    "    \n",
    "    vec = np.full(6, -1.0, dtype=float)\n",
    "    for cls in (prediction.cls):\n",
    "        class_label = classes_fd[cls.item()]\n",
    "        if class_label == \"EYE\":\n",
    "            pos = embedding_position[class_label][0] if vec[embedding_position[class_label][0]] == -1 else embedding_position[class_label][1]\n",
    "            vec[pos] = 1\n",
    "        else:\n",
    "            pos = embedding_position[class_label]\n",
    "            vec[pos] = 1 \n",
    "    return vec"
   ],
   "outputs": [],
   "execution_count": null
  },
  {
   "cell_type": "code",
   "id": "c808e85c",
   "metadata": {},
   "source": [
    "from ultralytics.engine.results import Boxes  \n",
    "\n",
    "def embedding_builder(prediction: Boxes):\n",
    "    '''\n",
    "    DEBUG PURPOSE\n",
    "    if prediction.xywhn.size()[0]>6:\n",
    "        print(f\"Warning, more than 6 features detected in the sample\\n{prediction.cls}\")\n",
    "    '''\n",
    "    \n",
    "    embedding_position= {\n",
    "        \"BABY\" : 0,\n",
    "        \"HEAD\": 1,\n",
    "        \"EYE\": (3, 5),\n",
    "        \"MOUTH\": 7,\n",
    "        \"NOSE\": 9\n",
    "    }\n",
    "    \n",
    "    vec = np.full(11, -1.0, dtype=float)\n",
    "    for bbox, cls in zip(prediction.xywhn, prediction.cls):\n",
    "        class_label = classes_fd[cls.item()]\n",
    "        if class_label == \"BABY\":\n",
    "            pos = embedding_position[class_label]\n",
    "            \n",
    "            vec[pos] = 1\n",
    "        elif class_label == \"EYE\":\n",
    "            pos = embedding_position[class_label][0] if vec[embedding_position[class_label][0]] == -1 else embedding_position[class_label][1]\n",
    "            \n",
    "            vec[pos] = bbox[0]\n",
    "            vec[pos+1] = bbox[1]\n",
    "        else:\n",
    "            pos = embedding_position[class_label]\n",
    "            \n",
    "            vec[pos] = bbox[0]\n",
    "            vec[pos+1] = bbox[1]    \n",
    "    \n",
    "    return vec"
   ],
   "outputs": [],
   "execution_count": null
  },
  {
   "cell_type": "code",
   "id": "7179c145",
   "metadata": {},
   "source": [
    "os.chdir(\"C:\\\\Users\\\\memes\\\\Documents\\\\SIDS_revelation_project\")\n",
    "onback_onstomach_dataset = Path(\"train/\")\n",
    "X = []\n",
    "y = []\n",
    "\n",
    "for img in onback_onstomach_dataset.glob(\"*.jpg\"):\n",
    "    if img.name in file_label.keys():\n",
    "        #DEBUG\n",
    "        if len(y)%100 == 0:\n",
    "            print(f\"{int(len(y)*100/len(file_label))}%-->    {len(y)} / {len(file_label)} embeddings created\")\n",
    "        #DEBUG    \n",
    "        result = model(img, conf=0.3, verbose=False)[0]\n",
    "        prediction = result.boxes\n",
    "        \n",
    "        vec = embedding_builder(prediction)\n",
    "        X.append(vec)\n",
    "        y.append(file_label[img.name])\n",
    "        \n",
    "print(f\"FINISH, {len(y)} embeddings created\")"
   ],
   "outputs": [],
   "execution_count": null
  },
  {
   "cell_type": "code",
   "id": "15cd1c09",
   "metadata": {},
   "source": [
    " #salvo gli imbedding in un file csv \n",
    "import csv\n",
    "\n",
    "with open(\"train/processed_dataset.csv\", \"w\", newline='') as f:\n",
    "    writer = csv.writer(f)\n",
    "    for xi, yi in zip(X, y):\n",
    "        writer.writerow(list(xi) + [yi])"
   ],
   "outputs": [],
   "execution_count": null
  },
  {
   "cell_type": "markdown",
   "id": "ad81baf7",
   "metadata": {},
   "source": [
    "Then in order to extract X and y from .csv and load them in numpy arrays"
   ]
  },
  {
   "cell_type": "code",
   "id": "c1603cad",
   "metadata": {},
   "source": [
    "import numpy as np\n",
    "\n",
    "data = np.loadtxt(\"train/processed_dataset.csv\", delimiter=\",\")\n",
    "X = data[:, :-1]\n",
    "y = data[:, -1]"
   ],
   "outputs": [],
   "execution_count": null
  },
  {
   "cell_type": "code",
   "id": "44860660",
   "metadata": {},
   "source": [
    "X.shape"
   ],
   "outputs": [],
   "execution_count": null
  },
  {
   "cell_type": "markdown",
   "id": "15264404",
   "metadata": {},
   "source": [
    "RANDOM FORESTTT"
   ]
  },
  {
   "cell_type": "code",
   "id": "60364abe",
   "metadata": {},
   "source": [
    "from sklearn.ensemble import RandomForestClassifier\n",
    "from sklearn.model_selection import train_test_split\n",
    "from sklearn.metrics import accuracy_score, classification_report\n",
    "import numpy as np\n",
    "\n",
    "# Convert to NumPy arrays (if not already)\n",
    "X_array = np.array(X)\n",
    "y_array = np.array(y)\n",
    "\n",
    "# Split into train/test sets (e.g., 80% train, 20% test)\n",
    "X_train, X_test, y_train, y_test = train_test_split(X_array, y_array, test_size=0.2, random_state=42)\n",
    "\n",
    "# Create the classifier\n",
    "clf = RandomForestClassifier(n_estimators=100, random_state=42)\n",
    "\n",
    "# Train the classifier\n",
    "clf.fit(X_train, y_train)\n",
    "\n",
    "# Predict on the test set\n",
    "y_pred = clf.predict(X_test)\n",
    "\n",
    "# Evaluate\n",
    "print(\"Accuracy:\", accuracy_score(y_test, y_pred))\n",
    "print(\"Classification Report:\")\n",
    "print(classification_report(y_test, y_pred))"
   ],
   "outputs": [],
   "execution_count": null
  }
 ],
 "metadata": {
  "kernelspec": {
   "display_name": "LabML",
   "language": "python",
   "name": "python3"
  },
  "language_info": {
   "codemirror_mode": {
    "name": "ipython",
    "version": 3
   },
   "file_extension": ".py",
   "mimetype": "text/x-python",
   "name": "python",
   "nbconvert_exporter": "python",
   "pygments_lexer": "ipython3",
   "version": "3.9.21"
  }
 },
 "nbformat": 4,
 "nbformat_minor": 5
}
