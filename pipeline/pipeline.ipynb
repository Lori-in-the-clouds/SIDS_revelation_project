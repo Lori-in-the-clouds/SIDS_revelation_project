{
 "cells": [
  {
   "metadata": {},
   "cell_type": "markdown",
   "source": [
    "## PIPELINE\n",
    "### 1. load model face_detection\n",
    "### 2. extract embeddings from dataset\n",
    "### 3. retrieval to evaluate embeddings goodness\n",
    "### 4. train model classification"
   ],
   "id": "2e76db6e73938d5c"
  },
  {
   "metadata": {},
   "cell_type": "markdown",
   "source": "# PIPELINE: model 4, embeddings flag, dataset https://universe.roboflow.com/skt/baby_posture",
   "id": "71fc277698d3705"
  },
  {
   "metadata": {},
   "cell_type": "markdown",
   "source": "**Import dependencies**",
   "id": "3e16d68ba186a99d"
  },
  {
   "metadata": {
    "ExecuteTime": {
     "end_time": "2025-08-17T22:15:34.225176Z",
     "start_time": "2025-08-17T22:15:34.196664Z"
    }
   },
   "cell_type": "code",
   "source": [
    "%load_ext autoreload\n",
    "%autoreload 2\n",
    "\n",
    "from embeddings import EmbeddingBuilder\n",
    "import numpy as np\n",
    "from ultralytics import YOLO\n",
    "\n",
    "import os\n",
    "from pathlib import Path\n",
    "import cv2\n",
    "\n",
    "from retrieval import ImageRetrieval"
   ],
   "id": "eecf7ba802acfc4",
   "outputs": [
    {
     "name": "stdout",
     "output_type": "stream",
     "text": [
      "The autoreload extension is already loaded. To reload it, use:\n",
      "  %reload_ext autoreload\n"
     ]
    }
   ],
   "execution_count": 3
  },
  {
   "metadata": {},
   "cell_type": "markdown",
   "source": [
    "## 1. Load model face_detection\n",
    "**Choose how to process the dataset:**\n",
    "1. \"extract_features\":                     extracting features and labels\n",
    "2. \"extract_features_imageswithinference\": extracting features and labels and saving predicted images with bboxes\n",
    "3. \"load\":                                  loading features and labels"
   ],
   "id": "600dac6e8c47a076"
  },
  {
   "metadata": {
    "ExecuteTime": {
     "end_time": "2025-08-17T22:15:34.259368Z",
     "start_time": "2025-08-17T22:15:34.226968Z"
    }
   },
   "cell_type": "code",
   "source": "print(os.getcwd())",
   "id": "f9b3f5a3910f7e97",
   "outputs": [
    {
     "name": "stdout",
     "output_type": "stream",
     "text": [
      "/home/terra/Documents/AI_engineering/SIDS-project/python_project/SIDS_revelation_project/pipeline1\n"
     ]
    }
   ],
   "execution_count": 4
  },
  {
   "metadata": {
    "ExecuteTime": {
     "end_time": "2025-08-17T22:58:21.296919Z",
     "start_time": "2025-08-17T22:52:57.785534Z"
    }
   },
   "cell_type": "code",
   "source": "emb_builder = EmbeddingBuilder(\"../models/4.weights/best.pt\", \"../datasets/onback_onstomach_v2\", \"extract_features\")",
   "id": "85610ed3e85db40a",
   "outputs": [
    {
     "name": "stdout",
     "output_type": "stream",
     "text": [
      "\n",
      "Extracting dataset info from .coco.json file:---------------------------------------------\n",
      "Dataset contains 1506 valid samples, and labels are {'baby_on_back': 1, 'baby_on_stomach': 2}\n",
      "------------------------------------------------------------------------------------------\n",
      "\n",
      "Feature extraction for each dataset image-------------------------------------------------\n",
      "0%-->    0 / 1506 files processed\n",
      "6%-->    100 / 1506 files processed\n",
      "13%-->    200 / 1506 files processed\n",
      "19%-->    300 / 1506 files processed\n",
      "26%-->    400 / 1506 files processed\n",
      "33%-->    500 / 1506 files processed\n",
      "39%-->    600 / 1506 files processed\n",
      "46%-->    700 / 1506 files processed\n",
      "53%-->    800 / 1506 files processed\n",
      "59%-->    900 / 1506 files processed\n",
      "66%-->    1000 / 1506 files processed\n",
      "73%-->    1100 / 1506 files processed\n",
      "79%-->    1200 / 1506 files processed\n",
      "86%-->    1300 / 1506 files processed\n",
      "92%-->    1400 / 1506 files processed\n",
      "99%-->    1500 / 1506 files processed\n",
      "1506 image processed, features(self.features) and labels(self.y) extracted\n",
      "------------------------------------------------------------------------------------------\n",
      "\n",
      "Saving features in .npy:------------------------------------------------------------------\n",
      "Features saved in '../datasets/onback_onstomach_v2/baseline_model4_features.npy' and labels saved in '../datasets/onback_onstomach_v2/baseline_model4_labels.npy\n",
      "------------------------------------------------------------------------------------------\n",
      "\n",
      "Embedding builder initialized successfully------------------------------------------------\n",
      "Face detection model: 4 (YOLOv8)\n",
      "Dataset: ../datasets/onback_onstomach_v2\n",
      "Dataset dimension: 1506\n",
      "Dataset labels: {'baby_on_back': 1, 'baby_on_stomach': 2}\n",
      "------------------------------------------------------------------------------------------\n"
     ]
    }
   ],
   "execution_count": 9
  },
  {
   "metadata": {},
   "cell_type": "markdown",
   "source": "## 2. Extract embeddings from dataset",
   "id": "6fb5352648ebee4b"
  },
  {
   "metadata": {},
   "cell_type": "markdown",
   "source": "**Create embeddings**",
   "id": "3d296c4bc0c1ad89"
  },
  {
   "metadata": {
    "ExecuteTime": {
     "end_time": "2025-08-17T22:58:21.538655Z",
     "start_time": "2025-08-17T22:58:21.298694Z"
    }
   },
   "cell_type": "code",
   "source": [
    "y = np.array(emb_builder.y)\n",
    "X, embedding_features = emb_builder.embedding_flags()\n",
    "X = np.array(X)"
   ],
   "id": "42d43360bfb1ae43",
   "outputs": [
    {
     "name": "stdout",
     "output_type": "stream",
     "text": [
      "\n",
      "Creation of flags features embedding------------------------------------------------------\n",
      "0%-->    0 / 1506 files processed\n",
      "6%-->    100 / 1506 files processed\n",
      "13%-->    200 / 1506 files processed\n",
      "19%-->    300 / 1506 files processed\n",
      "26%-->    400 / 1506 files processed\n",
      "33%-->    500 / 1506 files processed\n",
      "39%-->    600 / 1506 files processed\n",
      "46%-->    700 / 1506 files processed\n",
      "53%-->    800 / 1506 files processed\n",
      "59%-->    900 / 1506 files processed\n",
      "66%-->    1000 / 1506 files processed\n",
      "73%-->    1100 / 1506 files processed\n",
      "79%-->    1200 / 1506 files processed\n",
      "86%-->    1300 / 1506 files processed\n",
      "92%-->    1400 / 1506 files processed\n",
      "99%-->    1500 / 1506 files processed\n",
      "1506 embedding created\n",
      "------------------------------------------------------------------------------------------\n"
     ]
    }
   ],
   "execution_count": 10
  },
  {
   "metadata": {},
   "cell_type": "markdown",
   "source": "",
   "id": "96253f4252445ef2"
  },
  {
   "metadata": {},
   "cell_type": "markdown",
   "source": "## 3. Retrieval to evaluate embedding goodness",
   "id": "e41727bbf06a450"
  },
  {
   "metadata": {
    "ExecuteTime": {
     "end_time": "2025-08-17T22:58:21.614510Z",
     "start_time": "2025-08-17T22:58:21.540084Z"
    }
   },
   "cell_type": "code",
   "source": [
    "my_project_absolute_path = \"/home/terra/Documents/AI_engineering/SIDS-project/python_project/SIDS_revelation_project\"\n",
    "ret = ImageRetrieval(emb_builder.features, X, y, embedding_features)\n",
    "ret.df.head()"
   ],
   "id": "474098ddcb96457b",
   "outputs": [
    {
     "name": "stderr",
     "output_type": "stream",
     "text": [
      "/home/terra/Documents/AI_engineering/SIDS-project/python_project/SIDS_revelation_project/pipeline1/retrieval.py:86: RuntimeWarning: invalid value encountered in divide\n",
      "  image_paths_similar: list of image file paths retrieved\n"
     ]
    },
    {
     "data": {
      "text/plain": [
       "   flag_eye1  flag_eye2  flag_nose  flag_mouth  label  \\\n",
       "0          0          0          0           0      2   \n",
       "1          1          1          1           1      2   \n",
       "2          0          0          0           0      2   \n",
       "3          1          1          1           1      1   \n",
       "4          1          1          1           1      1   \n",
       "\n",
       "                                          image_path  \n",
       "0  2460_png_jpg.rf.7e7dedbe50b96b8c1da6a09294db1b...  \n",
       "1     80_jpg.rf.335be5e3e8664408e1f37b7d29441f9a.jpg  \n",
       "2  3683_png_jpg.rf.f1e0f73267c0f4c6a96ba03c90b147...  \n",
       "3  Nanit_21_JPG_jpg.rf.66d4221bcfa5fbe245a4cb9c9f...  \n",
       "4     50_jpg.rf.93d6c51bfd14a04c261f1bfff343ad43.jpg  "
      ],
      "text/html": [
       "<div>\n",
       "<style scoped>\n",
       "    .dataframe tbody tr th:only-of-type {\n",
       "        vertical-align: middle;\n",
       "    }\n",
       "\n",
       "    .dataframe tbody tr th {\n",
       "        vertical-align: top;\n",
       "    }\n",
       "\n",
       "    .dataframe thead th {\n",
       "        text-align: right;\n",
       "    }\n",
       "</style>\n",
       "<table border=\"1\" class=\"dataframe\">\n",
       "  <thead>\n",
       "    <tr style=\"text-align: right;\">\n",
       "      <th></th>\n",
       "      <th>flag_eye1</th>\n",
       "      <th>flag_eye2</th>\n",
       "      <th>flag_nose</th>\n",
       "      <th>flag_mouth</th>\n",
       "      <th>label</th>\n",
       "      <th>image_path</th>\n",
       "    </tr>\n",
       "  </thead>\n",
       "  <tbody>\n",
       "    <tr>\n",
       "      <th>0</th>\n",
       "      <td>0</td>\n",
       "      <td>0</td>\n",
       "      <td>0</td>\n",
       "      <td>0</td>\n",
       "      <td>2</td>\n",
       "      <td>2460_png_jpg.rf.7e7dedbe50b96b8c1da6a09294db1b...</td>\n",
       "    </tr>\n",
       "    <tr>\n",
       "      <th>1</th>\n",
       "      <td>1</td>\n",
       "      <td>1</td>\n",
       "      <td>1</td>\n",
       "      <td>1</td>\n",
       "      <td>2</td>\n",
       "      <td>80_jpg.rf.335be5e3e8664408e1f37b7d29441f9a.jpg</td>\n",
       "    </tr>\n",
       "    <tr>\n",
       "      <th>2</th>\n",
       "      <td>0</td>\n",
       "      <td>0</td>\n",
       "      <td>0</td>\n",
       "      <td>0</td>\n",
       "      <td>2</td>\n",
       "      <td>3683_png_jpg.rf.f1e0f73267c0f4c6a96ba03c90b147...</td>\n",
       "    </tr>\n",
       "    <tr>\n",
       "      <th>3</th>\n",
       "      <td>1</td>\n",
       "      <td>1</td>\n",
       "      <td>1</td>\n",
       "      <td>1</td>\n",
       "      <td>1</td>\n",
       "      <td>Nanit_21_JPG_jpg.rf.66d4221bcfa5fbe245a4cb9c9f...</td>\n",
       "    </tr>\n",
       "    <tr>\n",
       "      <th>4</th>\n",
       "      <td>1</td>\n",
       "      <td>1</td>\n",
       "      <td>1</td>\n",
       "      <td>1</td>\n",
       "      <td>1</td>\n",
       "      <td>50_jpg.rf.93d6c51bfd14a04c261f1bfff343ad43.jpg</td>\n",
       "    </tr>\n",
       "  </tbody>\n",
       "</table>\n",
       "</div>"
      ]
     },
     "execution_count": 11,
     "metadata": {},
     "output_type": "execute_result"
    }
   ],
   "execution_count": 11
  },
  {
   "metadata": {
    "ExecuteTime": {
     "end_time": "2025-08-17T22:59:09.991803Z",
     "start_time": "2025-08-17T22:59:09.558180Z"
    }
   },
   "cell_type": "code",
   "source": "ret.plot_lda()",
   "id": "6d9a4b3b62f9849f",
   "outputs": [
    {
     "data": {
      "text/plain": [
       "<Figure size 800x600 with 1 Axes>"
      ],
      "image/png": "[encoded data removed]"
     },
     "metadata": {},
     "output_type": "display_data"
    }
   ],
   "execution_count": 12
  },
  {
   "metadata": {},
   "cell_type": "markdown",
   "source": "# PIPELINE: model 4, embeddings all features, dataset https://universe.roboflow.com/skt/baby_posture",
   "id": "af75c053a194572f"
  },
  {
   "metadata": {},
   "cell_type": "markdown",
   "source": [
    "## 1. Load model face_detection\n",
    "**Choose how to process the dataset:**\n",
    "1. \"extract_features\":                     extracting features and labels\n",
    "2. \"extract_features_imageswithinference\": extracting features and labels and saving predicted images with bboxes\n",
    "3. \"load\":                                  loading features and labels"
   ],
   "id": "9bc6b873781dca8e"
  },
  {
   "metadata": {
    "ExecuteTime": {
     "end_time": "2025-08-17T22:59:57.520278Z",
     "start_time": "2025-08-17T22:59:57.477694Z"
    }
   },
   "cell_type": "code",
   "source": "print(os.getcwd())",
   "id": "e2236db0a2eae4f",
   "outputs": [
    {
     "name": "stdout",
     "output_type": "stream",
     "text": [
      "/home/terra/Documents/AI_engineering/SIDS-project/python_project/SIDS_revelation_project/pipeline1\n"
     ]
    }
   ],
   "execution_count": 13
  },
  {
   "metadata": {
    "ExecuteTime": {
     "end_time": "2025-08-17T22:59:58.136079Z",
     "start_time": "2025-08-17T22:59:57.522380Z"
    }
   },
   "cell_type": "code",
   "source": "emb_builder = EmbeddingBuilder(\"../models/4.weights/best.pt\", \"../datasets/onback_onstomach_v2\", \"load\")",
   "id": "b12ba632ef7e8159",
   "outputs": [
    {
     "name": "stdout",
     "output_type": "stream",
     "text": [
      "\n",
      "Extracting dataset info from .coco.json file:---------------------------------------------\n",
      "Dataset contains 1506 valid samples, and labels are {'baby_on_back': 1, 'baby_on_stomach': 2}\n",
      "------------------------------------------------------------------------------------------\n",
      "\n",
      "Loading features from .npy----------------------------------------------------------------\n",
      "features and labels loaded succesfully, in particular there are 1506 files in the dataset\n",
      "------------------------------------------------------------------------------------------\n",
      "\n",
      "Embedding builder initialized successfully------------------------------------------------\n",
      "Face detection model: 4 (YOLOv8)\n",
      "Dataset: ../datasets/onback_onstomach_v2\n",
      "Dataset dimension: 1506\n",
      "Dataset labels: {'baby_on_back': 1, 'baby_on_stomach': 2}\n",
      "------------------------------------------------------------------------------------------\n"
     ]
    }
   ],
   "execution_count": 14
  },
  {
   "metadata": {},
   "cell_type": "markdown",
   "source": "## 2. Extract embeddings from dataset",
   "id": "dcdf93e7a47f8b63"
  },
  {
   "metadata": {},
   "cell_type": "markdown",
   "source": "**Create embeddings**",
   "id": "78bb704b9b26e0d"
  },
  {
   "metadata": {
    "ExecuteTime": {
     "end_time": "2025-08-17T23:01:23.065607Z",
     "start_time": "2025-08-17T23:01:22.657595Z"
    }
   },
   "cell_type": "code",
   "source": [
    "y = np.array(emb_builder.y)\n",
    "X, embedding_features = emb_builder.embedding_all_features()\n",
    "X = np.array(X)"
   ],
   "id": "46fe16a4106a7ee2",
   "outputs": [
    {
     "name": "stdout",
     "output_type": "stream",
     "text": [
      "\n",
      "Creation of all features embedding--------------------------------------------------------\n",
      "0%-->    0 / 1506 files processed\n",
      "6%-->    100 / 1506 files processed\n",
      "13%-->    200 / 1506 files processed\n",
      "19%-->    300 / 1506 files processed\n",
      "26%-->    400 / 1506 files processed\n",
      "33%-->    500 / 1506 files processed\n",
      "39%-->    600 / 1506 files processed\n",
      "46%-->    700 / 1506 files processed\n",
      "53%-->    800 / 1506 files processed\n",
      "59%-->    900 / 1506 files processed\n",
      "66%-->    1000 / 1506 files processed\n",
      "73%-->    1100 / 1506 files processed\n",
      "79%-->    1200 / 1506 files processed\n",
      "86%-->    1300 / 1506 files processed\n",
      "92%-->    1400 / 1506 files processed\n",
      "99%-->    1500 / 1506 files processed\n",
      "1506 embedding created\n",
      "------------------------------------------------------------------------------------------\n"
     ]
    }
   ],
   "execution_count": 19
  },
  {
   "metadata": {},
   "cell_type": "markdown",
   "source": "",
   "id": "6c3186c13d21993b"
  },
  {
   "metadata": {},
   "cell_type": "markdown",
   "source": "## 3. Retrieval to evaluate embedding goodness",
   "id": "6303356e35f4a0cb"
  },
  {
   "metadata": {
    "ExecuteTime": {
     "end_time": "2025-08-17T23:01:25.721275Z",
     "start_time": "2025-08-17T23:01:25.667506Z"
    }
   },
   "cell_type": "code",
   "source": [
    "my_project_absolute_path = \"/home/terra/Documents/AI_engineering/SIDS-project/python_project/SIDS_revelation_project\"\n",
    "ret = ImageRetrieval(emb_builder.features, X, y, embedding_features)\n",
    "ret.df.head()"
   ],
   "id": "9dc8120f0eac695e",
   "outputs": [
    {
     "data": {
      "text/plain": [
       "   flag_eye1  flag_eye2  flag_nose  flag_mouth    x_eye1    y_eye1    x_eye2  \\\n",
       "0        0.0        0.0        0.0         0.0 -1.000000 -1.000000 -1.000000   \n",
       "1        1.0        1.0        1.0         1.0  0.747866  0.955937  0.746319   \n",
       "2        0.0        0.0        0.0         0.0 -1.000000 -1.000000 -1.000000   \n",
       "3        1.0        1.0        1.0         1.0  0.533123  0.143157  0.374687   \n",
       "4        1.0        1.0        1.0         1.0  0.859706  0.598094  0.846316   \n",
       "\n",
       "     y_eye2    x_nose    y_nose   x_mouth   y_mouth  eye_distance  \\\n",
       "0 -1.000000 -1.000000 -1.000000 -1.000000 -1.000000     -1.000000   \n",
       "1  0.680452  0.709361  0.853581  0.650598  0.840860      0.275490   \n",
       "2 -1.000000 -1.000000 -1.000000 -1.000000 -1.000000     -1.000000   \n",
       "3  0.148591  0.457184  0.163462  0.469082  0.201713      0.158529   \n",
       "4  0.728694  0.827010  0.658031  0.788980  0.648129      0.131284   \n",
       "\n",
       "   face_vertical_length  face_angle_vertical  face_angle_horizontal  \\\n",
       "0             -1.000000            -1.000000              -1.000000   \n",
       "1              0.060125           122.830702             147.334486   \n",
       "2             -1.000000            -1.000000              -1.000000   \n",
       "3              0.040059            87.692268             154.811369   \n",
       "4              0.039298           104.018162             136.106208   \n",
       "\n",
       "   symmetry_diff  label                                         image_path  \n",
       "0       0.000000      2  2460_png_jpg.rf.7e7dedbe50b96b8c1da6a09294db1b...  \n",
       "1       0.085138      2     80_jpg.rf.335be5e3e8664408e1f37b7d29441f9a.jpg  \n",
       "2       0.000000      2  3683_png_jpg.rf.f1e0f73267c0f4c6a96ba03c90b147...  \n",
       "3       0.004185      1  Nanit_21_JPG_jpg.rf.66d4221bcfa5fbe245a4cb9c9f...  \n",
       "4       0.002724      1     50_jpg.rf.93d6c51bfd14a04c261f1bfff343ad43.jpg  "
      ],
      "text/html": [
       "<div>\n",
       "<style scoped>\n",
       "    .dataframe tbody tr th:only-of-type {\n",
       "        vertical-align: middle;\n",
       "    }\n",
       "\n",
       "    .dataframe tbody tr th {\n",
       "        vertical-align: top;\n",
       "    }\n",
       "\n",
       "    .dataframe thead th {\n",
       "        text-align: right;\n",
       "    }\n",
       "</style>\n",
       "<table border=\"1\" class=\"dataframe\">\n",
       "  <thead>\n",
       "    <tr style=\"text-align: right;\">\n",
       "      <th></th>\n",
       "      <th>flag_eye1</th>\n",
       "      <th>flag_eye2</th>\n",
       "      <th>flag_nose</th>\n",
       "      <th>flag_mouth</th>\n",
       "      <th>x_eye1</th>\n",
       "      <th>y_eye1</th>\n",
       "      <th>x_eye2</th>\n",
       "      <th>y_eye2</th>\n",
       "      <th>x_nose</th>\n",
       "      <th>y_nose</th>\n",
       "      <th>x_mouth</th>\n",
       "      <th>y_mouth</th>\n",
       "      <th>eye_distance</th>\n",
       "      <th>face_vertical_length</th>\n",
       "      <th>face_angle_vertical</th>\n",
       "      <th>face_angle_horizontal</th>\n",
       "      <th>symmetry_diff</th>\n",
       "      <th>label</th>\n",
       "      <th>image_path</th>\n",
       "    </tr>\n",
       "  </thead>\n",
       "  <tbody>\n",
       "    <tr>\n",
       "      <th>0</th>\n",
       "      <td>0.0</td>\n",
       "      <td>0.0</td>\n",
       "      <td>0.0</td>\n",
       "      <td>0.0</td>\n",
       "      <td>-1.000000</td>\n",
       "      <td>-1.000000</td>\n",
       "      <td>-1.000000</td>\n",
       "      <td>-1.000000</td>\n",
       "      <td>-1.000000</td>\n",
       "      <td>-1.000000</td>\n",
       "      <td>-1.000000</td>\n",
       "      <td>-1.000000</td>\n",
       "      <td>-1.000000</td>\n",
       "      <td>-1.000000</td>\n",
       "      <td>-1.000000</td>\n",
       "      <td>-1.000000</td>\n",
       "      <td>0.000000</td>\n",
       "      <td>2</td>\n",
       "      <td>2460_png_jpg.rf.7e7dedbe50b96b8c1da6a09294db1b...</td>\n",
       "    </tr>\n",
       "    <tr>\n",
       "      <th>1</th>\n",
       "      <td>1.0</td>\n",
       "      <td>1.0</td>\n",
       "      <td>1.0</td>\n",
       "      <td>1.0</td>\n",
       "      <td>0.747866</td>\n",
       "      <td>0.955937</td>\n",
       "      <td>0.746319</td>\n",
       "      <td>0.680452</td>\n",
       "      <td>0.709361</td>\n",
       "      <td>0.853581</td>\n",
       "      <td>0.650598</td>\n",
       "      <td>0.840860</td>\n",
       "      <td>0.275490</td>\n",
       "      <td>0.060125</td>\n",
       "      <td>122.830702</td>\n",
       "      <td>147.334486</td>\n",
       "      <td>0.085138</td>\n",
       "      <td>2</td>\n",
       "      <td>80_jpg.rf.335be5e3e8664408e1f37b7d29441f9a.jpg</td>\n",
       "    </tr>\n",
       "    <tr>\n",
       "      <th>2</th>\n",
       "      <td>0.0</td>\n",
       "      <td>0.0</td>\n",
       "      <td>0.0</td>\n",
       "      <td>0.0</td>\n",
       "      <td>-1.000000</td>\n",
       "      <td>-1.000000</td>\n",
       "      <td>-1.000000</td>\n",
       "      <td>-1.000000</td>\n",
       "      <td>-1.000000</td>\n",
       "      <td>-1.000000</td>\n",
       "      <td>-1.000000</td>\n",
       "      <td>-1.000000</td>\n",
       "      <td>-1.000000</td>\n",
       "      <td>-1.000000</td>\n",
       "      <td>-1.000000</td>\n",
       "      <td>-1.000000</td>\n",
       "      <td>0.000000</td>\n",
       "      <td>2</td>\n",
       "      <td>3683_png_jpg.rf.f1e0f73267c0f4c6a96ba03c90b147...</td>\n",
       "    </tr>\n",
       "    <tr>\n",
       "      <th>3</th>\n",
       "      <td>1.0</td>\n",
       "      <td>1.0</td>\n",
       "      <td>1.0</td>\n",
       "      <td>1.0</td>\n",
       "      <td>0.533123</td>\n",
       "      <td>0.143157</td>\n",
       "      <td>0.374687</td>\n",
       "      <td>0.148591</td>\n",
       "      <td>0.457184</td>\n",
       "      <td>0.163462</td>\n",
       "      <td>0.469082</td>\n",
       "      <td>0.201713</td>\n",
       "      <td>0.158529</td>\n",
       "      <td>0.040059</td>\n",
       "      <td>87.692268</td>\n",
       "      <td>154.811369</td>\n",
       "      <td>0.004185</td>\n",
       "      <td>1</td>\n",
       "      <td>Nanit_21_JPG_jpg.rf.66d4221bcfa5fbe245a4cb9c9f...</td>\n",
       "    </tr>\n",
       "    <tr>\n",
       "      <th>4</th>\n",
       "      <td>1.0</td>\n",
       "      <td>1.0</td>\n",
       "      <td>1.0</td>\n",
       "      <td>1.0</td>\n",
       "      <td>0.859706</td>\n",
       "      <td>0.598094</td>\n",
       "      <td>0.846316</td>\n",
       "      <td>0.728694</td>\n",
       "      <td>0.827010</td>\n",
       "      <td>0.658031</td>\n",
       "      <td>0.788980</td>\n",
       "      <td>0.648129</td>\n",
       "      <td>0.131284</td>\n",
       "      <td>0.039298</td>\n",
       "      <td>104.018162</td>\n",
       "      <td>136.106208</td>\n",
       "      <td>0.002724</td>\n",
       "      <td>1</td>\n",
       "      <td>50_jpg.rf.93d6c51bfd14a04c261f1bfff343ad43.jpg</td>\n",
       "    </tr>\n",
       "  </tbody>\n",
       "</table>\n",
       "</div>"
      ]
     },
     "execution_count": 20,
     "metadata": {},
     "output_type": "execute_result"
    }
   ],
   "execution_count": 20
  },
  {
   "metadata": {
    "ExecuteTime": {
     "end_time": "2025-08-17T23:01:27.817272Z",
     "start_time": "2025-08-17T23:01:27.524940Z"
    }
   },
   "cell_type": "code",
   "source": "ret.plot_lda()",
   "id": "6aca550f238239f2",
   "outputs": [
    {
     "data": {
      "text/plain": [
       "<Figure size 800x600 with 1 Axes>"
      ],
      "image/png": "[encoded data removed]"
     },
     "metadata": {},
     "output_type": "display_data"
    }
   ],
   "execution_count": 21
  },
  {
   "metadata": {},
   "cell_type": "markdown",
   "source": "# PIPELINE: model 4, embeddings all features norm, dataset https://universe.roboflow.com/skt/baby_posture",
   "id": "d0f4c9a717c021aa"
  },
  {
   "metadata": {},
   "cell_type": "markdown",
   "source": "**Import dependencies**",
   "id": "63e8c1c2adbfdbc"
  },
  {
   "metadata": {
    "ExecuteTime": {
     "end_time": "2025-08-18T08:47:51.875558Z",
     "start_time": "2025-08-18T08:47:50.606357Z"
    }
   },
   "cell_type": "code",
   "source": [
    "%load_ext autoreload\n",
    "%autoreload 2\n",
    "\n",
    "from embeddings import EmbeddingBuilder\n",
    "import numpy as np\n",
    "from ultralytics import YOLO\n",
    "\n",
    "import os\n",
    "from pathlib import Path\n",
    "import cv2\n",
    "\n",
    "from retrieval import ImageRetrieval"
   ],
   "id": "9b5856e3aac11ffa",
   "outputs": [
    {
     "name": "stdout",
     "output_type": "stream",
     "text": [
      "The autoreload extension is already loaded. To reload it, use:\n",
      "  %reload_ext autoreload\n"
     ]
    }
   ],
   "execution_count": 22
  },
  {
   "metadata": {},
   "cell_type": "markdown",
   "source": [
    "## 1. Load model face_detection\n",
    "**Choose how to process the dataset:**\n",
    "1. \"extract_features\":                     extracting features and labels\n",
    "2. \"extract_features_imageswithinference\": extracting features and labels and saving predicted images with bboxes\n",
    "3. \"load\":                                  loading features and labels"
   ],
   "id": "bdfe1345240b4b10"
  },
  {
   "metadata": {
    "ExecuteTime": {
     "end_time": "2025-08-18T08:47:51.964140Z",
     "start_time": "2025-08-18T08:47:51.880359Z"
    }
   },
   "cell_type": "code",
   "source": "print(os.getcwd())",
   "id": "7b488f0e5926df05",
   "outputs": [
    {
     "name": "stdout",
     "output_type": "stream",
     "text": [
      "/home/terra/Documents/AI_engineering/SIDS-project/python_project/SIDS_revelation_project/pipeline1\n"
     ]
    }
   ],
   "execution_count": 23
  },
  {
   "metadata": {
    "ExecuteTime": {
     "end_time": "2025-08-18T08:55:41.917740Z",
     "start_time": "2025-08-18T08:47:51.970255Z"
    }
   },
   "cell_type": "code",
   "source": "emb_builder = EmbeddingBuilder(\"../models/4.weights/best.pt\", \"../datasets/onback_onstomach_v2\", \"extract_features\")",
   "id": "a28c9e9907368841",
   "outputs": [
    {
     "name": "stdout",
     "output_type": "stream",
     "text": [
      "\n",
      "Extracting dataset info from .coco.json file:---------------------------------------------\n",
      "Dataset contains 1506 valid samples, and labels are {'baby_on_back': 1, 'baby_on_stomach': 2}\n",
      "------------------------------------------------------------------------------------------\n",
      "\n",
      "Feature extraction for each dataset image-------------------------------------------------\n",
      "0%-->    0 / 1506 files processed\n",
      "6%-->    100 / 1506 files processed\n",
      "13%-->    200 / 1506 files processed\n",
      "19%-->    300 / 1506 files processed\n",
      "26%-->    400 / 1506 files processed\n",
      "33%-->    500 / 1506 files processed\n",
      "39%-->    600 / 1506 files processed\n",
      "46%-->    700 / 1506 files processed\n",
      "53%-->    800 / 1506 files processed\n",
      "59%-->    900 / 1506 files processed\n",
      "66%-->    1000 / 1506 files processed\n",
      "73%-->    1100 / 1506 files processed\n",
      "79%-->    1200 / 1506 files processed\n",
      "86%-->    1300 / 1506 files processed\n",
      "92%-->    1400 / 1506 files processed\n",
      "99%-->    1500 / 1506 files processed\n",
      "1506 image processed, features(self.features) and labels(self.y) extracted\n",
      "------------------------------------------------------------------------------------------\n",
      "\n",
      "Saving features in .npy:------------------------------------------------------------------\n",
      "Features saved in '../datasets/onback_onstomach_v2/baseline_model4_features.npy' and labels saved in '../datasets/onback_onstomach_v2/baseline_model4_labels.npy\n",
      "------------------------------------------------------------------------------------------\n",
      "\n",
      "Embedding builder initialized successfully------------------------------------------------\n",
      "Face detection model: 4 (YOLOv8)\n",
      "Dataset: ../datasets/onback_onstomach_v2\n",
      "Dataset dimension: 1506\n",
      "Dataset labels: {'baby_on_back': 1, 'baby_on_stomach': 2}\n",
      "------------------------------------------------------------------------------------------\n"
     ]
    }
   ],
   "execution_count": 24
  },
  {
   "metadata": {},
   "cell_type": "markdown",
   "source": "## 2. Extract embeddings from dataset",
   "id": "43f81c768cfa1705"
  },
  {
   "metadata": {},
   "cell_type": "markdown",
   "source": "**Create embeddings**",
   "id": "444acf0f24a5a514"
  },
  {
   "metadata": {
    "ExecuteTime": {
     "end_time": "2025-08-18T08:55:42.177455Z",
     "start_time": "2025-08-18T08:55:41.920810Z"
    }
   },
   "cell_type": "code",
   "source": [
    "y = np.array(emb_builder.y)\n",
    "X, embedding_features = emb_builder.embedding_all_features_norm()\n",
    "X = np.array(X)"
   ],
   "id": "a5024b35ae9ac7a7",
   "outputs": [
    {
     "name": "stdout",
     "output_type": "stream",
     "text": [
      "\n",
      "Creation of all features embedding--------------------------------------------------------\n",
      "0%-->    0 / 1506 files processed\n",
      "6%-->    100 / 1506 files processed\n",
      "13%-->    200 / 1506 files processed\n",
      "19%-->    300 / 1506 files processed\n",
      "26%-->    400 / 1506 files processed\n",
      "33%-->    500 / 1506 files processed\n",
      "39%-->    600 / 1506 files processed\n",
      "46%-->    700 / 1506 files processed\n",
      "53%-->    800 / 1506 files processed\n",
      "59%-->    900 / 1506 files processed\n",
      "66%-->    1000 / 1506 files processed\n",
      "73%-->    1100 / 1506 files processed\n",
      "79%-->    1200 / 1506 files processed\n",
      "86%-->    1300 / 1506 files processed\n",
      "92%-->    1400 / 1506 files processed\n",
      "99%-->    1500 / 1506 files processed\n",
      "FINISHED: 1506 embedding created\n"
     ]
    }
   ],
   "execution_count": 25
  },
  {
   "metadata": {},
   "cell_type": "markdown",
   "source": "",
   "id": "8a19c84fa397c2a0"
  },
  {
   "metadata": {},
   "cell_type": "markdown",
   "source": "## 3. Retrieval to evaluate embedding goodness",
   "id": "2b1f85c5ff6ccad"
  },
  {
   "metadata": {
    "ExecuteTime": {
     "end_time": "2025-08-18T09:03:02.925579Z",
     "start_time": "2025-08-18T09:03:02.054466Z"
    }
   },
   "cell_type": "code",
   "source": [
    "my_project_absolute_path = \"/home/terra/Documents/AI_engineering/SIDS-project/python_project/SIDS_revelation_project\"\n",
    "ret = ImageRetrieval( X, y, emb_builder.image_paths, embedding_features)\n",
    "ret.df.head()"
   ],
   "id": "d1e684cd0ca58fc9",
   "outputs": [
    {
     "data": {
      "text/plain": [
       "   flag_eye1  flag_eye2  flag_nose  flag_mouth    x_eye1    y_eye1    x_eye2  \\\n",
       "0        0.0        0.0        0.0         0.0 -1.000000 -1.000000 -1.000000   \n",
       "1        1.0        1.0        1.0         1.0  0.747866  0.955937  0.746319   \n",
       "2        0.0        0.0        0.0         0.0 -1.000000 -1.000000 -1.000000   \n",
       "3        1.0        1.0        1.0         1.0  0.533123  0.143157  0.374687   \n",
       "4        1.0        1.0        1.0         1.0  0.859706  0.598094  0.846316   \n",
       "\n",
       "     y_eye2    x_nose    y_nose  ...  eye_distance  eye_distance_norm  \\\n",
       "0 -1.000000 -1.000000 -1.000000  ...     -1.000000               -1.0   \n",
       "1  0.680452  0.709361  0.853581  ...      0.275490               -1.0   \n",
       "2 -1.000000 -1.000000 -1.000000  ...     -1.000000               -1.0   \n",
       "3  0.148591  0.457184  0.163462  ...      0.158529               -1.0   \n",
       "4  0.728694  0.827010  0.658031  ...      0.131284               -1.0   \n",
       "\n",
       "   face_vertical_length  face_vertical_length_norm  face_angle_vertical  \\\n",
       "0             -1.000000                       -1.0            -1.000000   \n",
       "1              0.060125                       -1.0           122.830702   \n",
       "2             -1.000000                       -1.0            -1.000000   \n",
       "3              0.040059                       -1.0            87.692268   \n",
       "4              0.039298                       -1.0           104.018162   \n",
       "\n",
       "   face_angle_horizontal  symmetry_diff  head_ration  label  \\\n",
       "0              -1.000000       0.000000         -1.0      2   \n",
       "1             147.334486       0.085138         -1.0      2   \n",
       "2              -1.000000       0.000000         -1.0      2   \n",
       "3             154.811369       0.004185         -1.0      1   \n",
       "4             136.106208       0.002724         -1.0      1   \n",
       "\n",
       "                                          image_path  \n",
       "0  2460_png_jpg.rf.7e7dedbe50b96b8c1da6a09294db1b...  \n",
       "1     80_jpg.rf.335be5e3e8664408e1f37b7d29441f9a.jpg  \n",
       "2  3683_png_jpg.rf.f1e0f73267c0f4c6a96ba03c90b147...  \n",
       "3  Nanit_21_JPG_jpg.rf.66d4221bcfa5fbe245a4cb9c9f...  \n",
       "4     50_jpg.rf.93d6c51bfd14a04c261f1bfff343ad43.jpg  \n",
       "\n",
       "[5 rows x 30 columns]"
      ],
      "text/html": [
       "<div>\n",
       "<style scoped>\n",
       "    .dataframe tbody tr th:only-of-type {\n",
       "        vertical-align: middle;\n",
       "    }\n",
       "\n",
       "    .dataframe tbody tr th {\n",
       "        vertical-align: top;\n",
       "    }\n",
       "\n",
       "    .dataframe thead th {\n",
       "        text-align: right;\n",
       "    }\n",
       "</style>\n",
       "<table border=\"1\" class=\"dataframe\">\n",
       "  <thead>\n",
       "    <tr style=\"text-align: right;\">\n",
       "      <th></th>\n",
       "      <th>flag_eye1</th>\n",
       "      <th>flag_eye2</th>\n",
       "      <th>flag_nose</th>\n",
       "      <th>flag_mouth</th>\n",
       "      <th>x_eye1</th>\n",
       "      <th>y_eye1</th>\n",
       "      <th>x_eye2</th>\n",
       "      <th>y_eye2</th>\n",
       "      <th>x_nose</th>\n",
       "      <th>y_nose</th>\n",
       "      <th>...</th>\n",
       "      <th>eye_distance</th>\n",
       "      <th>eye_distance_norm</th>\n",
       "      <th>face_vertical_length</th>\n",
       "      <th>face_vertical_length_norm</th>\n",
       "      <th>face_angle_vertical</th>\n",
       "      <th>face_angle_horizontal</th>\n",
       "      <th>symmetry_diff</th>\n",
       "      <th>head_ration</th>\n",
       "      <th>label</th>\n",
       "      <th>image_path</th>\n",
       "    </tr>\n",
       "  </thead>\n",
       "  <tbody>\n",
       "    <tr>\n",
       "      <th>0</th>\n",
       "      <td>0.0</td>\n",
       "      <td>0.0</td>\n",
       "      <td>0.0</td>\n",
       "      <td>0.0</td>\n",
       "      <td>-1.000000</td>\n",
       "      <td>-1.000000</td>\n",
       "      <td>-1.000000</td>\n",
       "      <td>-1.000000</td>\n",
       "      <td>-1.000000</td>\n",
       "      <td>-1.000000</td>\n",
       "      <td>...</td>\n",
       "      <td>-1.000000</td>\n",
       "      <td>-1.0</td>\n",
       "      <td>-1.000000</td>\n",
       "      <td>-1.0</td>\n",
       "      <td>-1.000000</td>\n",
       "      <td>-1.000000</td>\n",
       "      <td>0.000000</td>\n",
       "      <td>-1.0</td>\n",
       "      <td>2</td>\n",
       "      <td>2460_png_jpg.rf.7e7dedbe50b96b8c1da6a09294db1b...</td>\n",
       "    </tr>\n",
       "    <tr>\n",
       "      <th>1</th>\n",
       "      <td>1.0</td>\n",
       "      <td>1.0</td>\n",
       "      <td>1.0</td>\n",
       "      <td>1.0</td>\n",
       "      <td>0.747866</td>\n",
       "      <td>0.955937</td>\n",
       "      <td>0.746319</td>\n",
       "      <td>0.680452</td>\n",
       "      <td>0.709361</td>\n",
       "      <td>0.853581</td>\n",
       "      <td>...</td>\n",
       "      <td>0.275490</td>\n",
       "      <td>-1.0</td>\n",
       "      <td>0.060125</td>\n",
       "      <td>-1.0</td>\n",
       "      <td>122.830702</td>\n",
       "      <td>147.334486</td>\n",
       "      <td>0.085138</td>\n",
       "      <td>-1.0</td>\n",
       "      <td>2</td>\n",
       "      <td>80_jpg.rf.335be5e3e8664408e1f37b7d29441f9a.jpg</td>\n",
       "    </tr>\n",
       "    <tr>\n",
       "      <th>2</th>\n",
       "      <td>0.0</td>\n",
       "      <td>0.0</td>\n",
       "      <td>0.0</td>\n",
       "      <td>0.0</td>\n",
       "      <td>-1.000000</td>\n",
       "      <td>-1.000000</td>\n",
       "      <td>-1.000000</td>\n",
       "      <td>-1.000000</td>\n",
       "      <td>-1.000000</td>\n",
       "      <td>-1.000000</td>\n",
       "      <td>...</td>\n",
       "      <td>-1.000000</td>\n",
       "      <td>-1.0</td>\n",
       "      <td>-1.000000</td>\n",
       "      <td>-1.0</td>\n",
       "      <td>-1.000000</td>\n",
       "      <td>-1.000000</td>\n",
       "      <td>0.000000</td>\n",
       "      <td>-1.0</td>\n",
       "      <td>2</td>\n",
       "      <td>3683_png_jpg.rf.f1e0f73267c0f4c6a96ba03c90b147...</td>\n",
       "    </tr>\n",
       "    <tr>\n",
       "      <th>3</th>\n",
       "      <td>1.0</td>\n",
       "      <td>1.0</td>\n",
       "      <td>1.0</td>\n",
       "      <td>1.0</td>\n",
       "      <td>0.533123</td>\n",
       "      <td>0.143157</td>\n",
       "      <td>0.374687</td>\n",
       "      <td>0.148591</td>\n",
       "      <td>0.457184</td>\n",
       "      <td>0.163462</td>\n",
       "      <td>...</td>\n",
       "      <td>0.158529</td>\n",
       "      <td>-1.0</td>\n",
       "      <td>0.040059</td>\n",
       "      <td>-1.0</td>\n",
       "      <td>87.692268</td>\n",
       "      <td>154.811369</td>\n",
       "      <td>0.004185</td>\n",
       "      <td>-1.0</td>\n",
       "      <td>1</td>\n",
       "      <td>Nanit_21_JPG_jpg.rf.66d4221bcfa5fbe245a4cb9c9f...</td>\n",
       "    </tr>\n",
       "    <tr>\n",
       "      <th>4</th>\n",
       "      <td>1.0</td>\n",
       "      <td>1.0</td>\n",
       "      <td>1.0</td>\n",
       "      <td>1.0</td>\n",
       "      <td>0.859706</td>\n",
       "      <td>0.598094</td>\n",
       "      <td>0.846316</td>\n",
       "      <td>0.728694</td>\n",
       "      <td>0.827010</td>\n",
       "      <td>0.658031</td>\n",
       "      <td>...</td>\n",
       "      <td>0.131284</td>\n",
       "      <td>-1.0</td>\n",
       "      <td>0.039298</td>\n",
       "      <td>-1.0</td>\n",
       "      <td>104.018162</td>\n",
       "      <td>136.106208</td>\n",
       "      <td>0.002724</td>\n",
       "      <td>-1.0</td>\n",
       "      <td>1</td>\n",
       "      <td>50_jpg.rf.93d6c51bfd14a04c261f1bfff343ad43.jpg</td>\n",
       "    </tr>\n",
       "  </tbody>\n",
       "</table>\n",
       "<p>5 rows × 30 columns</p>\n",
       "</div>"
      ]
     },
     "execution_count": 28,
     "metadata": {},
     "output_type": "execute_result"
    }
   ],
   "execution_count": 28
  },
  {
   "metadata": {
    "ExecuteTime": {
     "end_time": "2025-08-18T09:03:46.816520Z",
     "start_time": "2025-08-18T09:03:46.234568Z"
    }
   },
   "cell_type": "code",
   "source": "ret.plot_lda()",
   "id": "f24345f8e61af97d",
   "outputs": [
    {
     "data": {
      "text/plain": [
       "<Figure size 800x600 with 1 Axes>"
      ],
      "image/png": "[encoded data removed]"
     },
     "metadata": {},
     "output_type": "display_data"
    }
   ],
   "execution_count": 29
  },
  {
   "metadata": {
    "ExecuteTime": {
     "end_time": "2025-08-18T09:04:11.324634Z",
     "start_time": "2025-08-18T09:04:05.355547Z"
    }
   },
   "cell_type": "code",
   "source": "ret.plot_tsne()",
   "id": "764a40ccf82b33cb",
   "outputs": [
    {
     "data": {
      "text/plain": [
       "<Figure size 800x600 with 1 Axes>"
      ],
      "image/png": "[encoded data removed]"
     },
     "metadata": {},
     "output_type": "display_data"
    }
   ],
   "execution_count": 30
  },
  {
   "metadata": {
    "ExecuteTime": {
     "end_time": "2025-08-18T09:06:31.676475Z",
     "start_time": "2025-08-18T09:06:21.788700Z"
    }
   },
   "cell_type": "code",
   "source": "ret.plot_umap()",
   "id": "a51fd2ef9b5fdfb6",
   "outputs": [
    {
     "name": "stderr",
     "output_type": "stream",
     "text": [
      "/home/terra/anaconda3/envs/SIDS_revelation_project/lib/python3.10/site-packages/umap/umap_.py:1952: UserWarning: n_jobs value 1 overridden to 1 by setting random_state. Use no seed for parallelism.\n",
      "  warn(\n",
      "/home/terra/anaconda3/envs/SIDS_revelation_project/lib/python3.10/site-packages/sklearn/manifold/_spectral_embedding.py:328: UserWarning: Graph is not fully connected, spectral embedding may not work as expected.\n",
      "  warnings.warn(\n"
     ]
    },
    {
     "data": {
      "text/plain": [
       "<Figure size 800x600 with 1 Axes>"
      ],
      "image/png": "[encoded data removed]"
     },
     "metadata": {},
     "output_type": "display_data"
    }
   ],
   "execution_count": 32
  },
  {
   "metadata": {},
   "cell_type": "code",
   "outputs": [],
   "execution_count": null,
   "source": "",
   "id": "73c5a11f417668b7"
  }
 ],
 "metadata": {
  "kernelspec": {
   "display_name": "Python 3",
   "language": "python",
   "name": "python3"
  },
  "language_info": {
   "codemirror_mode": {
    "name": "ipython",
    "version": 2
   },
   "file_extension": ".py",
   "mimetype": "text/x-python",
   "name": "python",
   "nbconvert_exporter": "python",
   "pygments_lexer": "ipython2",
   "version": "2.7.6"
  }
 },
 "nbformat": 4,
 "nbformat_minor": 5
}
