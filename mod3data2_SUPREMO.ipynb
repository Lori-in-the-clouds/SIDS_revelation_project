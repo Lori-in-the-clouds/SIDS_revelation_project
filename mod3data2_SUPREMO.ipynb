{
 "cells": [
  {
   "cell_type": "markdown",
   "id": "83f0d759",
   "metadata": {},
   "source": [
    "Notebook SUPREMOOOOO"
   ]
  },
  {
   "cell_type": "code",
   "execution_count": 6,
   "id": "d26b14c4",
   "metadata": {},
   "outputs": [
    {
     "name": "stdout",
     "output_type": "stream",
     "text": [
      "Face detection model is able to detect following classes:\n",
      "{0: 'BABY', 1: 'EYE', 2: 'HEAD', 3: 'MOUTH', 4: 'NOSE'}\n"
     ]
    }
   ],
   "source": [
    "#versione mery\n",
    "\n",
    "import numpy as np\n",
    "from ultralytics import YOLO\n",
    "import os\n",
    "from pathlib import Path\n",
    "import cv2\n",
    "\n",
    "base_dir = Path().resolve()\n",
    "os.chdir(base_dir)\n",
    "\n",
    "model = YOLO(\"3.weights/best.pt\")\n",
    "\n",
    "classes_fd = model.names\n",
    "print(f\"Face detection model is able to detect following classes:\\n{classes_fd}\")\n",
    "\n",
    "base_dir = Path().resolve()\n",
    "os.chdir(base_dir)"
   ]
  },
  {
   "cell_type": "markdown",
   "id": "308d02a1",
   "metadata": {},
   "source": [
    "# DATASET ON BACK/ON STOMACH: 2\n",
    "Extract dictionary {img_name : label} from annotations.json file"
   ]
  },
  {
   "cell_type": "code",
   "execution_count": 7,
   "id": "56220836",
   "metadata": {},
   "outputs": [],
   "source": [
    "import json\n",
    "\n",
    "file_imgid = {}\n",
    "imgid_label = {}\n",
    "file_label = {}\n",
    "\n",
    "classes_mlp = {}\n",
    "\n",
    "with open(\"onback_onstomach_v2/_annotations.coco.json\", \"r\") as f:\n",
    "    dataset = json.load(f)\n",
    "    \n",
    "    for img in dataset[\"images\"]:\n",
    "        file_imgid[img[\"file_name\"]] =img[\"id\"]\n",
    "    \n",
    "    for label in dataset[\"annotations\"]:\n",
    "        imgid_label[label[\"image_id\"]] = label[\"category_id\"]\n",
    "    \n",
    "    for cls in dataset[\"categories\"]:\n",
    "        classes_mlp[cls[\"name\"]]=cls[\"id\"]\n",
    "    del classes_mlp[\"baby\"]\n",
    "\n",
    "for file, img_id in file_imgid.items():\n",
    "    if img_id in imgid_label.keys():\n",
    "        file_label[file] = imgid_label[img_id]      "
   ]
  },
  {
   "cell_type": "markdown",
   "id": "c3a5852f",
   "metadata": {},
   "source": [
    "# Save new dataset (embedding - label) in .csv format"
   ]
  },
  {
   "cell_type": "code",
   "execution_count": 8,
   "id": "e6ae732c",
   "metadata": {},
   "outputs": [],
   "source": [
    "import csv\n",
    "\n",
    "def save_embedding_label_dataset(dataset: str, embedding_type: str, model_version:str, X, y):    \n",
    "    with open(f\"{dataset}/{model_version}-{embedding_type}.csv\", \"w\", newline='') as f:\n",
    "        writer = csv.writer(f)\n",
    "        for xi, yi in zip(X, y):\n",
    "            writer.writerow(list(xi) + [yi])"
   ]
  },
  {
   "cell_type": "markdown",
   "id": "98e1cc8e",
   "metadata": {},
   "source": [
    "# Load dataset from .csv file"
   ]
  },
  {
   "cell_type": "code",
   "execution_count": 9,
   "id": "8b4604b8",
   "metadata": {},
   "outputs": [],
   "source": [
    "def load_embedding_label_dataset(dataset: str, embedding_type: str, model_version: str):\n",
    "    data = np.loadtxt(f\"{dataset}/{model_version}-{embedding_type}.csv\", delimiter=\",\")\n",
    "    X = data[:, :-1]\n",
    "    y = data[:, -1]\n",
    "    \n",
    "    return X,y"
   ]
  },
  {
   "cell_type": "markdown",
   "id": "30b572f6",
   "metadata": {},
   "source": [
    "# COMBINATION 1 (dataset 2, model 2, embedding SUPREMOOO)"
   ]
  },
  {
   "cell_type": "code",
   "execution_count": 14,
   "id": "1b4da392",
   "metadata": {},
   "outputs": [],
   "source": [
    "model_version = \"v3\"\n",
    "dataset_folder = \"onback_onstomach_v2\"\n",
    "embedding_type = \"supremo\""
   ]
  },
  {
   "cell_type": "code",
   "execution_count": 17,
   "id": "d4077e2f",
   "metadata": {},
   "outputs": [
    {
     "ename": "SyntaxError",
     "evalue": "invalid syntax (embeddings.py, line 236)",
     "output_type": "error",
     "traceback": [
      "Traceback \u001b[1;36m(most recent call last)\u001b[0m:\n",
      "\u001b[0m  File \u001b[0;32mc:\\Users\\memes\\anaconda3\\envs\\LabML\\lib\\site-packages\\IPython\\core\\interactiveshell.py:3550\u001b[0m in \u001b[0;35mrun_code\u001b[0m\n    exec(code_obj, self.user_global_ns, self.user_ns)\u001b[0m\n",
      "\u001b[1;36m  Cell \u001b[1;32mIn[17], line 1\u001b[1;36m\n\u001b[1;33m    import embeddings\u001b[1;36m\n",
      "\u001b[1;36m  File \u001b[1;32m~\\Documents\\SIDS_revelation_project\\embeddings.py:236\u001b[1;36m\u001b[0m\n\u001b[1;33m    match class_label:\u001b[0m\n\u001b[1;37m          ^\u001b[0m\n\u001b[1;31mSyntaxError\u001b[0m\u001b[1;31m:\u001b[0m invalid syntax\n"
     ]
    }
   ],
   "source": [
    "import embeddings \n",
    "onback_onstomach_dataset = Path(dataset_folder)\n",
    "X = []\n",
    "y = []\n",
    "\n",
    "for img in onback_onstomach_dataset.glob(\"*.jpg\"):\n",
    "    if img.name in file_label.keys():\n",
    "        #DEBUG\n",
    "        if len(y)%100 == 0:\n",
    "            print(f\"{int(len(y)*100/len(file_label))}%-->    {len(y)} / {len(file_label)} embeddings created\")\n",
    "        #DEBUG    \n",
    "        result = model(img, conf=0.3, verbose=False)[0]\n",
    "        prediction = result.boxes\n",
    "        \n",
    "        vec = embeddings.embedding_SUPREMO(prediction)\n",
    "        X.append(vec)\n",
    "        y.append(file_label[img.name])\n",
    "        \n",
    "print(f\"FINISHED EMBEDDING CREATION, {len(y)} embeddings created\")\n",
    "\n",
    "save_embedding_label_dataset(dataset_folder, embedding_type, model_version, X, y)\n",
    "print(f\"New dataset (embedding - label) saved in '{dataset_folder}/{embedding_type}.csv'\")"
   ]
  },
  {
   "cell_type": "markdown",
   "id": "1491f527",
   "metadata": {},
   "source": [
    "X, y = load_embedding_label_dataset(dataset_folder, embedding_type, model_version)"
   ]
  },
  {
   "cell_type": "code",
   "execution_count": null,
   "id": "a0dae938",
   "metadata": {},
   "outputs": [],
   "source": []
  },
  {
   "cell_type": "markdown",
   "id": "fe81a094",
   "metadata": {},
   "source": [
    "# RANDOM FOREST con feature selection"
   ]
  },
  {
   "cell_type": "code",
   "execution_count": null,
   "id": "0092157a",
   "metadata": {},
   "outputs": [],
   "source": [
    "from sklearn.ensemble import RandomForestClassifier\n",
    "from sklearn.model_selection import train_test_split\n",
    "from sklearn.metrics import accuracy_score, classification_report\n",
    "import numpy as np\n",
    "import matplotlib.pyplot as plt\n",
    "\n",
    "X_train, X_test, y_train, y_test = train_test_split(X, y, test_size=0.2, random_state=42)\n",
    "\n",
    "clf = RandomForestClassifier(n_estimators=100, random_state=42)\n",
    "clf.fit(X_train, y_train)\n",
    "\n",
    "# Ottieni l'importanza delle feature\n",
    "importances = clf.feature_importances_\n",
    "\n",
    "# Ordina per importanza decrescente\n",
    "indices = np.argsort(importances)[::-1]\n",
    "\n",
    "# Visualizza le top 10 feature\n",
    "plt.figure(figsize=(10, 5))\n",
    "plt.title(\"Top 10 Feature Importances\")\n",
    "plt.bar(range(10), importances[indices[:10]])\n",
    "plt.xticks(range(10), [f\"Feature {i}\" for i in indices[:10]], rotation=45)\n",
    "plt.tight_layout()\n",
    "plt.show()"
   ]
  },
  {
   "cell_type": "code",
   "execution_count": null,
   "id": "ae4423bb",
   "metadata": {},
   "outputs": [],
   "source": [
    "from sklearn.metrics import classification_report\n",
    "# Prendi solo le prime 10 feature\n",
    "top_k = 10\n",
    "top_features_idx = indices[:top_k]\n",
    "\n",
    "# Filtra X_train e X_test per includere solo le top-k feature\n",
    "X_train_selected = X_train[:, top_features_idx]\n",
    "X_test_selected = X_test[:, top_features_idx]\n",
    "\n",
    "clf_reduced = RandomForestClassifier(n_estimators=100, random_state=42)\n",
    "clf_reduced.fit(X_train_selected, y_train)\n",
    "\n",
    "y_pred_reduced = clf_reduced.predict(X_test_selected)\n",
    "\n",
    "\n",
    "# Evaluate\n",
    "print(f\"\\nDataset labels:----------------------------------------\\n{classes_mlp}\\n\")\n",
    "\n",
    "print(f\"Report-------------------------------------------------\")\n",
    "labels_in_dataset = list(classes_mlp.keys())[:2]\n",
    "print(classification_report(y_test, y_pred_reduced, target_names=labels_in_dataset))"
   ]
  }
 ],
 "metadata": {
  "kernelspec": {
   "display_name": "LabML",
   "language": "python",
   "name": "python3"
  },
  "language_info": {
   "codemirror_mode": {
    "name": "ipython",
    "version": 3
   },
   "file_extension": ".py",
   "mimetype": "text/x-python",
   "name": "python",
   "nbconvert_exporter": "python",
   "pygments_lexer": "ipython3",
   "version": "3.9.21"
  }
 },
 "nbformat": 4,
 "nbformat_minor": 5
}
