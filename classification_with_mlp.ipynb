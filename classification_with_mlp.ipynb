{
 "cells": [
  {
   "metadata": {
    "ExecuteTime": {
     "end_time": "2025-07-15T16:56:00.321391Z",
     "start_time": "2025-07-15T16:55:59.424782Z"
    }
   },
   "cell_type": "code",
   "source": [
    "import numpy as np\n",
    "from ultralytics import YOLO\n",
    "import os\n",
    "from pathlib import Path\n",
    "import cv2\n",
    "\n",
    "os.chdir('/home/terra/Documents/AI_engineering/SIDS-project/python_project/SIDS_revelation_project')\n",
    "model = YOLO(\"./2.weights/best.pt\")\n",
    "\n",
    "classes_fd = model.names\n",
    "print(f\"Face detection model is able to detect following classes:\\n{classes_fd}\")"
   ],
   "id": "8acc0384596879fb",
   "outputs": [
    {
     "name": "stdout",
     "output_type": "stream",
     "text": [
      "Model is able to detect following classes:\n",
      "{0: 'BABY', 1: 'EYE', 2: 'HEAD', 3: 'MOUTH', 4: 'NOSE'}\n"
     ]
    }
   ],
   "execution_count": 114
  },
  {
   "metadata": {},
   "cell_type": "markdown",
   "source": "# Trained model",
   "id": "bc8c5f3f9e3233a7"
  },
  {
   "metadata": {},
   "cell_type": "markdown",
   "source": "## Inference",
   "id": "a5b481c9610f0ded"
  },
  {
   "metadata": {
    "ExecuteTime": {
     "end_time": "2025-07-15T21:15:52.593947Z",
     "start_time": "2025-07-15T21:15:38.960920Z"
    }
   },
   "cell_type": "code",
   "source": [
    "test_dir = Path(\"test_samples\")\n",
    "test_samples = list(test_dir.iterdir())\n",
    "\n",
    "output_dir = Path(\"2.test_output\")\n",
    "output_dir.mkdir(exist_ok=True)\n",
    "\n",
    "res = []\n",
    "for s in test_samples:\n",
    "    result = model(s, conf=0.3, verbose=False)[0]\n",
    "    res.append(result)\n",
    "    \n",
    "    out_path = output_dir / s.name\n",
    "    im_with_boxes = result.plot()\n",
    "    cv2.imwrite(str(out_path), im_with_boxes[..., ::-1])\n",
    "print(f\"INFERENCE FINISHED, {len(res)}/{len(test_samples)} file precessed\")"
   ],
   "id": "initial_id",
   "outputs": [
    {
     "name": "stdout",
     "output_type": "stream",
     "text": [
      "INFERENCE FINISHED, 20/20 file precessed\n"
     ]
    }
   ],
   "execution_count": 24
  },
  {
   "metadata": {},
   "cell_type": "markdown",
   "source": [
    "# Extrapolate bbox and then create embedding\n",
    "Each res is a `ultralytics.engine.results.Results object`\n",
    "\n",
    "We are interested in bbox, in particular in [\"baby\", \"head\", \"eye\", \"mouth\", \"nose\"] \n",
    "* 'baby' -> 1/-1, 1 if present -1 otherwise\n",
    "* 'head' -> x,y coordinates\n",
    "* 'eye1' -> x,y coordinates if present, -1 otherwise\n",
    "* 'eye2' -> x,y coordinates if present, -1 otherwise\n",
    "* 'mouth' -> x,y coordinates if present, -1 otherwise\n",
    "* 'nose' -> x,y coordinates if present, -1 otherwise"
   ],
   "id": "ba3b3df2bacb1c12"
  },
  {
   "metadata": {
    "ExecuteTime": {
     "end_time": "2025-07-15T16:49:17.961995Z",
     "start_time": "2025-07-15T16:49:17.876102Z"
    }
   },
   "cell_type": "code",
   "source": "res[0].boxes",
   "id": "c8853bcf8e838f51",
   "outputs": [
    {
     "data": {
      "text/plain": [
       "ultralytics.engine.results.Boxes object with attributes:\n",
       "\n",
       "cls: tensor([0., 2., 3., 1., 1., 4.])\n",
       "conf: tensor([0.9592, 0.9552, 0.9030, 0.8885, 0.8779, 0.7374])\n",
       "data: tensor([[6.9273e-01, 6.2396e+00, 5.8253e+02, 4.7748e+02, 9.5915e-01, 0.0000e+00],\n",
       "        [1.3565e+02, 2.0345e-01, 4.8581e+02, 3.9137e+02, 9.5523e-01, 2.0000e+00],\n",
       "        [2.3040e+02, 2.6293e+02, 3.2699e+02, 3.2072e+02, 9.0298e-01, 3.0000e+00],\n",
       "        [3.4770e+02, 1.8974e+02, 4.1047e+02, 2.2440e+02, 8.8849e-01, 1.0000e+00],\n",
       "        [2.1715e+02, 1.5359e+02, 2.8017e+02, 1.8915e+02, 8.7793e-01, 1.0000e+00],\n",
       "        [2.6005e+02, 1.9502e+02, 3.3532e+02, 2.5566e+02, 7.3737e-01, 4.0000e+00]])\n",
       "id: None\n",
       "is_track: False\n",
       "orig_shape: (479, 584)\n",
       "shape: torch.Size([6, 6])\n",
       "xywh: tensor([[291.6100, 241.8617, 581.8345, 471.2442],\n",
       "        [310.7316, 195.7885, 350.1580, 391.1700],\n",
       "        [278.6963, 291.8277,  96.5842,  57.7863],\n",
       "        [379.0881, 207.0682,  62.7700,  34.6595],\n",
       "        [248.6586, 171.3723,  63.0145,  35.5554],\n",
       "        [297.6850, 225.3368,  75.2610,  60.6400]])\n",
       "xywhn: tensor([[0.4993, 0.5049, 0.9963, 0.9838],\n",
       "        [0.5321, 0.4087, 0.5996, 0.8166],\n",
       "        [0.4772, 0.6092, 0.1654, 0.1206],\n",
       "        [0.6491, 0.4323, 0.1075, 0.0724],\n",
       "        [0.4258, 0.3578, 0.1079, 0.0742],\n",
       "        [0.5097, 0.4704, 0.1289, 0.1266]])\n",
       "xyxy: tensor([[6.9273e-01, 6.2396e+00, 5.8253e+02, 4.7748e+02],\n",
       "        [1.3565e+02, 2.0345e-01, 4.8581e+02, 3.9137e+02],\n",
       "        [2.3040e+02, 2.6293e+02, 3.2699e+02, 3.2072e+02],\n",
       "        [3.4770e+02, 1.8974e+02, 4.1047e+02, 2.2440e+02],\n",
       "        [2.1715e+02, 1.5359e+02, 2.8017e+02, 1.8915e+02],\n",
       "        [2.6005e+02, 1.9502e+02, 3.3532e+02, 2.5566e+02]])\n",
       "xyxyn: tensor([[1.1862e-03, 1.3026e-02, 9.9748e-01, 9.9683e-01],\n",
       "        [2.3228e-01, 4.2474e-04, 8.3187e-01, 8.1706e-01],\n",
       "        [3.9453e-01, 5.4892e-01, 5.5991e-01, 6.6956e-01],\n",
       "        [5.9538e-01, 3.9611e-01, 7.0286e-01, 4.6847e-01],\n",
       "        [3.7183e-01, 3.2066e-01, 4.7974e-01, 3.9489e-01],\n",
       "        [4.4530e-01, 4.0713e-01, 5.7417e-01, 5.3373e-01]])"
      ]
     },
     "execution_count": 101,
     "metadata": {},
     "output_type": "execute_result"
    }
   ],
   "execution_count": 101
  },
  {
   "metadata": {},
   "cell_type": "markdown",
   "source": "I exploit `xywhn` boxes, and in particular `xy` that represent coordinates of center",
   "id": "7c2782178deaccae"
  },
  {
   "metadata": {
    "ExecuteTime": {
     "end_time": "2025-07-15T21:22:17.197885Z",
     "start_time": "2025-07-15T21:22:17.189496Z"
    }
   },
   "cell_type": "code",
   "source": [
    "from ultralytics.engine.results import Boxes  \n",
    "\n",
    "def embedding_builder(prediction: Boxes):\n",
    "    '''\n",
    "    DEBUG PURPOSE\n",
    "    if prediction.xywhn.size()[0]>6:\n",
    "        print(f\"Warning, more than 6 features detected in the sample\\n{prediction.cls}\")\n",
    "    '''\n",
    "    \n",
    "    embedding_position= {\n",
    "        \"BABY\" : 0,\n",
    "        \"HEAD\": 1,\n",
    "        \"EYE\": (3, 5),\n",
    "        \"MOUTH\": 7,\n",
    "        \"NOSE\": 9\n",
    "    }\n",
    "    \n",
    "    vec = np.full(11, -1.0, dtype=float)\n",
    "    for bbox, cls in zip(prediction.xywhn, prediction.cls):\n",
    "        class_label = classes_fd[cls.item()]\n",
    "        if class_label == \"BABY\":\n",
    "            pos = embedding_position[class_label]\n",
    "            \n",
    "            vec[pos] = 1\n",
    "        elif class_label == \"EYE\":\n",
    "            pos = embedding_position[class_label][0] if vec[embedding_position[class_label][0]] == -1 else embedding_position[class_label][1]\n",
    "            \n",
    "            vec[pos] = bbox[0]\n",
    "            vec[pos+1] = bbox[1]\n",
    "        else:\n",
    "            pos = embedding_position[class_label]\n",
    "            \n",
    "            vec[pos] = bbox[0]\n",
    "            vec[pos+1] = bbox[1]    \n",
    "    \n",
    "    return vec"
   ],
   "id": "8d907060c883c314",
   "outputs": [],
   "execution_count": 40
  },
  {
   "metadata": {
    "ExecuteTime": {
     "end_time": "2025-07-15T21:18:02.506700Z",
     "start_time": "2025-07-15T21:18:02.491857Z"
    }
   },
   "cell_type": "code",
   "source": [
    "data = []\n",
    "\n",
    "for p in res:\n",
    "    prediction = p.boxes\n",
    "    vec = embedding_builder(prediction)\n",
    "    data.append(vec)\n",
    "\n",
    "data = np.vstack(data)    "
   ],
   "id": "8bb9d92bf78d2525",
   "outputs": [
    {
     "name": "stdout",
     "output_type": "stream",
     "text": [
      "Warning, more than 6 features detected in the sample\n",
      "tensor([3., 2., 1., 4., 0., 1., 1.])\n"
     ]
    }
   ],
   "execution_count": 34
  },
  {
   "metadata": {
    "ExecuteTime": {
     "end_time": "2025-07-15T21:18:03.142087Z",
     "start_time": "2025-07-15T21:18:03.135562Z"
    }
   },
   "cell_type": "code",
   "source": "print(f\"Now each photo is represented by a 11 element embedding:\\n{data}\")",
   "id": "94e608b1efc1fd45",
   "outputs": [
    {
     "name": "stdout",
     "output_type": "stream",
     "text": [
      "Now each photo is represented by a 11 element embedding:\n",
      "[[          1     0.53207     0.40874     0.64912     0.43229     0.42579     0.35777     0.47722     0.60924     0.50973     0.47043]\n",
      " [          1     0.63797     0.39953     0.63319     0.48469     0.55218     0.34476     0.52267     0.50276     0.55986     0.45424]\n",
      " [          1     0.47678     0.42684     0.51032     0.29309      0.4234     0.53494     0.57401     0.48569      0.5117     0.42256]\n",
      " [          1     0.58741     0.49003     0.49488      0.5049      0.3563     0.65432     0.42614     0.60599     0.42922     0.52686]\n",
      " [          1     0.65788     0.22118     0.60501     0.22954     0.74247     0.23451     0.67023     0.32456     0.67359     0.26776]\n",
      " [          1     0.65167     0.24353     0.64986     0.35681     0.60477      0.2484     0.57966      0.3642     0.61114     0.33131]\n",
      " [          1     0.55443     0.12244     0.50099     0.12225      0.6028     0.12665     0.54812     0.19001     0.55027     0.14474]\n",
      " [          1     0.50068     0.39279     0.43557     0.42819     0.59198     0.42876     0.51441     0.56752     0.51506     0.47356]\n",
      " [          1     0.50835     0.49504     0.58123     0.47841     0.44614     0.42357     0.48905     0.63061     0.49669     0.53238]\n",
      " [          1     0.75562     0.63818          -1          -1          -1          -1          -1          -1          -1          -1]\n",
      " [          1     0.38152      0.1599     0.33049     0.19179          -1          -1     0.32417     0.27207     0.29735     0.23842]\n",
      " [          1     0.37667     0.33476     0.35085     0.44097     0.44883      0.3103     0.48641     0.47948     0.43839     0.41685]\n",
      " [          1     0.32007     0.22367     0.35036     0.25269     0.23601      0.3081     0.33192     0.37633      0.3018     0.31746]\n",
      " [          1     0.52134     0.34422     0.64945     0.34428          -1          -1     0.69684     0.44011     0.70596     0.38479]\n",
      " [          1     0.43673     0.30207     0.45583     0.26693     0.29074     0.30453     0.37684     0.40371     0.36571     0.32554]\n",
      " [          1     0.80278       0.471          -1          -1          -1          -1          -1          -1          -1          -1]\n",
      " [          1     0.36083     0.41045          -1          -1          -1          -1          -1          -1          -1          -1]\n",
      " [          1     0.51429     0.33617     0.64572     0.33946          -1          -1     0.69034     0.43611     0.70053     0.37881]\n",
      " [          1     0.59553     0.13716          -1          -1          -1          -1          -1          -1          -1          -1]\n",
      " [          1     0.52178     0.23039     0.47289     0.25956     0.58101     0.28047     0.50419     0.32844     0.52187     0.29546]]\n"
     ]
    }
   ],
   "execution_count": 35
  },
  {
   "metadata": {},
   "cell_type": "markdown",
   "source": [
    "## Extract info from JSON file\n",
    "* filename : img_id\n",
    "* img_id: label"
   ],
   "id": "e1d5618897d03da0"
  },
  {
   "metadata": {
    "ExecuteTime": {
     "end_time": "2025-07-15T20:54:16.286175Z",
     "start_time": "2025-07-15T20:54:16.281592Z"
    }
   },
   "cell_type": "code",
   "source": [
    "import numpy as np\n",
    "from ultralytics import YOLO\n",
    "import os\n",
    "from pathlib import Path\n",
    "import cv2"
   ],
   "id": "b2ec3a0b19bf3588",
   "outputs": [],
   "execution_count": 17
  },
  {
   "metadata": {
    "ExecuteTime": {
     "end_time": "2025-07-15T21:22:12.724144Z",
     "start_time": "2025-07-15T21:22:12.687346Z"
    }
   },
   "cell_type": "code",
   "source": [
    "import json\n",
    "os.chdir('/home/terra/Documents/AI_engineering/SIDS-project/python_project/SIDS_revelation_project')\n",
    "\n",
    "file_imgid = {}\n",
    "imgid_label = {}\n",
    "file_label = {}\n",
    "\n",
    "classes_mlp = {}\n",
    "\n",
    "with open(\"onback_onstomach_dataset/_annotations.coco.json\", \"r\") as f:\n",
    "    dataset = json.load(f)\n",
    "    \n",
    "    for img in dataset[\"images\"]:\n",
    "        file_imgid[img[\"file_name\"]] =img[\"id\"]\n",
    "    \n",
    "    for label in dataset[\"annotations\"]:\n",
    "        imgid_label[label[\"image_id\"]] = label[\"category_id\"]\n",
    "    \n",
    "    for cls in dataset[\"categories\"]:\n",
    "        classes_mlp[cls[\"name\"]]=cls[\"id\"]\n",
    "    del classes_mlp[\"Positions\"]\n",
    "\n",
    "for file, img_id in file_imgid.items():\n",
    "    if img_id in imgid_label.keys():\n",
    "        file_label[file] = imgid_label[img_id]      "
   ],
   "id": "1cbb810077c476c1",
   "outputs": [],
   "execution_count": 39
  },
  {
   "metadata": {
    "ExecuteTime": {
     "end_time": "2025-07-15T20:54:17.016200Z",
     "start_time": "2025-07-15T20:54:17.011225Z"
    }
   },
   "cell_type": "code",
   "source": [
    "print(f\"Dataset to train on_bck/ on_stomach contains {len(file_label)} samples.\")\n",
    "print(f\"Dataset categories: {classes_mlp}\")"
   ],
   "id": "121f0af3dea7d848",
   "outputs": [
    {
     "name": "stdout",
     "output_type": "stream",
     "text": [
      "Dataset to train on_bck/ on_stomach contains 2068 samples.\n",
      "Dataset categories: {'Safe': 1, 'Unsafe': 2}\n"
     ]
    }
   ],
   "execution_count": 19
  },
  {
   "metadata": {},
   "cell_type": "markdown",
   "source": "## Extract features(face detection) and create embedding",
   "id": "a85368a8546eccfe"
  },
  {
   "metadata": {
    "ExecuteTime": {
     "end_time": "2025-07-15T21:18:25.972945Z",
     "start_time": "2025-07-15T21:18:25.771965Z"
    }
   },
   "cell_type": "code",
   "source": [
    "os.chdir('/home/terra/Documents/AI_engineering/SIDS-project/python_project/SIDS_revelation_project')\n",
    "model = YOLO(\"./2.weights/best.pt\")\n",
    "\n",
    "classes_fd = model.names\n",
    "print(f\"Face detection model is able to detect following classes:\\n{classes_fd}\")"
   ],
   "id": "4b26e7a57cba3c28",
   "outputs": [
    {
     "name": "stdout",
     "output_type": "stream",
     "text": [
      "Face detection model is able to detect following classes:\n",
      "{0: 'BABY', 1: 'EYE', 2: 'HEAD', 3: 'MOUTH', 4: 'NOSE'}\n"
     ]
    }
   ],
   "execution_count": 36
  },
  {
   "metadata": {
    "ExecuteTime": {
     "end_time": "2025-07-16T07:37:53.493046Z",
     "start_time": "2025-07-16T07:37:53.202168Z"
    }
   },
   "cell_type": "code",
   "source": [
    "os.chdir('/home/terra/Documents/AI_engineering/SIDS-project/python_project/SIDS_revelation_project')\n",
    "onback_onstomach_dataset = Path(\"onback_onstomach_dataset/\")\n",
    "X = []\n",
    "y = []\n",
    "\n",
    "for img in onback_onstomach_dataset.glob(\"*.jpg\"):\n",
    "    if img.name in file_label.keys():\n",
    "        #DEBUG\n",
    "        if len(y)%100 == 0:\n",
    "            print(f\"{int(len(y)*100/len(file_label))}%-->    {len(y)} / {len(file_label)} embeddings created\")\n",
    "        #DEBUG    \n",
    "        result = model(img, conf=0.3, verbose=False)[0]\n",
    "        prediction = result.boxes\n",
    "        \n",
    "        vec = embedding_builder(prediction)\n",
    "        X.append(vec)\n",
    "        y.append(file_label[img.name])\n",
    "    print(f\"FINISH, {len(y)} embeddings created\")"
   ],
   "id": "3e93aef272b7acaf",
   "outputs": [
    {
     "ename": "NameError",
     "evalue": "name 'os' is not defined",
     "output_type": "error",
     "traceback": [
      "\u001B[0;31m---------------------------------------------------------------------------\u001B[0m",
      "\u001B[0;31mNameError\u001B[0m                                 Traceback (most recent call last)",
      "Cell \u001B[0;32mIn[1], line 1\u001B[0m\n\u001B[0;32m----> 1\u001B[0m \u001B[43mos\u001B[49m\u001B[38;5;241m.\u001B[39mchdir(\u001B[38;5;124m'\u001B[39m\u001B[38;5;124m/home/terra/Documents/AI_engineering/SIDS-project/python_project/SIDS_revelation_project\u001B[39m\u001B[38;5;124m'\u001B[39m)\n\u001B[1;32m      2\u001B[0m onback_onstomach_dataset \u001B[38;5;241m=\u001B[39m Path(\u001B[38;5;124m\"\u001B[39m\u001B[38;5;124monback_onstomach_dataset/\u001B[39m\u001B[38;5;124m\"\u001B[39m)\n\u001B[1;32m      3\u001B[0m X \u001B[38;5;241m=\u001B[39m []\n",
      "\u001B[0;31mNameError\u001B[0m: name 'os' is not defined"
     ]
    }
   ],
   "execution_count": 1
  },
  {
   "metadata": {},
   "cell_type": "markdown",
   "source": [
    "Save new dataset in a .csv\n",
    "New dataset is equivalent to:\n",
    "* x, 11 elements embedding\n",
    "* y, one scalar target"
   ],
   "id": "699beabf23ed253a"
  },
  {
   "metadata": {
    "ExecuteTime": {
     "end_time": "2025-07-15T21:45:43.595019Z",
     "start_time": "2025-07-15T21:45:43.530802Z"
    }
   },
   "cell_type": "code",
   "source": [
    "import csv\n",
    "\n",
    "with open(\"onback_onstomach_dataset/processed_dataset.csv\", \"w\", newline='') as f:\n",
    "    writer = csv.writer(f)\n",
    "    for xi, yi in zip(X, y):\n",
    "        writer.writerow(list(xi) + [yi])"
   ],
   "id": "28a1de7021c0f7f3",
   "outputs": [],
   "execution_count": 43
  },
  {
   "metadata": {},
   "cell_type": "markdown",
   "source": "Then in order to extract X and y from .csv and load them in numpy arrays",
   "id": "27e324c0e6059075"
  },
  {
   "metadata": {},
   "cell_type": "markdown",
   "source": [
    "import numpy as np\n",
    "\n",
    "data = np.loadtxt(\"processed_dataset.csv\", delimiter=\",\")\n",
    "X = data[:, :-1]\n",
    "y = data[:, -1]"
   ],
   "id": "6f63803caa62a862"
  },
  {
   "metadata": {},
   "cell_type": "markdown",
   "source": "# Attempt with random forest....no buono",
   "id": "1ade54488ec58d63"
  },
  {
   "metadata": {
    "ExecuteTime": {
     "end_time": "2025-07-15T21:46:08.666741Z",
     "start_time": "2025-07-15T21:46:06.111814Z"
    }
   },
   "cell_type": "code",
   "source": [
    "from sklearn.ensemble import RandomForestClassifier\n",
    "from sklearn.model_selection import train_test_split\n",
    "from sklearn.metrics import accuracy_score, classification_report\n",
    "import numpy as np\n",
    "\n",
    "# Convert to NumPy arrays (if not already)\n",
    "X_array = np.array(X)\n",
    "y_array = np.array(y)\n",
    "\n",
    "# Split into train/test sets (e.g., 80% train, 20% test)\n",
    "X_train, X_test, y_train, y_test = train_test_split(X_array, y_array, test_size=0.2, random_state=42)\n",
    "\n",
    "# Create the classifier\n",
    "clf = RandomForestClassifier(n_estimators=100, random_state=42)\n",
    "\n",
    "# Train the classifier\n",
    "clf.fit(X_train, y_train)\n",
    "\n",
    "# Predict on the test set\n",
    "y_pred = clf.predict(X_test)\n",
    "\n",
    "# Evaluate\n",
    "print(\"Accuracy:\", accuracy_score(y_test, y_pred))\n",
    "print(\"Classification Report:\")\n",
    "print(classification_report(y_test, y_pred))"
   ],
   "id": "e7e7cf929e9c774a",
   "outputs": [
    {
     "name": "stdout",
     "output_type": "stream",
     "text": [
      "Accuracy: 0.717391304347826\n",
      "Classification Report:\n",
      "              precision    recall  f1-score   support\n",
      "\n",
      "           1       0.76      0.92      0.83       310\n",
      "           2       0.33      0.12      0.18       104\n",
      "\n",
      "    accuracy                           0.72       414\n",
      "   macro avg       0.55      0.52      0.51       414\n",
      "weighted avg       0.65      0.72      0.67       414\n",
      "\n"
     ]
    }
   ],
   "execution_count": 44
  },
  {
   "metadata": {
    "ExecuteTime": {
     "end_time": "2025-07-15T21:48:36.197857Z",
     "start_time": "2025-07-15T21:48:35.386529Z"
    }
   },
   "cell_type": "code",
   "source": [
    "from sklearn.metrics import confusion_matrix, ConfusionMatrixDisplay\n",
    "import matplotlib.pyplot as plt\n",
    "\n",
    "cm = confusion_matrix(y_test, y_pred)\n",
    "\n",
    "# Visualizza con etichette (opzionale: specifica classi)\n",
    "disp = ConfusionMatrixDisplay(confusion_matrix=cm, display_labels=clf.classes_)\n",
    "disp.plot(cmap=plt.cm.Blues)\n",
    "\n",
    "plt.title(\"Confusion Matrix\")\n",
    "plt.show()\n"
   ],
   "id": "960b03df528eddc9",
   "outputs": [
    {
     "data": {
      "text/plain": [
       "<Figure size 640x480 with 2 Axes>"
      ],
      "image/png": "[encoded data removed]"
     },
     "metadata": {},
     "output_type": "display_data"
    }
   ],
   "execution_count": 48
  },
  {
   "metadata": {},
   "cell_type": "code",
   "outputs": [],
   "execution_count": null,
   "source": "",
   "id": "53e4ae1399d42f2d"
  }
 ],
 "metadata": {
  "kernelspec": {
   "display_name": "Python 3",
   "language": "python",
   "name": "python3"
  },
  "language_info": {
   "codemirror_mode": {
    "name": "ipython",
    "version": 2
   },
   "file_extension": ".py",
   "mimetype": "text/x-python",
   "name": "python",
   "nbconvert_exporter": "python",
   "pygments_lexer": "ipython2",
   "version": "2.7.6"
  }
 },
 "nbformat": 4,
 "nbformat_minor": 5
}
