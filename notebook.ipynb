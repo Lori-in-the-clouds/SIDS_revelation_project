{
 "cells": [
  {
   "metadata": {},
   "cell_type": "markdown",
   "source": "# Data Augmentation",
   "id": "c5798e7f9d0694"
  },
  {
   "metadata": {
    "ExecuteTime": {
     "end_time": "2025-07-14T12:55:01.124004Z",
     "start_time": "2025-07-14T12:55:01.106436Z"
    }
   },
   "cell_type": "code",
   "source": [
    "import albumentations as A\n",
    "import cv2\n",
    "\n",
    "baby_monitor_type_filter = A.Compose([\n",
    "    A.RandomBrightnessContrast(brightness_limit=(-0.4, -0.2), contrast_limit=(-0.3, 0), p=1.0),\n",
    "    A.MotionBlur(blur_limit=(5, 15), p=0.6),\n",
    "    A.GaussianBlur(blur_limit=(5, 11), p=0.4),\n",
    "    A.MedianBlur(blur_limit=7, p=0.3),\n",
    "    A.GaussNoise(p=0.6),\n",
    "    A.ISONoise(color_shift=(0.01, 0.03), intensity=(0.1, 0.4), p=0.3),\n",
    "    A.HueSaturationValue(hue_shift_limit=(-2, 2), sat_shift_limit=(-25, -10), val_shift_limit=(-10, 0), p=0.5),\n",
    "    A.Affine(rotate=(-15, 15), p=0.5)\n",
    "])\n",
    "\n",
    "gray_filter = A.Compose([\n",
    "    A.ToGray(p=1.0),\n",
    "    A.Affine(rotate=(-90, 90), p=0.5)\n",
    "])\n",
    "\n",
    "filter_3 = A.Compose([\n",
    "    A.ToGray(p=1.0),\n",
    "    A.RandomGamma(gamma_limit=(80, 120), p=0.5),\n",
    "    A.ImageCompression(p=0.4),\n",
    "    A.MotionBlur(blur_limit=(3, 7), p=0.4),\n",
    "    A.GaussNoise(p=0.3),\n",
    "    A.Affine(rotate=(-90, 90), p=0.5)\n",
    "])\n",
    "\n",
    "filter_4 = A.Compose([\n",
    "    A.RandomBrightnessContrast(brightness_limit=(-0.2, -0.05), contrast_limit=(-0.2, 0.05), p=1.0),\n",
    "    A.CLAHE(clip_limit=(1, 3), tile_grid_size=(8, 8), p=0.4),\n",
    "    A.Equalize(mode='cv', p=0.3),\n",
    "    A.GaussianBlur(blur_limit=(3, 7), p=0.4),\n",
    "    A.ImageCompression(p=0.3),\n",
    "    A.Affine(translate_percent={\"x\": (-0.05, 0.05), \"y\": (-0.05, 0.05)}, rotate=(-3, 3),p=0.3),\n",
    "    A.Affine(rotate=(-90, 90), p=0.5)\n",
    "])\n",
    "\n",
    "night_aug_list = [baby_monitor_type_filter, gray_filter,filter_3,filter_4]"
   ],
   "id": "d7a2898e1d9213fb",
   "outputs": [],
   "execution_count": 198
  },
  {
   "metadata": {
    "ExecuteTime": {
     "end_time": "2025-07-14T12:55:04.284110Z",
     "start_time": "2025-07-14T12:55:04.280286Z"
    }
   },
   "cell_type": "code",
   "source": [
    "def apply_transformation(image_input, image_output,mode):\n",
    "    image = cv2.imread(image_input)\n",
    "    image = cv2.cvtColor(image, cv2.COLOR_BGR2RGB)\n",
    "    augmented = night_aug_list[mode](image=image)[\"image\"]\n",
    "    augmented_bgr = cv2.cvtColor(augmented, cv2.COLOR_RGB2BGR)\n",
    "    cv2.imwrite(image_output, augmented_bgr)"
   ],
   "id": "7b42ea92da16c197",
   "outputs": [],
   "execution_count": 199
  },
  {
   "metadata": {
    "ExecuteTime": {
     "end_time": "2025-07-14T12:55:06.229219Z",
     "start_time": "2025-07-14T12:55:06.219350Z"
    }
   },
   "cell_type": "code",
   "source": [
    "from pathlib import Path\n",
    "import re\n",
    "import shutil\n",
    "\n",
    "def clean_dataset(dir):\n",
    "\n",
    "    dir_images = Path(dir+\"/images\")\n",
    "    dir_labels = Path(dir+\"/labels\")\n",
    "\n",
    "    images = sorted(f for f in dir_images.iterdir() if f.is_file())\n",
    "    labels = sorted(f for f in dir_labels.iterdir() if f.is_file())\n",
    "\n",
    "    for image in images:\n",
    "        if re.search(r\"_t\\d+\\.jpg$\", image.name):\n",
    "                image.unlink(missing_ok=True)\n",
    "\n",
    "    for label in labels:\n",
    "        if label:\n",
    "            if re.search(r\"_t\\d+\\.txt$\", label.name):\n",
    "                label.unlink(missing_ok=True)\n",
    "\n",
    "def add_items_in_dataset(dir,mode):\n",
    "    dir_images = Path(dir+\"/images\")\n",
    "    dir_labels = Path(dir+\"/labels\")\n",
    "\n",
    "    images = sorted(f for f in dir_images.iterdir() if f.is_file() and not re.search(r\"_t\\d+\\.jpg$\", f.name))\n",
    "    labels = sorted(f for f in dir_labels.iterdir() if f.is_file() and not re.search(r\"_t\\d+\\.txt$\", f.name))\n",
    "\n",
    "    for image in images:\n",
    "         if image:\n",
    "            image_name = str(image).split(\".jpg\")[0]\n",
    "            apply_transformation(str(image),str(image_name)+\"_t\"+str(mode)+\".jpg\",mode)\n",
    "    for label in labels:\n",
    "        if label:\n",
    "            label_name = str(label).split(\".txt\")[0]\n",
    "            shutil.copy2(label, Path(label_name+\"_t\"+str(mode)+\".txt\"))"
   ],
   "id": "377e13ed77fa274a",
   "outputs": [],
   "execution_count": 200
  },
  {
   "metadata": {
    "ExecuteTime": {
     "end_time": "2025-07-14T12:55:09.146775Z",
     "start_time": "2025-07-14T12:55:08.958224Z"
    }
   },
   "cell_type": "code",
   "source": "#clean_dataset(\"/Users/lorenzodimaio/PyCharmMiscProject/second_try_face_detection.v1i.yolov8/test\")",
   "id": "58e06769d85836c7",
   "outputs": [],
   "execution_count": 201
  },
  {
   "metadata": {
    "ExecuteTime": {
     "end_time": "2025-07-14T12:57:30.060886Z",
     "start_time": "2025-07-14T12:55:26.194021Z"
    }
   },
   "cell_type": "code",
   "source": [
    "#Data augmentation Test\n",
    "add_items_in_dataset(\"/Users/lorenzodimaio/PyCharmMiscProject/second_try_face_detection.v1i.yolov8/test\",0)\n",
    "add_items_in_dataset(\"/Users/lorenzodimaio/PyCharmMiscProject/second_try_face_detection.v1i.yolov8/test\",1)\n",
    "add_items_in_dataset(\"/Users/lorenzodimaio/PyCharmMiscProject/second_try_face_detection.v1i.yolov8/test\",2)\n",
    "add_items_in_dataset(\"/Users/lorenzodimaio/PyCharmMiscProject/second_try_face_detection.v1i.yolov8/test\",3)\n",
    "\n",
    "#Data augmentation Train\n",
    "add_items_in_dataset(\"/Users/lorenzodimaio/PyCharmMiscProject/second_try_face_detection.v1i.yolov8/train\",0)\n",
    "add_items_in_dataset(\"/Users/lorenzodimaio/PyCharmMiscProject/second_try_face_detection.v1i.yolov8/train\",1)\n",
    "add_items_in_dataset(\"/Users/lorenzodimaio/PyCharmMiscProject/second_try_face_detection.v1i.yolov8/train\",2)\n",
    "add_items_in_dataset(\"/Users/lorenzodimaio/PyCharmMiscProject/second_try_face_detection.v1i.yolov8/train\",3)\n",
    "\n",
    "#Data augmentation Test\n",
    "add_items_in_dataset(\"/Users/lorenzodimaio/PyCharmMiscProject/second_try_face_detection.v1i.yolov8/valid\",0)\n",
    "add_items_in_dataset(\"/Users/lorenzodimaio/PyCharmMiscProject/second_try_face_detection.v1i.yolov8/valid\",1)\n",
    "add_items_in_dataset(\"/Users/lorenzodimaio/PyCharmMiscProject/second_try_face_detection.v1i.yolov8/valid\",2)\n",
    "add_items_in_dataset(\"/Users/lorenzodimaio/PyCharmMiscProject/second_try_face_detection.v1i.yolov8/valid\",3)"
   ],
   "id": "868ba7d589af6b34",
   "outputs": [],
   "execution_count": 202
  }
 ],
 "metadata": {
  "kernelspec": {
   "display_name": "Python 3",
   "language": "python",
   "name": "python3"
  },
  "language_info": {
   "codemirror_mode": {
    "name": "ipython",
    "version": 2
   },
   "file_extension": ".py",
   "mimetype": "text/x-python",
   "name": "python",
   "nbconvert_exporter": "python",
   "pygments_lexer": "ipython2",
   "version": "2.7.6"
  }
 },
 "nbformat": 4,
 "nbformat_minor": 5
}
