{
 "cells": [
  {
   "metadata": {},
   "cell_type": "markdown",
   "source": "# 1)Converti COCO JSON in CSV",
   "id": "8a77807f92f26ee"
  },
  {
   "metadata": {
    "ExecuteTime": {
     "end_time": "2025-07-09T14:34:11.335224Z",
     "start_time": "2025-07-09T14:34:10.892538Z"
    }
   },
   "cell_type": "code",
   "source": [
    "import json\n",
    "import pandas as pd\n",
    "from pathlib import Path\n",
    "\n",
    "# Modifica questi percorsi in base alla tua struttura\n",
    "json_path = Path(\"/PFE_DETECTION_DATASET.v2i.coco/_annotations.coco.json\")\n",
    "images_folder = Path(\"/Users/lorenzodimaio/PyCharmMiscProject/PFE_DETECTION_DATASET.v2i.coco/train\")\n",
    "\n",
    "with open(json_path) as f:\n",
    "    coco = json.load(f)\n",
    "\n",
    "# Mappa image_id -> file_name\n",
    "id_to_filename = {img[\"id\"]: img[\"file_name\"] for img in coco[\"images\"]}\n",
    "\n",
    "# Estrai annotazioni\n",
    "rows = []\n",
    "for ann in coco[\"annotations\"]:\n",
    "    x, y, w, h = ann[\"bbox\"]\n",
    "    x1, y1 = int(x), int(y)\n",
    "    x2, y2 = int(x + w), int(y + h)\n",
    "    filename = id_to_filename[ann[\"image_id\"]]\n",
    "    rows.append({\n",
    "        \"filename\": filename,\n",
    "        \"x1\": x1, \"y1\": y1,\n",
    "        \"x2\": x2, \"y2\": y2,\n",
    "        \"class\": ann.get(\"category_id\", 0)\n",
    "    })\n",
    "\n",
    "df = pd.DataFrame(rows)\n",
    "df.to_csv(\"annotations.csv\", index=False)\n",
    "print(\"✅ Creato file annotations.csv\")\n"
   ],
   "id": "fbc121e30a2defb3",
   "outputs": [
    {
     "name": "stdout",
     "output_type": "stream",
     "text": [
      "✅ Creato file annotations.csv\n"
     ]
    }
   ],
   "execution_count": 1
  },
  {
   "metadata": {},
   "cell_type": "markdown",
   "source": "# 1) Unificare etichette duplicati con maiuscole/minuscole diverse",
   "id": "9b6badee317d9576"
  },
  {
   "metadata": {
    "ExecuteTime": {
     "end_time": "2025-07-09T14:34:23.159794Z",
     "start_time": "2025-07-09T14:34:23.152925Z"
    }
   },
   "cell_type": "code",
   "source": [
    "import json\n",
    "from pathlib import Path\n",
    "from PIL import Image\n",
    "from torch.utils.data import Dataset, DataLoader\n",
    "import torch\n",
    "\n",
    "class CleanedCOCODataset(Dataset):\n",
    "    def __init__(self, annotation_file, img_dir, transform=None):\n",
    "        with open(annotation_file) as f:\n",
    "            coco_data = json.load(f)\n",
    "\n",
    "        self.img_dir = Path(img_dir)\n",
    "        self.transform = transform\n",
    "\n",
    "        # Step 1: Mappa nomi originali → nome pulito\n",
    "        name_map = {\n",
    "            \"MOUTH\": \"mouth\",\n",
    "            \"mouth\": \"mouth\",\n",
    "            \"EYE\": \"eye\",\n",
    "            \"eye\": \"eye\",\n",
    "            \"NOSE\": \"nose\"\n",
    "        }\n",
    "\n",
    "        # Step 2: Crea nuove categorie pulite e mappa id originale → nuovo id\n",
    "        category_id_to_name = {cat[\"id\"]: cat[\"name\"] for cat in coco_data[\"categories\"]}\n",
    "        clean_name_to_id = {}\n",
    "        old_to_new_category_id = {}\n",
    "\n",
    "        next_id = 0\n",
    "        for old_id, name in category_id_to_name.items():\n",
    "            if name in name_map:\n",
    "                clean_name = name_map[name]\n",
    "                if clean_name not in clean_name_to_id:\n",
    "                    clean_name_to_id[clean_name] = next_id\n",
    "                    next_id += 1\n",
    "                old_to_new_category_id[old_id] = clean_name_to_id[clean_name]\n",
    "\n",
    "        self.label_map = clean_name_to_id  # salva se ti serve la label per ogni ID\n",
    "\n",
    "        # Step 3: Carica immagini\n",
    "        self.images = {img[\"id\"]: img for img in coco_data[\"images\"]}\n",
    "\n",
    "        # Step 4: Riorganizza annotazioni filtrando HEAD, BABY, ecc.\n",
    "        self.annotations = {}\n",
    "        for ann in coco_data[\"annotations\"]:\n",
    "            old_cat_id = ann[\"category_id\"]\n",
    "            if old_cat_id not in old_to_new_category_id:\n",
    "                continue  # ignora categorie non mappate (es. HEAD, BABY)\n",
    "\n",
    "            new_cat_id = old_to_new_category_id[old_cat_id]\n",
    "            img_id = ann[\"image_id\"]\n",
    "            if img_id not in self.annotations:\n",
    "                self.annotations[img_id] = []\n",
    "            new_ann = {\n",
    "                \"bbox\": ann[\"bbox\"],\n",
    "                \"category_id\": new_cat_id\n",
    "            }\n",
    "            self.annotations[img_id].append(new_ann)\n",
    "\n",
    "        self.ids = list(self.annotations.keys())\n",
    "\n",
    "    def __len__(self):\n",
    "        return len(self.ids)\n",
    "\n",
    "    def __getitem__(self, idx):\n",
    "        img_id = self.ids[idx]\n",
    "        img_info = self.images[img_id]\n",
    "        img_path = self.img_dir / img_info[\"file_name\"]\n",
    "        image = Image.open(img_path).convert(\"RGB\")\n",
    "\n",
    "        boxes = []\n",
    "        labels = []\n",
    "        for ann in self.annotations[img_id]:\n",
    "            x, y, w, h = ann[\"bbox\"]\n",
    "            boxes.append([x, y, x + w, y + h])\n",
    "            labels.append(ann[\"category_id\"])\n",
    "\n",
    "        boxes = torch.tensor(boxes, dtype=torch.float32)\n",
    "        labels = torch.tensor(labels, dtype=torch.int64)\n",
    "\n",
    "        if self.transform:\n",
    "            image = self.transform(image)\n",
    "\n",
    "        return image, boxes, labels"
   ],
   "id": "bd272431f72054a",
   "outputs": [],
   "execution_count": 4
  },
  {
   "metadata": {
    "ExecuteTime": {
     "end_time": "2025-07-09T14:39:12.910271Z",
     "start_time": "2025-07-09T14:39:12.901601Z"
    }
   },
   "cell_type": "code",
   "source": [
    "dataset = CleanedCOCODataset(\n",
    "    annotation_file=\"/Users/lorenzodimaio/PyCharmMiscProject/PFE_DETECTION_DATASET.v2i.coco/_annotations.coco.json\",\n",
    "    img_dir=\"/Users/lorenzodimaio/PyCharmMiscProject/PFE_DETECTION_DATASET.v2i.coco/train\",\n",
    "    #transform=TRANSFORM_FUNZIONE_OPZIONALE\n",
    ")"
   ],
   "id": "5e09c88a4521b802",
   "outputs": [],
   "execution_count": 5
  },
  {
   "metadata": {
    "ExecuteTime": {
     "end_time": "2025-07-09T14:42:36.954586Z",
     "start_time": "2025-07-09T14:42:36.947386Z"
    }
   },
   "cell_type": "code",
   "source": [
    "dataset.__getitem__(4) #image, boxes, labels = dataset[i]\n",
    "#'eye': 0, 'mouth': 1, 'nose': 2 -> guarda la labels!!!"
   ],
   "id": "fdeabfd1f26ef636",
   "outputs": [
    {
     "data": {
      "text/plain": [
       "(<PIL.Image.Image image mode=RGB size=640x640>,\n",
       " tensor([[338.0000, 256.0000, 440.5000, 297.0000],\n",
       "         [153.0000, 198.0000, 251.0000, 246.5000],\n",
       "         [203.0000, 272.0000, 328.5000, 344.5000]]),\n",
       " tensor([0, 0, 2]))"
      ]
     },
     "execution_count": 10,
     "metadata": {},
     "output_type": "execute_result"
    }
   ],
   "execution_count": 10
  }
 ],
 "metadata": {
  "kernelspec": {
   "display_name": "Python 3",
   "language": "python",
   "name": "python3"
  },
  "language_info": {
   "codemirror_mode": {
    "name": "ipython",
    "version": 2
   },
   "file_extension": ".py",
   "mimetype": "text/x-python",
   "name": "python",
   "nbconvert_exporter": "python",
   "pygments_lexer": "ipython2",
   "version": "2.7.6"
  }
 },
 "nbformat": 4,
 "nbformat_minor": 5
}
