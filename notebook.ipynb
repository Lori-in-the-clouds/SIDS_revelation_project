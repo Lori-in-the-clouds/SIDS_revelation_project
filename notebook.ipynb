{
 "cells": [
  {
   "metadata": {},
   "cell_type": "markdown",
   "source": "# Data Augmentation",
   "id": "c5798e7f9d0694"
  },
  {
   "metadata": {
    "ExecuteTime": {
     "end_time": "2025-07-14T12:55:01.124004Z",
     "start_time": "2025-07-14T12:55:01.106436Z"
    }
   },
   "cell_type": "code",
   "source": [
    "import albumentations as A\n",
    "import cv2\n",
    "\n",
    "baby_monitor_type_filter = A.Compose([\n",
    "    A.RandomBrightnessContrast(brightness_limit=(-0.4, -0.2), contrast_limit=(-0.3, 0), p=1.0),\n",
    "    A.MotionBlur(blur_limit=(5, 15), p=0.6),\n",
    "    A.GaussianBlur(blur_limit=(5, 11), p=0.4),\n",
    "    A.MedianBlur(blur_limit=7, p=0.3),\n",
    "    A.GaussNoise(p=0.6),\n",
    "    A.ISONoise(color_shift=(0.01, 0.03), intensity=(0.1, 0.4), p=0.3),\n",
    "    A.HueSaturationValue(hue_shift_limit=(-2, 2), sat_shift_limit=(-25, -10), val_shift_limit=(-10, 0), p=0.5),\n",
    "    A.Affine(rotate=(-15, 15), p=0.5)\n",
    "])\n",
    "\n",
    "gray_filter = A.Compose([\n",
    "    A.ToGray(p=1.0),\n",
    "    A.Affine(rotate=(-90, 90), p=0.5)\n",
    "])\n",
    "\n",
    "filter_3 = A.Compose([\n",
    "    A.ToGray(p=1.0),\n",
    "    A.RandomGamma(gamma_limit=(80, 120), p=0.5),\n",
    "    A.ImageCompression(p=0.4),\n",
    "    A.MotionBlur(blur_limit=(3, 7), p=0.4),\n",
    "    A.GaussNoise(p=0.3),\n",
    "    A.Affine(rotate=(-90, 90), p=0.5)\n",
    "])\n",
    "\n",
    "filter_4 = A.Compose([\n",
    "    A.RandomBrightnessContrast(brightness_limit=(-0.2, -0.05), contrast_limit=(-0.2, 0.05), p=1.0),\n",
    "    A.CLAHE(clip_limit=(1, 3), tile_grid_size=(8, 8), p=0.4),\n",
    "    A.Equalize(mode='cv', p=0.3),\n",
    "    A.GaussianBlur(blur_limit=(3, 7), p=0.4),\n",
    "    A.ImageCompression(p=0.3),\n",
    "    A.Affine(translate_percent={\"x\": (-0.05, 0.05), \"y\": (-0.05, 0.05)}, rotate=(-3, 3),p=0.3),\n",
    "    A.Affine(rotate=(-90, 90), p=0.5)\n",
    "])\n",
    "\n",
    "night_aug_list = [baby_monitor_type_filter, gray_filter,filter_3,filter_4]"
   ],
   "id": "d7a2898e1d9213fb",
   "outputs": [],
   "execution_count": 198
  },
  {
   "metadata": {
    "ExecuteTime": {
     "end_time": "2025-07-14T12:55:04.284110Z",
     "start_time": "2025-07-14T12:55:04.280286Z"
    }
   },
   "cell_type": "code",
   "source": [
    "def apply_transformation(image_input, image_output,mode):\n",
    "    image = cv2.imread(image_input)\n",
    "    image = cv2.cvtColor(image, cv2.COLOR_BGR2RGB)\n",
    "    augmented = night_aug_list[mode](image=image)[\"image\"]\n",
    "    augmented_bgr = cv2.cvtColor(augmented, cv2.COLOR_RGB2BGR)\n",
    "    cv2.imwrite(image_output, augmented_bgr)"
   ],
   "id": "7b42ea92da16c197",
   "outputs": [],
   "execution_count": 199
  },
  {
   "metadata": {
    "ExecuteTime": {
     "end_time": "2025-07-14T12:55:06.229219Z",
     "start_time": "2025-07-14T12:55:06.219350Z"
    }
   },
   "cell_type": "code",
   "source": [
    "from pathlib import Path\n",
    "import re\n",
    "import shutil\n",
    "\n",
    "def clean_dataset(dir):\n",
    "\n",
    "    dir_images = Path(dir+\"/images\")\n",
    "    dir_labels = Path(dir+\"/labels\")\n",
    "\n",
    "    images = sorted(f for f in dir_images.iterdir() if f.is_file())\n",
    "    labels = sorted(f for f in dir_labels.iterdir() if f.is_file())\n",
    "\n",
    "    for image in images:\n",
    "        if re.search(r\"_t\\d+\\.jpg$\", image.name):\n",
    "                image.unlink(missing_ok=True)\n",
    "\n",
    "    for label in labels:\n",
    "        if label:\n",
    "            if re.search(r\"_t\\d+\\.txt$\", label.name):\n",
    "                label.unlink(missing_ok=True)\n",
    "\n",
    "def add_items_in_dataset(dir,mode):\n",
    "    dir_images = Path(dir+\"/images\")\n",
    "    dir_labels = Path(dir+\"/labels\")\n",
    "\n",
    "    images = sorted(f for f in dir_images.iterdir() if f.is_file() and not re.search(r\"_t\\d+\\.jpg$\", f.name))\n",
    "    labels = sorted(f for f in dir_labels.iterdir() if f.is_file() and not re.search(r\"_t\\d+\\.txt$\", f.name))\n",
    "\n",
    "    for image in images:\n",
    "         if image:\n",
    "            image_name = str(image).split(\".jpg\")[0]\n",
    "            apply_transformation(str(image),str(image_name)+\"_t\"+str(mode)+\".jpg\",mode)\n",
    "    for label in labels:\n",
    "        if label:\n",
    "            label_name = str(label).split(\".txt\")[0]\n",
    "            shutil.copy2(label, Path(label_name+\"_t\"+str(mode)+\".txt\"))"
   ],
   "id": "377e13ed77fa274a",
   "outputs": [],
   "execution_count": 200
  },
  {
   "metadata": {
    "ExecuteTime": {
     "end_time": "2025-07-14T12:55:09.146775Z",
     "start_time": "2025-07-14T12:55:08.958224Z"
    }
   },
   "cell_type": "code",
   "source": "#clean_dataset(\"/Users/lorenzodimaio/PyCharmMiscProject/second_try_face_detection.v1i.yolov8/test\")",
   "id": "58e06769d85836c7",
   "outputs": [],
   "execution_count": 201
  },
  {
   "metadata": {
    "ExecuteTime": {
     "end_time": "2025-07-14T13:24:09.982712Z",
     "start_time": "2025-07-14T13:23:13.178659Z"
    }
   },
   "cell_type": "code",
   "source": [
    "#Data augmentation Test\n",
    "add_items_in_dataset(\"/Users/lorenzodimaio/PyCharmMiscProject/second_try_face_detection.v1i.yolov8/test\",0)\n",
    "add_items_in_dataset(\"/Users/lorenzodimaio/PyCharmMiscProject/second_try_face_detection.v1i.yolov8/test\",1)\n",
    "add_items_in_dataset(\"/Users/lorenzodimaio/PyCharmMiscProject/second_try_face_detection.v1i.yolov8/test\",2)\n",
    "add_items_in_dataset(\"/Users/lorenzodimaio/PyCharmMiscProject/second_try_face_detection.v1i.yolov8/test\",3)\n",
    "\n",
    "#Data augmentation Train\n",
    "add_items_in_dataset(\"/Users/lorenzodimaio/PyCharmMiscProject/second_try_face_detection.v1i.yolov8/train\",0)\n",
    "add_items_in_dataset(\"/Users/lorenzodimaio/PyCharmMiscProject/second_try_face_detection.v1i.yolov8/train\",1)\n",
    "add_items_in_dataset(\"/Users/lorenzodimaio/PyCharmMiscProject/second_try_face_detection.v1i.yolov8/train\",2)\n",
    "add_items_in_dataset(\"/Users/lorenzodimaio/PyCharmMiscProject/second_try_face_detection.v1i.yolov8/train\",3)\n",
    "\n",
    "#Data augmentation Test\n",
    "add_items_in_dataset(\"/Users/lorenzodimaio/PyCharmMiscProject/second_try_face_detection.v1i.yolov8/valid\",0)\n",
    "add_items_in_dataset(\"/Users/lorenzodimaio/PyCharmMiscProject/second_try_face_detection.v1i.yolov8/valid\",1)\n",
    "add_items_in_dataset(\"/Users/lorenzodimaio/PyCharmMiscProject/second_try_face_detection.v1i.yolov8/valid\",2)\n",
    "add_items_in_dataset(\"/Users/lorenzodimaio/PyCharmMiscProject/second_try_face_detection.v1i.yolov8/valid\",3)"
   ],
   "id": "868ba7d589af6b34",
   "outputs": [
    {
     "ename": "KeyboardInterrupt",
     "evalue": "",
     "output_type": "error",
     "traceback": [
      "\u001B[0;31m---------------------------------------------------------------------------\u001B[0m",
      "\u001B[0;31mKeyboardInterrupt\u001B[0m                         Traceback (most recent call last)",
      "Cell \u001B[0;32mIn[203], line 8\u001B[0m\n\u001B[1;32m      5\u001B[0m add_items_in_dataset(\u001B[38;5;124m\"\u001B[39m\u001B[38;5;124m/Users/lorenzodimaio/PyCharmMiscProject/second_try_face_detection.v1i.yolov8/test\u001B[39m\u001B[38;5;124m\"\u001B[39m,\u001B[38;5;241m3\u001B[39m)\n\u001B[1;32m      7\u001B[0m \u001B[38;5;66;03m#Data augmentation Train\u001B[39;00m\n\u001B[0;32m----> 8\u001B[0m \u001B[43madd_items_in_dataset\u001B[49m\u001B[43m(\u001B[49m\u001B[38;5;124;43m\"\u001B[39;49m\u001B[38;5;124;43m/Users/lorenzodimaio/PyCharmMiscProject/second_try_face_detection.v1i.yolov8/train\u001B[39;49m\u001B[38;5;124;43m\"\u001B[39;49m\u001B[43m,\u001B[49m\u001B[38;5;241;43m0\u001B[39;49m\u001B[43m)\u001B[49m\n\u001B[1;32m      9\u001B[0m add_items_in_dataset(\u001B[38;5;124m\"\u001B[39m\u001B[38;5;124m/Users/lorenzodimaio/PyCharmMiscProject/second_try_face_detection.v1i.yolov8/train\u001B[39m\u001B[38;5;124m\"\u001B[39m,\u001B[38;5;241m1\u001B[39m)\n\u001B[1;32m     10\u001B[0m add_items_in_dataset(\u001B[38;5;124m\"\u001B[39m\u001B[38;5;124m/Users/lorenzodimaio/PyCharmMiscProject/second_try_face_detection.v1i.yolov8/train\u001B[39m\u001B[38;5;124m\"\u001B[39m,\u001B[38;5;241m2\u001B[39m)\n",
      "Cell \u001B[0;32mIn[200], line 33\u001B[0m, in \u001B[0;36madd_items_in_dataset\u001B[0;34m(dir, mode)\u001B[0m\n\u001B[1;32m     31\u001B[0m      \u001B[38;5;28;01mif\u001B[39;00m image:\n\u001B[1;32m     32\u001B[0m         image_name \u001B[38;5;241m=\u001B[39m \u001B[38;5;28mstr\u001B[39m(image)\u001B[38;5;241m.\u001B[39msplit(\u001B[38;5;124m\"\u001B[39m\u001B[38;5;124m.jpg\u001B[39m\u001B[38;5;124m\"\u001B[39m)[\u001B[38;5;241m0\u001B[39m]\n\u001B[0;32m---> 33\u001B[0m         \u001B[43mapply_transformation\u001B[49m\u001B[43m(\u001B[49m\u001B[38;5;28;43mstr\u001B[39;49m\u001B[43m(\u001B[49m\u001B[43mimage\u001B[49m\u001B[43m)\u001B[49m\u001B[43m,\u001B[49m\u001B[38;5;28;43mstr\u001B[39;49m\u001B[43m(\u001B[49m\u001B[43mimage_name\u001B[49m\u001B[43m)\u001B[49m\u001B[38;5;241;43m+\u001B[39;49m\u001B[38;5;124;43m\"\u001B[39;49m\u001B[38;5;124;43m_t\u001B[39;49m\u001B[38;5;124;43m\"\u001B[39;49m\u001B[38;5;241;43m+\u001B[39;49m\u001B[38;5;28;43mstr\u001B[39;49m\u001B[43m(\u001B[49m\u001B[43mmode\u001B[49m\u001B[43m)\u001B[49m\u001B[38;5;241;43m+\u001B[39;49m\u001B[38;5;124;43m\"\u001B[39;49m\u001B[38;5;124;43m.jpg\u001B[39;49m\u001B[38;5;124;43m\"\u001B[39;49m\u001B[43m,\u001B[49m\u001B[43mmode\u001B[49m\u001B[43m)\u001B[49m\n\u001B[1;32m     34\u001B[0m \u001B[38;5;28;01mfor\u001B[39;00m label \u001B[38;5;129;01min\u001B[39;00m labels:\n\u001B[1;32m     35\u001B[0m     \u001B[38;5;28;01mif\u001B[39;00m label:\n",
      "Cell \u001B[0;32mIn[199], line 4\u001B[0m, in \u001B[0;36mapply_transformation\u001B[0;34m(image_input, image_output, mode)\u001B[0m\n\u001B[1;32m      2\u001B[0m image \u001B[38;5;241m=\u001B[39m cv2\u001B[38;5;241m.\u001B[39mimread(image_input)\n\u001B[1;32m      3\u001B[0m image \u001B[38;5;241m=\u001B[39m cv2\u001B[38;5;241m.\u001B[39mcvtColor(image, cv2\u001B[38;5;241m.\u001B[39mCOLOR_BGR2RGB)\n\u001B[0;32m----> 4\u001B[0m augmented \u001B[38;5;241m=\u001B[39m \u001B[43mnight_aug_list\u001B[49m\u001B[43m[\u001B[49m\u001B[43mmode\u001B[49m\u001B[43m]\u001B[49m\u001B[43m(\u001B[49m\u001B[43mimage\u001B[49m\u001B[38;5;241;43m=\u001B[39;49m\u001B[43mimage\u001B[49m\u001B[43m)\u001B[49m[\u001B[38;5;124m\"\u001B[39m\u001B[38;5;124mimage\u001B[39m\u001B[38;5;124m\"\u001B[39m]\n\u001B[1;32m      5\u001B[0m augmented_bgr \u001B[38;5;241m=\u001B[39m cv2\u001B[38;5;241m.\u001B[39mcvtColor(augmented, cv2\u001B[38;5;241m.\u001B[39mCOLOR_RGB2BGR)\n\u001B[1;32m      6\u001B[0m cv2\u001B[38;5;241m.\u001B[39mimwrite(image_output, augmented_bgr)\n",
      "File \u001B[0;32m/opt/anaconda3/envs/image_processing/lib/python3.10/site-packages/albumentations/core/composition.py:610\u001B[0m, in \u001B[0;36mCompose.__call__\u001B[0;34m(self, force_apply, *args, **data)\u001B[0m\n\u001B[1;32m    607\u001B[0m \u001B[38;5;28mself\u001B[39m\u001B[38;5;241m.\u001B[39mpreprocess(data)\n\u001B[1;32m    609\u001B[0m \u001B[38;5;28;01mfor\u001B[39;00m t \u001B[38;5;129;01min\u001B[39;00m \u001B[38;5;28mself\u001B[39m\u001B[38;5;241m.\u001B[39mtransforms:\n\u001B[0;32m--> 610\u001B[0m     data \u001B[38;5;241m=\u001B[39m \u001B[43mt\u001B[49m\u001B[43m(\u001B[49m\u001B[38;5;241;43m*\u001B[39;49m\u001B[38;5;241;43m*\u001B[39;49m\u001B[43mdata\u001B[49m\u001B[43m)\u001B[49m\n\u001B[1;32m    611\u001B[0m     \u001B[38;5;28mself\u001B[39m\u001B[38;5;241m.\u001B[39m_track_transform_params(t, data)\n\u001B[1;32m    612\u001B[0m     data \u001B[38;5;241m=\u001B[39m \u001B[38;5;28mself\u001B[39m\u001B[38;5;241m.\u001B[39mcheck_data_post_transform(data)\n",
      "File \u001B[0;32m/opt/anaconda3/envs/image_processing/lib/python3.10/site-packages/albumentations/core/transforms_interface.py:273\u001B[0m, in \u001B[0;36mBasicTransform.__call__\u001B[0;34m(self, force_apply, *args, **kwargs)\u001B[0m\n\u001B[1;32m    271\u001B[0m     \u001B[38;5;28;01mif\u001B[39;00m \u001B[38;5;28mself\u001B[39m\u001B[38;5;241m.\u001B[39mdeterministic:\n\u001B[1;32m    272\u001B[0m         kwargs[\u001B[38;5;28mself\u001B[39m\u001B[38;5;241m.\u001B[39msave_key][\u001B[38;5;28mid\u001B[39m(\u001B[38;5;28mself\u001B[39m)] \u001B[38;5;241m=\u001B[39m deepcopy(params)\n\u001B[0;32m--> 273\u001B[0m     \u001B[38;5;28;01mreturn\u001B[39;00m \u001B[38;5;28;43mself\u001B[39;49m\u001B[38;5;241;43m.\u001B[39;49m\u001B[43mapply_with_params\u001B[49m\u001B[43m(\u001B[49m\u001B[43mparams\u001B[49m\u001B[43m,\u001B[49m\u001B[43m \u001B[49m\u001B[38;5;241;43m*\u001B[39;49m\u001B[38;5;241;43m*\u001B[39;49m\u001B[43mkwargs\u001B[49m\u001B[43m)\u001B[49m\n\u001B[1;32m    275\u001B[0m \u001B[38;5;28;01mreturn\u001B[39;00m kwargs\n",
      "File \u001B[0;32m/opt/anaconda3/envs/image_processing/lib/python3.10/site-packages/albumentations/core/transforms_interface.py:310\u001B[0m, in \u001B[0;36mBasicTransform.apply_with_params\u001B[0;34m(self, params, *args, **kwargs)\u001B[0m\n\u001B[1;32m    307\u001B[0m     \u001B[38;5;28;01melse\u001B[39;00m:\n\u001B[1;32m    308\u001B[0m         target_function \u001B[38;5;241m=\u001B[39m \u001B[38;5;28mself\u001B[39m\u001B[38;5;241m.\u001B[39m_key2func[key]\n\u001B[1;32m    309\u001B[0m         res[key] \u001B[38;5;241m=\u001B[39m ensure_contiguous_output(\n\u001B[0;32m--> 310\u001B[0m             \u001B[43mtarget_function\u001B[49m\u001B[43m(\u001B[49m\u001B[43mensure_contiguous_output\u001B[49m\u001B[43m(\u001B[49m\u001B[43marg\u001B[49m\u001B[43m)\u001B[49m\u001B[43m,\u001B[49m\u001B[43m \u001B[49m\u001B[38;5;241;43m*\u001B[39;49m\u001B[38;5;241;43m*\u001B[39;49m\u001B[43mparams\u001B[49m\u001B[43m)\u001B[49m,\n\u001B[1;32m    311\u001B[0m         )\n\u001B[1;32m    312\u001B[0m \u001B[38;5;28;01melse\u001B[39;00m:\n\u001B[1;32m    313\u001B[0m     res[key] \u001B[38;5;241m=\u001B[39m arg\n",
      "File \u001B[0;32m/opt/anaconda3/envs/image_processing/lib/python3.10/site-packages/albumentations/augmentations/blur/transforms.py:438\u001B[0m, in \u001B[0;36mMotionBlur.apply\u001B[0;34m(self, img, kernel, **params)\u001B[0m\n\u001B[1;32m    426\u001B[0m \u001B[38;5;28;01mdef\u001B[39;00m\u001B[38;5;250m \u001B[39m\u001B[38;5;21mapply\u001B[39m(\u001B[38;5;28mself\u001B[39m, img: np\u001B[38;5;241m.\u001B[39mndarray, kernel: np\u001B[38;5;241m.\u001B[39mndarray, \u001B[38;5;241m*\u001B[39m\u001B[38;5;241m*\u001B[39mparams: Any) \u001B[38;5;241m-\u001B[39m\u001B[38;5;241m>\u001B[39m np\u001B[38;5;241m.\u001B[39mndarray:\n\u001B[1;32m    427\u001B[0m \u001B[38;5;250m    \u001B[39m\u001B[38;5;124;03m\"\"\"Apply motion blur to the input image.\u001B[39;00m\n\u001B[1;32m    428\u001B[0m \n\u001B[1;32m    429\u001B[0m \u001B[38;5;124;03m    Args:\u001B[39;00m\n\u001B[0;32m   (...)\u001B[0m\n\u001B[1;32m    436\u001B[0m \n\u001B[1;32m    437\u001B[0m \u001B[38;5;124;03m    \"\"\"\u001B[39;00m\n\u001B[0;32m--> 438\u001B[0m     \u001B[38;5;28;01mreturn\u001B[39;00m \u001B[43mfpixel\u001B[49m\u001B[38;5;241;43m.\u001B[39;49m\u001B[43mconvolve\u001B[49m\u001B[43m(\u001B[49m\u001B[43mimg\u001B[49m\u001B[43m,\u001B[49m\u001B[43m \u001B[49m\u001B[43mkernel\u001B[49m\u001B[38;5;241;43m=\u001B[39;49m\u001B[43mkernel\u001B[49m\u001B[43m)\u001B[49m\n",
      "File \u001B[0;32m/opt/anaconda3/envs/image_processing/lib/python3.10/site-packages/albucore/utils.py:115\u001B[0m, in \u001B[0;36mclipped.<locals>.wrapped_function\u001B[0;34m(img, *args, **kwargs)\u001B[0m\n\u001B[1;32m    112\u001B[0m \u001B[38;5;129m@wraps\u001B[39m(func)\n\u001B[1;32m    113\u001B[0m \u001B[38;5;28;01mdef\u001B[39;00m\u001B[38;5;250m \u001B[39m\u001B[38;5;21mwrapped_function\u001B[39m(img: np\u001B[38;5;241m.\u001B[39mndarray, \u001B[38;5;241m*\u001B[39margs: P\u001B[38;5;241m.\u001B[39margs, \u001B[38;5;241m*\u001B[39m\u001B[38;5;241m*\u001B[39mkwargs: P\u001B[38;5;241m.\u001B[39mkwargs) \u001B[38;5;241m-\u001B[39m\u001B[38;5;241m>\u001B[39m np\u001B[38;5;241m.\u001B[39mndarray:\n\u001B[1;32m    114\u001B[0m     dtype \u001B[38;5;241m=\u001B[39m img\u001B[38;5;241m.\u001B[39mdtype\n\u001B[0;32m--> 115\u001B[0m     result \u001B[38;5;241m=\u001B[39m \u001B[43mfunc\u001B[49m\u001B[43m(\u001B[49m\u001B[43mimg\u001B[49m\u001B[43m,\u001B[49m\u001B[43m \u001B[49m\u001B[38;5;241;43m*\u001B[39;49m\u001B[43margs\u001B[49m\u001B[43m,\u001B[49m\u001B[43m \u001B[49m\u001B[38;5;241;43m*\u001B[39;49m\u001B[38;5;241;43m*\u001B[39;49m\u001B[43mkwargs\u001B[49m\u001B[43m)\u001B[49m\n\u001B[1;32m    117\u001B[0m     \u001B[38;5;28;01mif\u001B[39;00m result\u001B[38;5;241m.\u001B[39mdtype \u001B[38;5;241m==\u001B[39m np\u001B[38;5;241m.\u001B[39muint8:\n\u001B[1;32m    118\u001B[0m         \u001B[38;5;28;01mreturn\u001B[39;00m result\n",
      "File \u001B[0;32m/opt/anaconda3/envs/image_processing/lib/python3.10/site-packages/albucore/decorators.py:42\u001B[0m, in \u001B[0;36mpreserve_channel_dim.<locals>.wrapped_function\u001B[0;34m(img, *args, **kwargs)\u001B[0m\n\u001B[1;32m     39\u001B[0m \u001B[38;5;129m@wraps\u001B[39m(func)\n\u001B[1;32m     40\u001B[0m \u001B[38;5;28;01mdef\u001B[39;00m\u001B[38;5;250m \u001B[39m\u001B[38;5;21mwrapped_function\u001B[39m(img: np\u001B[38;5;241m.\u001B[39mndarray, \u001B[38;5;241m*\u001B[39margs: P\u001B[38;5;241m.\u001B[39margs, \u001B[38;5;241m*\u001B[39m\u001B[38;5;241m*\u001B[39mkwargs: P\u001B[38;5;241m.\u001B[39mkwargs) \u001B[38;5;241m-\u001B[39m\u001B[38;5;241m>\u001B[39m np\u001B[38;5;241m.\u001B[39mndarray:\n\u001B[1;32m     41\u001B[0m     shape \u001B[38;5;241m=\u001B[39m img\u001B[38;5;241m.\u001B[39mshape\n\u001B[0;32m---> 42\u001B[0m     result \u001B[38;5;241m=\u001B[39m \u001B[43mfunc\u001B[49m\u001B[43m(\u001B[49m\u001B[43mimg\u001B[49m\u001B[43m,\u001B[49m\u001B[43m \u001B[49m\u001B[38;5;241;43m*\u001B[39;49m\u001B[43margs\u001B[49m\u001B[43m,\u001B[49m\u001B[43m \u001B[49m\u001B[38;5;241;43m*\u001B[39;49m\u001B[38;5;241;43m*\u001B[39;49m\u001B[43mkwargs\u001B[49m\u001B[43m)\u001B[49m\n\u001B[1;32m     43\u001B[0m     \u001B[38;5;28;01mif\u001B[39;00m \u001B[38;5;28mlen\u001B[39m(shape) \u001B[38;5;241m==\u001B[39m NUM_MULTI_CHANNEL_DIMENSIONS \u001B[38;5;129;01mand\u001B[39;00m shape[\u001B[38;5;241m-\u001B[39m\u001B[38;5;241m1\u001B[39m] \u001B[38;5;241m==\u001B[39m \u001B[38;5;241m1\u001B[39m \u001B[38;5;129;01mand\u001B[39;00m result\u001B[38;5;241m.\u001B[39mndim \u001B[38;5;241m==\u001B[39m MONO_CHANNEL_DIMENSIONS:\n\u001B[1;32m     44\u001B[0m         \u001B[38;5;28;01mreturn\u001B[39;00m np\u001B[38;5;241m.\u001B[39mexpand_dims(result, axis\u001B[38;5;241m=\u001B[39m\u001B[38;5;241m-\u001B[39m\u001B[38;5;241m1\u001B[39m)\n",
      "File \u001B[0;32m/opt/anaconda3/envs/image_processing/lib/python3.10/site-packages/albumentations/augmentations/pixel/functional.py:4066\u001B[0m, in \u001B[0;36mconvolve\u001B[0;34m(img, kernel)\u001B[0m\n\u001B[1;32m   4053\u001B[0m \u001B[38;5;250m\u001B[39m\u001B[38;5;124;03m\"\"\"Convolve an image with a kernel.\u001B[39;00m\n\u001B[1;32m   4054\u001B[0m \n\u001B[1;32m   4055\u001B[0m \u001B[38;5;124;03mThis function convolves an image with a kernel.\u001B[39;00m\n\u001B[0;32m   (...)\u001B[0m\n\u001B[1;32m   4063\u001B[0m \n\u001B[1;32m   4064\u001B[0m \u001B[38;5;124;03m\"\"\"\u001B[39;00m\n\u001B[1;32m   4065\u001B[0m conv_fn \u001B[38;5;241m=\u001B[39m maybe_process_in_chunks(cv2\u001B[38;5;241m.\u001B[39mfilter2D, ddepth\u001B[38;5;241m=\u001B[39m\u001B[38;5;241m-\u001B[39m\u001B[38;5;241m1\u001B[39m, kernel\u001B[38;5;241m=\u001B[39mkernel)\n\u001B[0;32m-> 4066\u001B[0m \u001B[38;5;28;01mreturn\u001B[39;00m \u001B[43mconv_fn\u001B[49m\u001B[43m(\u001B[49m\u001B[43mimg\u001B[49m\u001B[43m)\u001B[49m\n",
      "File \u001B[0;32m/opt/anaconda3/envs/image_processing/lib/python3.10/site-packages/albucore/utils.py:99\u001B[0m, in \u001B[0;36mmaybe_process_in_chunks.<locals>.__process_fn\u001B[0;34m(img, *process_args, **process_kwargs)\u001B[0m\n\u001B[1;32m     96\u001B[0m             chunks\u001B[38;5;241m.\u001B[39mappend(chunk)\n\u001B[1;32m     97\u001B[0m     \u001B[38;5;28;01mreturn\u001B[39;00m np\u001B[38;5;241m.\u001B[39mdstack(chunks)\n\u001B[0;32m---> 99\u001B[0m \u001B[38;5;28;01mreturn\u001B[39;00m \u001B[43mprocess_fn\u001B[49m\u001B[43m(\u001B[49m\u001B[43mimg\u001B[49m\u001B[43m,\u001B[49m\u001B[43m \u001B[49m\u001B[38;5;241;43m*\u001B[39;49m\u001B[43mall_args\u001B[49m\u001B[43m,\u001B[49m\u001B[43m \u001B[49m\u001B[38;5;241;43m*\u001B[39;49m\u001B[38;5;241;43m*\u001B[39;49m\u001B[43mall_kwargs\u001B[49m\u001B[43m)\u001B[49m\n",
      "\u001B[0;31mKeyboardInterrupt\u001B[0m: "
     ]
    }
   ],
   "execution_count": 203
  }
 ],
 "metadata": {
  "kernelspec": {
   "display_name": "Python 3",
   "language": "python",
   "name": "python3"
  },
  "language_info": {
   "codemirror_mode": {
    "name": "ipython",
    "version": 2
   },
   "file_extension": ".py",
   "mimetype": "text/x-python",
   "name": "python",
   "nbconvert_exporter": "python",
   "pygments_lexer": "ipython2",
   "version": "2.7.6"
  }
 },
 "nbformat": 4,
 "nbformat_minor": 5
}
