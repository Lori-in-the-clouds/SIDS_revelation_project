{
 "cells": [
  {
   "metadata": {},
   "cell_type": "markdown",
   "source": "# Video Prediction",
   "id": "658c09078647d636"
  },
  {
   "metadata": {},
   "cell_type": "markdown",
   "source": "## 1)Upload the model pre-trained",
   "id": "7f747c5f7ec41f4b"
  },
  {
   "cell_type": "code",
   "id": "initial_id",
   "metadata": {
    "collapsed": true,
    "ExecuteTime": {
     "end_time": "2025-09-01T17:12:31.925589Z",
     "start_time": "2025-09-01T17:12:31.113129Z"
    }
   },
   "source": [
    "%load_ext autoreload\n",
    "%autoreload 2\n",
    "import os\n",
    "import joblib\n",
    "import cv2\n",
    "import numpy as np\n",
    "\n",
    "project_dir = f\"{os.getcwd().split('SIDS_revelation_project')[0]}SIDS_revelation_project\"\n",
    "clf = joblib.load(f\"{project_dir}/video_prediction/random_forest_model.pkl\")"
   ],
   "outputs": [],
   "execution_count": 1
  },
  {
   "metadata": {},
   "cell_type": "markdown",
   "source": "## 2) Upload the Builder",
   "id": "f38b29d2be8172d1"
  },
  {
   "metadata": {
    "ExecuteTime": {
     "end_time": "2025-09-01T17:12:32.745002Z",
     "start_time": "2025-09-01T17:12:31.929124Z"
    }
   },
   "cell_type": "code",
   "source": [
    "from full_pipeline import embeddings\n",
    "builder = embeddings.EmbeddingBuilder(f\"{project_dir}/models/4.weights/best.pt\", f\"{project_dir}/datasets/onback_onstomach_v3\",mode=\"load\")"
   ],
   "id": "6453acf21bf64a00",
   "outputs": [
    {
     "name": "stdout",
     "output_type": "stream",
     "text": [
      "\n",
      "Extracting dataset info from .coco.json file:---------------------------------------------\n",
      "Dataset contains 4158 valid samples, and labels are {'baby_on_back': 1, 'baby_on_stomach': 2}\n",
      "------------------------------------------------------------------------------------------\n",
      "\n",
      "Loading features from .csv----------------------------------------------------------------\n",
      "Features loaded succesfully, in particular there are 4158 files in the dataset\n",
      "------------------------------------------------------------------------------------------\n",
      "\n",
      "Embedding builder initialized successfully------------------------------------------------\n",
      "Face detection model: 4 (YOLOv8)\n",
      "Dataset: /Users/lorenzodimaio/Download/SIDS_revelation_project/datasets/onback_onstomach_v3\n",
      "Dataset dimension: 4158\n",
      "Dataset labels: {'baby_safe': 0, 'baby_unsafe': 1}\n",
      "------------------------------------------------------------------------------------------\n"
     ]
    }
   ],
   "execution_count": 2
  },
  {
   "metadata": {},
   "cell_type": "markdown",
   "source": [
    "## 3) Video prediction function (V1)\n",
    "Processes a video by applying object detection (YOLO) and keypoint-based classification.\n",
    "\n",
    "This function reads a video file, performs object detection to extract facial keypoints,\n",
    "generates features, and applies a trained classifier to predict the baby's position\n",
    "(e.g., \"On Back\" or \"On Stomach\") frame by frame. Bounding boxes and prediction labels\n",
    "are overlaid on the video, which is saved to disk and optionally displayed.\n",
    "\n",
    "Parameters:\n",
    "- input_video_path (str): Path to the input video file.\n",
    "- builder: An instance of the EmbeddingBuilder for keypoint extraction and feature generation.\n",
    "- clf: A trained classification model for predicting the baby’s position.\n",
    "- show_confidences (bool): If True, displays confidence scores on bounding boxes.\n",
    "- show_all_boxes (bool): If True, draws all detected bounding boxes; if False, only shows the \"head\".\n",
    "- default_fps (int): Fallback FPS value if the original video FPS is unavailable.\n"
   ],
   "id": "8cb7067f211125fa"
  },
  {
   "metadata": {
    "ExecuteTime": {
     "end_time": "2025-09-01T17:12:32.808318Z",
     "start_time": "2025-09-01T17:12:32.794077Z"
    }
   },
   "cell_type": "code",
   "source": [
    "valid_boxes_per_frame_without_filter = []\n",
    "\n",
    "def process_video_without_filters(input_video_path: str, builder, clf, show_confidences: bool = True, show_all_boxes: bool = True, default_fps: int = 20):\n",
    "    cap = cv2.VideoCapture(input_video_path)\n",
    "\n",
    "    if not cap.isOpened():\n",
    "        print(\"Error in video opening\")\n",
    "    else:\n",
    "        print(\"Video uploaded correctly\")\n",
    "\n",
    "    base, ext = os.path.splitext(input_video_path)\n",
    "    output_video_path = base + \"_pred_without_filters.mp4\"\n",
    "\n",
    "    frame_width = int(cap.get(cv2.CAP_PROP_FRAME_WIDTH))\n",
    "    frame_height = int(cap.get(cv2.CAP_PROP_FRAME_HEIGHT))\n",
    "    fps = cap.get(cv2.CAP_PROP_FPS)\n",
    "\n",
    "    if fps > default_fps:\n",
    "        fps = default_fps\n",
    "\n",
    "    print(f\"FPS processing: {fps}\")\n",
    "\n",
    "    out = cv2.VideoWriter(\n",
    "        output_video_path,\n",
    "        cv2.VideoWriter_fourcc(*'mp4v'),\n",
    "        fps,\n",
    "        (frame_width, frame_height)\n",
    "    )\n",
    "\n",
    "    keypoint_colors = {\n",
    "        \"eye\": (255, 165, 0),       # orange\n",
    "        \"nose\": (127, 255, 212),    # verde acqua\n",
    "        \"mouth\": (255, 0, 255),     # fucsia\n",
    "        \"head\": (0, 0, 255)         # red\n",
    "    }\n",
    "\n",
    "    while True:\n",
    "        ret, frame = cap.read()\n",
    "        if not ret:\n",
    "            break\n",
    "\n",
    "        # Prediction with YOLO\n",
    "        results = builder.model_fd(frame, conf=0.3, verbose=False)[0]\n",
    "        kpt = builder.features_extractor(results.boxes)\n",
    "\n",
    "        required_kpts = {\"eye\", \"head\", \"nose\", \"mouth\"}\n",
    "        count_valid_boxes = sum(1 for k in required_kpts if k in kpt and kpt[k] != (-1, -1))\n",
    "        valid_boxes_per_frame_without_filter.append(count_valid_boxes)\n",
    "\n",
    "        # Draw bounding box (optional)\n",
    "        for box, cls_id, conf in zip(results.boxes.xyxy, results.boxes.cls, results.boxes.conf):\n",
    "            label = builder.classes_fd[int(cls_id.item())].lower()\n",
    "            if not show_all_boxes and label != \"head\":\n",
    "                continue\n",
    "\n",
    "            color = keypoint_colors.get(label, (255, 255, 255))  # fallback bianco\n",
    "            x1, y1, x2, y2 = map(int, box)\n",
    "            cv2.rectangle(frame, (x1, y1), (x2, y2), color, 2)\n",
    "\n",
    "            if show_confidences:\n",
    "                label_text = f\"{label} {conf.item() * 100:.1f}%\"\n",
    "            else:\n",
    "                label_text = label\n",
    "\n",
    "            cv2.putText(\n",
    "                frame,\n",
    "                label_text,\n",
    "                (x1, y1 - 10),\n",
    "                cv2.FONT_HERSHEY_SIMPLEX,\n",
    "                0.4,\n",
    "                color,\n",
    "                1\n",
    "            )\n",
    "\n",
    "        # Feature extraction\n",
    "        X = builder.create_embedding_for_video(kpt,flags=True,geometric_info=True,positions=True,positions_normalized=True).reshape(1,-1)\n",
    "        pred = clf.predict(X)[0]\n",
    "\n",
    "        if hasattr(clf, \"predict_proba\"):\n",
    "            class_index = np.where(clf.classes_ == pred)[0][0]\n",
    "            prob = clf.predict_proba(X)[0][class_index]\n",
    "            label_text = f\"{'On Back' if pred == 1 else 'On Stomach'} ({prob * 100:.1f}%)\"\n",
    "        else:\n",
    "            label_text = \"On Back\" if pred == 1 else \"On Stomach\"\n",
    "\n",
    "        # Final Visualization\n",
    "        if \"On Stomach\" in label_text:\n",
    "            color = (0, 0, 255)  # red\n",
    "        else:\n",
    "            color = (0, 255, 0)  # green\n",
    "\n",
    "        cv2.putText(frame, label_text, (10, 30), cv2.FONT_HERSHEY_SIMPLEX, 0.5, color, 2)\n",
    "\n",
    "        cv2.imshow(\"Video Prediction\", frame)\n",
    "        out.write(frame)\n",
    "\n",
    "        if cv2.waitKey(1) & 0xFF == ord('q'):\n",
    "            break\n",
    "\n",
    "    cap.release()\n",
    "    out.release()\n",
    "    cv2.destroyAllWindows()"
   ],
   "id": "851cf6c9e9ee6613",
   "outputs": [],
   "execution_count": 3
  },
  {
   "metadata": {
    "ExecuteTime": {
     "end_time": "2025-09-01T17:13:10.969721Z",
     "start_time": "2025-09-01T17:12:32.812165Z"
    }
   },
   "cell_type": "code",
   "source": "process_video_without_filters(\"/Users/lorenzodimaio/Download/SIDS_revelation_project/video_prediction/tommaso.mp4\", builder, clf,60)",
   "id": "ebec92c337725183",
   "outputs": [
    {
     "name": "stdout",
     "output_type": "stream",
     "text": [
      "Video uploaded correctly\n",
      "FPS processing: 20\n"
     ]
    }
   ],
   "execution_count": 4
  },
  {
   "metadata": {},
   "cell_type": "markdown",
   "source": [
    "## 3) Video prediction function (V2)\n",
    "The function applies dynamic contrast and brightness filters based on the quality of keypoint detection:\n",
    "- Filter Levels (0-3):\n",
    "Level 0 means no filter; levels 1 to 3 apply increasing adjustments to contrast (alpha) and brightness (beta) using cv2.convertScaleAbs.\n",
    "- Adaptive Filtering:\n",
    "The filter level adjusts dynamically depending on recent keypoint detection success over the last 25 frames:\n",
    "\t- If detection success rate is high (>50%), filters are disabled (level 0).\n",
    "\t- If success rate is low (<30%), filter intensity increases progressively to improve visibility.\n",
    "- Purpose:\n",
    "These filters enhance image quality in challenging conditions (e.g., low light), helping the model better detect keypoints and improve prediction accuracy."
   ],
   "id": "7dda2501dd1e8178"
  },
  {
   "metadata": {
    "ExecuteTime": {
     "end_time": "2025-09-01T17:13:10.989042Z",
     "start_time": "2025-09-01T17:13:10.974041Z"
    }
   },
   "cell_type": "code",
   "source": [
    "#CLAHE (Contrast Limited Adaptive Histogram Equalization)\n",
    "def apply_clahe(frame):\n",
    "    lab = cv2.cvtColor(frame, cv2.COLOR_BGR2LAB)\n",
    "    l, a, b = cv2.split(lab)\n",
    "\n",
    "    clahe = cv2.createCLAHE(clipLimit=2.0, tileGridSize=(8,8))\n",
    "    l_clahe = clahe.apply(l)\n",
    "\n",
    "    merged = cv2.merge((l_clahe, a, b))\n",
    "    return cv2.cvtColor(merged, cv2.COLOR_LAB2BGR)"
   ],
   "id": "aac4de21800f3ab8",
   "outputs": [],
   "execution_count": 5
  },
  {
   "metadata": {
    "ExecuteTime": {
     "end_time": "2025-09-01T17:13:11.008197Z",
     "start_time": "2025-09-01T17:13:10.992996Z"
    }
   },
   "cell_type": "code",
   "source": [
    "def enhance_contrast_brightness(frame,level):\n",
    "\n",
    "    frame = apply_clahe(frame)\n",
    "\n",
    "    if level == 1:\n",
    "        alpha, beta = 1.1, 10   # Poco contrasto, poca luce\n",
    "    elif level == 2:\n",
    "        alpha, beta = 1.5, 30   # Medio contrasto/luminosità\n",
    "    elif level == 3:\n",
    "        alpha, beta = 5.0, 50   # Più aggressivo\n",
    "    else:\n",
    "        raise ValueError(\"level must be 1, 2, or 3\")\n",
    "\n",
    "    return cv2.convertScaleAbs(frame, alpha=alpha, beta=beta)"
   ],
   "id": "a13ce974a214db93",
   "outputs": [],
   "execution_count": 6
  },
  {
   "metadata": {
    "ExecuteTime": {
     "end_time": "2025-09-01T17:13:11.031778Z",
     "start_time": "2025-09-01T17:13:11.011938Z"
    }
   },
   "cell_type": "code",
   "source": [
    "from collections import deque\n",
    "\n",
    "good_boxes_history = deque(maxlen=25)\n",
    "valid_boxes_per_frame_with_filter = []\n",
    "\n",
    "def process_video_with_filters(input_video_path: str, builder, clf, show_confidences: bool = True, show_all_boxes: bool = True, default_fps: int = 20, verbose = False):\n",
    "    cap = cv2.VideoCapture(input_video_path)\n",
    "\n",
    "    if not cap.isOpened():\n",
    "        print(\"Error in video opening\")\n",
    "    else:\n",
    "        print(\"Video uploaded correctly\")\n",
    "\n",
    "    base, ext = os.path.splitext(input_video_path)\n",
    "    output_video_path = base + \"_pred_with_filters.mp4\"\n",
    "\n",
    "    frame_width = int(cap.get(cv2.CAP_PROP_FRAME_WIDTH))\n",
    "    frame_height = int(cap.get(cv2.CAP_PROP_FRAME_HEIGHT))\n",
    "    fps = cap.get(cv2.CAP_PROP_FPS)\n",
    "\n",
    "    if fps > default_fps:\n",
    "        fps = default_fps\n",
    "\n",
    "    print(f\"FPS processing: {fps}\")\n",
    "\n",
    "    out = cv2.VideoWriter(\n",
    "        output_video_path,\n",
    "        cv2.VideoWriter_fourcc(*'mp4v'),\n",
    "        fps,\n",
    "        (frame_width, frame_height)\n",
    "    )\n",
    "\n",
    "    keypoint_colors = {\n",
    "        \"eye\": (255, 165, 0),       # orange\n",
    "        \"nose\": (127, 255, 212),    # verde acqua\n",
    "        \"mouth\": (255, 0, 255),     # fucsia\n",
    "        \"head\": (0, 0, 255)         # red\n",
    "    }\n",
    "\n",
    "    level = 0 # 0 = no filter, 1/2/3 = filtro\n",
    "    required_kpts = {\"eye1\",\"eye2\",\"head\", \"nose\", \"mouth\"}\n",
    "\n",
    "    stable_success_counter = 0\n",
    "    min_stable_success_frames = 100  # ← tollerance, to be more conservative and stable\n",
    "\n",
    "    while True:\n",
    "        ret, frame = cap.read()\n",
    "        if not ret:\n",
    "            break\n",
    "\n",
    "        # Apply filter only if level > 0\n",
    "        if level > 0:\n",
    "            frame = enhance_contrast_brightness(frame, level)\n",
    "            if verbose:\n",
    "                print(f\"🔧 Applying filter level {level}\")\n",
    "\n",
    "        # Prediction YOLO\n",
    "        results = builder.model_fd(frame, conf=0.3, verbose=False)[0]\n",
    "        kpt = builder.features_extractor(results.boxes)\n",
    "\n",
    "\n",
    "        #Debug\n",
    "        count_valid_boxes = sum(1 for k in required_kpts if k in kpt and kpt[k] != (-1, -1))\n",
    "        valid_boxes_per_frame_with_filter.append(count_valid_boxes)\n",
    "\n",
    "        # Good if there is at least one keypoint\n",
    "        has_any_keypoint = any(k in kpt and kpt[k] != (-1, -1)\n",
    "                               for k in required_kpts)\n",
    "\n",
    "        #Update the results\n",
    "        good_boxes_history.append(1 if has_any_keypoint else 0)\n",
    "\n",
    "        # Calculate the success rate\n",
    "        success_rate = sum(good_boxes_history) / len(good_boxes_history) if good_boxes_history else 0\n",
    "\n",
    "        # Counter to improve stability\n",
    "        if has_any_keypoint:\n",
    "            stable_success_counter += 1\n",
    "        else:\n",
    "            stable_success_counter = 0\n",
    "\n",
    "        # Evaluate filter activation or deactivation\n",
    "        if success_rate > 0.7 and level > 0:\n",
    "            if stable_success_counter >= min_stable_success_frames:\n",
    "                if verbose:\n",
    "                    print(f\"Buoni box frequenti ({success_rate*100:.1f}%) → disattivo filtro\")\n",
    "                level = max(0, level - 1)\n",
    "                stable_success_counter = 0\n",
    "\n",
    "        elif success_rate < 0.3:\n",
    "            if level < 3:\n",
    "                level = min(3, level + 1)\n",
    "                if verbose:\n",
    "                    print(f\"Success rate basso ({success_rate*100:.1f}%) → aumento filtro a livello {level}\")\n",
    "                stable_success_counter = 0\n",
    "\n",
    "        # Draw bounding box (optional)\n",
    "        for box, cls_id, conf in zip(results.boxes.xyxy, results.boxes.cls, results.boxes.conf):\n",
    "            label = builder.classes_fd[int(cls_id.item())].lower()\n",
    "            if not show_all_boxes and label != \"head\":\n",
    "                continue\n",
    "\n",
    "            color = keypoint_colors.get(label, (255, 255, 255))  # fallback bianco\n",
    "            x1, y1, x2, y2 = map(int, box)\n",
    "            cv2.rectangle(frame, (x1, y1), (x2, y2), color, 2)\n",
    "\n",
    "            if show_confidences:\n",
    "                label_text = f\"{label} {conf.item() * 100:.1f}%\"\n",
    "            else:\n",
    "                label_text = label\n",
    "\n",
    "            cv2.putText(\n",
    "                frame,\n",
    "                label_text,\n",
    "                (x1, y1 - 10),\n",
    "                cv2.FONT_HERSHEY_SIMPLEX,\n",
    "                0.4,\n",
    "                color,\n",
    "                1\n",
    "            )\n",
    "\n",
    "\n",
    "        X = builder.create_embedding_for_video(kpt,flags=True,positions=True,geometric_info=True,positions_normalized=True).reshape(1,-1)\n",
    "\n",
    "        pred = clf.predict(X)[0]\n",
    "\n",
    "        if hasattr(clf, \"predict_proba\"):\n",
    "            class_index = np.where(clf.classes_ == pred)[0][0]\n",
    "            prob = clf.predict_proba(X)[0][class_index]\n",
    "            label_text = f\"{'Safe' if pred == 1 else 'In Danger'} ({prob * 100:.1f}%)\"\n",
    "        else:\n",
    "            label_text = \"Safe\" if pred == 1 else \"In Danger\"\n",
    "\n",
    "        # Final Visualization\n",
    "        if \"In Danger\" in label_text:\n",
    "            color = (0, 0, 255)  # red\n",
    "        else:\n",
    "            color = (0, 255, 0)  # green\n",
    "\n",
    "        cv2.putText(frame, label_text, (10, 30), cv2.FONT_HERSHEY_SIMPLEX, 0.5, color, 2)\n",
    "\n",
    "        cv2.imshow(\"Video Prediction\", frame)\n",
    "        out.write(frame)\n",
    "\n",
    "        if cv2.waitKey(1) & 0xFF == ord('q'):\n",
    "            break\n",
    "\n",
    "    cap.release()\n",
    "    out.release()\n",
    "    cv2.destroyAllWindows()\n"
   ],
   "id": "d1b6a509dd653fd3",
   "outputs": [],
   "execution_count": 7
  },
  {
   "metadata": {
    "ExecuteTime": {
     "end_time": "2025-09-01T17:13:51.124058Z",
     "start_time": "2025-09-01T17:13:11.035701Z"
    }
   },
   "cell_type": "code",
   "source": "process_video_with_filters(\"/Users/lorenzodimaio/Download/SIDS_revelation_project/video_prediction/tommaso.mp4\", builder, clf,60)",
   "id": "5396520e40e88944",
   "outputs": [
    {
     "name": "stdout",
     "output_type": "stream",
     "text": [
      "Video uploaded correctly\n",
      "FPS processing: 20\n"
     ]
    }
   ],
   "execution_count": 8
  },
  {
   "metadata": {},
   "cell_type": "markdown",
   "source": "# Comparison Prediction With_filter vs Without_filter",
   "id": "82a26add12d10b7c"
  },
  {
   "metadata": {
    "ExecuteTime": {
     "end_time": "2025-09-01T17:13:51.400570Z",
     "start_time": "2025-09-01T17:13:51.128851Z"
    }
   },
   "cell_type": "code",
   "source": [
    "import matplotlib.pyplot as plt\n",
    "\n",
    "# Counts how many frames have 0 and how many >=1 box\n",
    "def count_zero_nonzero(lst):\n",
    "    zeros = sum(1 for x in lst if x == 0)\n",
    "    nonzeros = len(lst) - zeros\n",
    "    return [zeros, nonzeros]\n",
    "\n",
    "counts_with = count_zero_nonzero(valid_boxes_per_frame_with_filter)\n",
    "counts_without = count_zero_nonzero(valid_boxes_per_frame_without_filter)\n",
    "\n",
    "labels = ['0 boxes', '≥1 boxes']\n",
    "colors = ['lightgray', 'lightgreen']\n",
    "\n",
    "# Graphics\n",
    "fig, axs = plt.subplots(1, 2, figsize=(10, 5))\n",
    "\n",
    "axs[0].pie(counts_with, labels=labels, autopct='%1.1f%%', colors=colors, startangle=90)\n",
    "axs[0].set_title('With Filter')\n",
    "\n",
    "axs[1].pie(counts_without, labels=labels, autopct='%1.1f%%', colors=colors, startangle=90)\n",
    "axs[1].set_title('Without Filter')\n",
    "\n",
    "plt.suptitle(\"Bounding Box Detection per Frame\")\n",
    "plt.show()"
   ],
   "id": "20a903ae11fe8f94",
   "outputs": [
    {
     "data": {
      "text/plain": [
       "<Figure size 1000x500 with 2 Axes>"
      ],
      "image/png": "[encoded data removed]"
     },
     "metadata": {},
     "output_type": "display_data"
    }
   ],
   "execution_count": 9
  },
  {
   "metadata": {
    "ExecuteTime": {
     "end_time": "2025-09-01T17:13:52.078555Z",
     "start_time": "2025-09-01T17:13:51.407071Z"
    }
   },
   "cell_type": "code",
   "source": [
    "import matplotlib.pyplot as plt\n",
    "\n",
    "length = min(len(valid_boxes_per_frame_with_filter), len(valid_boxes_per_frame_without_filter))\n",
    "\n",
    "data_with = valid_boxes_per_frame_with_filter[:length]\n",
    "data_without = valid_boxes_per_frame_without_filter[:length]\n",
    "\n",
    "\n",
    "x = np.arange(length)\n",
    "width = 0.4\n",
    "\n",
    "plt.figure(figsize=(12, 6))\n",
    "plt.bar(x - width/2, data_with, width, label='With Filter', alpha=0.7)\n",
    "plt.bar(x + width/2, data_without, width, label='Without Filter', alpha=0.7)\n",
    "plt.xlabel('Frame number')\n",
    "plt.ylabel('Number of detected keypoints')\n",
    "plt.title('Bounding boxes per frame: With vs Without Filter')\n",
    "plt.legend()\n",
    "plt.show()"
   ],
   "id": "5e25d1898ebc9d0c",
   "outputs": [
    {
     "data": {
      "text/plain": [
       "<Figure size 1200x600 with 1 Axes>"
      ],
      "image/png": "[encoded data removed]"
     },
     "metadata": {},
     "output_type": "display_data"
    }
   ],
   "execution_count": 10
  },
  {
   "metadata": {
    "ExecuteTime": {
     "end_time": "2025-09-01T17:13:52.138037Z",
     "start_time": "2025-09-01T17:13:52.087690Z"
    }
   },
   "cell_type": "code",
   "source": [
    "total_with_filter = sum(valid_boxes_per_frame_with_filter)\n",
    "total_without_filter = sum(valid_boxes_per_frame_without_filter)\n",
    "\n",
    "print(f\"Total with filter: {total_with_filter}\")\n",
    "print(f\"Total without filter: {total_without_filter}\")\n",
    "\n",
    "labels = ['With Filter', 'Without Filter']\n",
    "totals = [total_with_filter, total_without_filter]\n",
    "\n",
    "# Grafico a barre\n",
    "plt.bar(labels, totals, color=['skyblue', 'salmon'])\n",
    "plt.title(\"Total Bounding Boxes Detected\")\n",
    "plt.ylabel(\"Number of Bounding Boxes\")\n",
    "plt.show()"
   ],
   "id": "dca72f0ac9bce97c",
   "outputs": [
    {
     "name": "stdout",
     "output_type": "stream",
     "text": [
      "Total with filter: 672\n",
      "Total without filter: 395\n"
     ]
    },
    {
     "data": {
      "text/plain": [
       "<Figure size 640x480 with 1 Axes>"
      ],
      "image/png": "[encoded data removed]"
     },
     "metadata": {},
     "output_type": "display_data"
    }
   ],
   "execution_count": 11
  }
 ],
 "metadata": {
  "kernelspec": {
   "display_name": "Python 3",
   "language": "python",
   "name": "python3"
  },
  "language_info": {
   "codemirror_mode": {
    "name": "ipython",
    "version": 2
   },
   "file_extension": ".py",
   "mimetype": "text/x-python",
   "name": "python",
   "nbconvert_exporter": "python",
   "pygments_lexer": "ipython2",
   "version": "2.7.6"
  }
 },
 "nbformat": 4,
 "nbformat_minor": 5
}
